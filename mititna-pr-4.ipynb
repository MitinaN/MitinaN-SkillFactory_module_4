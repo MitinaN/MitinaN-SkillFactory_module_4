{
 "cells": [
  {
   "cell_type": "code",
   "execution_count": 1,
   "metadata": {
    "execution": {
     "iopub.execute_input": "2020-11-09T05:47:32.621533Z",
     "iopub.status.busy": "2020-11-09T05:47:32.618736Z",
     "iopub.status.idle": "2020-11-09T05:47:33.721679Z",
     "shell.execute_reply": "2020-11-09T05:47:33.720904Z"
    },
    "papermill": {
     "duration": 1.193374,
     "end_time": "2020-11-09T05:47:33.721852",
     "exception": false,
     "start_time": "2020-11-09T05:47:32.528478",
     "status": "completed"
    },
    "tags": []
   },
   "outputs": [],
   "source": [
    "# Импортируем библиотеки\n",
    "\n",
    "from pandas import Series\n",
    "import pandas as pd\n",
    "import numpy as np\n",
    "from datetime import date\n",
    "\n",
    "\n",
    "import matplotlib.pyplot as plt\n",
    "import seaborn as sns\n",
    "%matplotlib inline\n",
    "import itertools\n",
    "\n",
    "from sklearn.feature_selection import f_classif, mutual_info_classif\n",
    "from sklearn.preprocessing import LabelEncoder, OneHotEncoder, StandardScaler\n",
    "from sklearn.preprocessing import PolynomialFeatures\n",
    "\n",
    "from sklearn.model_selection import train_test_split, GridSearchCV\n",
    "from sklearn.linear_model import LogisticRegression\n",
    "\n",
    "\n",
    "from sklearn.metrics import accuracy_score, precision_score, recall_score, f1_score, confusion_matrix\n",
    "from sklearn.metrics import auc, roc_auc_score, roc_curve, precision_recall_curve, average_precision_score\n",
    "\n",
    "from sklearn.preprocessing import LabelEncoder\n",
    "\n",
    "from sklearn.metrics import confusion_matrix\n",
    "from sklearn.metrics import auc, roc_auc_score, roc_curve"
   ]
  },
  {
   "cell_type": "code",
   "execution_count": 2,
   "metadata": {
    "_cell_guid": "b1076dfc-b9ad-4769-8c92-a6c4dae69d19",
    "_uuid": "8f2839f25d086af736a60e9eeb907d3b93b6e0e5",
    "execution": {
     "iopub.execute_input": "2020-11-09T05:47:33.889451Z",
     "iopub.status.busy": "2020-11-09T05:47:33.888444Z",
     "iopub.status.idle": "2020-11-09T05:47:33.894526Z",
     "shell.execute_reply": "2020-11-09T05:47:33.893795Z"
    },
    "papermill": {
     "duration": 0.09114,
     "end_time": "2020-11-09T05:47:33.894656",
     "exception": false,
     "start_time": "2020-11-09T05:47:33.803516",
     "status": "completed"
    },
    "tags": []
   },
   "outputs": [
    {
     "name": "stdout",
     "output_type": "stream",
     "text": [
      "/kaggle/input/sf-dst-scoring/sample_submission.csv\n",
      "/kaggle/input/sf-dst-scoring/test.csv\n",
      "/kaggle/input/sf-dst-scoring/train.csv\n"
     ]
    }
   ],
   "source": [
    "import os\n",
    "for dirname, _, filenames in os.walk('/kaggle/input'):\n",
    "    for filename in filenames:\n",
    "        print(os.path.join(dirname, filename))"
   ]
  },
  {
   "cell_type": "code",
   "execution_count": 3,
   "metadata": {
    "execution": {
     "iopub.execute_input": "2020-11-09T05:47:34.061489Z",
     "iopub.status.busy": "2020-11-09T05:47:34.060856Z",
     "iopub.status.idle": "2020-11-09T05:47:36.400188Z",
     "shell.execute_reply": "2020-11-09T05:47:36.399483Z"
    },
    "papermill": {
     "duration": 2.425163,
     "end_time": "2020-11-09T05:47:36.400305",
     "exception": false,
     "start_time": "2020-11-09T05:47:33.975142",
     "status": "completed"
    },
    "tags": []
   },
   "outputs": [],
   "source": [
    "#Setting the conditions for experiments.\n",
    "rsndom_seed = 42\n",
    "data_directory = '/kaggle/input/sf-dst-scoring/'\n",
    "!pip freeze > requirements.txt"
   ]
  },
  {
   "cell_type": "code",
   "execution_count": 4,
   "metadata": {
    "_cell_guid": "79c7e3d0-c299-4dcb-8224-4455121ee9b0",
    "_uuid": "d629ff2d2480ee46fbb7e2d37f6b5fab8052498a",
    "execution": {
     "iopub.execute_input": "2020-11-09T05:47:36.568002Z",
     "iopub.status.busy": "2020-11-09T05:47:36.567296Z",
     "iopub.status.idle": "2020-11-09T05:47:36.784199Z",
     "shell.execute_reply": "2020-11-09T05:47:36.783512Z"
    },
    "papermill": {
     "duration": 0.303529,
     "end_time": "2020-11-09T05:47:36.784311",
     "exception": false,
     "start_time": "2020-11-09T05:47:36.480782",
     "status": "completed"
    },
    "tags": []
   },
   "outputs": [],
   "source": [
    "# Импорт данных\n",
    "data_train = pd.read_csv(data_directory+'train.csv')\n",
    "data_test = pd.read_csv(data_directory+'test.csv')\n",
    "#sample_submission = pd.read_csv(data_directory+'/sample_submission.csv')"
   ]
  },
  {
   "cell_type": "code",
   "execution_count": 5,
   "metadata": {
    "execution": {
     "iopub.execute_input": "2020-11-09T05:47:36.959256Z",
     "iopub.status.busy": "2020-11-09T05:47:36.956626Z",
     "iopub.status.idle": "2020-11-09T05:47:37.025860Z",
     "shell.execute_reply": "2020-11-09T05:47:37.025166Z"
    },
    "papermill": {
     "duration": 0.15826,
     "end_time": "2020-11-09T05:47:37.025978",
     "exception": false,
     "start_time": "2020-11-09T05:47:36.867718",
     "status": "completed"
    },
    "tags": []
   },
   "outputs": [],
   "source": [
    "# Объединим в общий датасет\n",
    "data_train['sample'] = 1 #трейн\n",
    "data_test['sample'] = 0 # тест\n",
    "train = data_train.append(data_test, sort=False).reset_index(drop=True)"
   ]
  },
  {
   "cell_type": "markdown",
   "metadata": {
    "papermill": {
     "duration": 0.081361,
     "end_time": "2020-11-09T05:47:37.187590",
     "exception": false,
     "start_time": "2020-11-09T05:47:37.106229",
     "status": "completed"
    },
    "tags": []
   },
   "source": [
    "# Предобработка"
   ]
  },
  {
   "cell_type": "code",
   "execution_count": 6,
   "metadata": {
    "execution": {
     "iopub.execute_input": "2020-11-09T05:47:37.359090Z",
     "iopub.status.busy": "2020-11-09T05:47:37.358424Z",
     "iopub.status.idle": "2020-11-09T05:47:37.361454Z",
     "shell.execute_reply": "2020-11-09T05:47:37.360958Z"
    },
    "papermill": {
     "duration": 0.093773,
     "end_time": "2020-11-09T05:47:37.361560",
     "exception": false,
     "start_time": "2020-11-09T05:47:37.267787",
     "status": "completed"
    },
    "tags": []
   },
   "outputs": [],
   "source": [
    "train['education_is_nan'] = pd.isna(train['education']).astype('uint8')"
   ]
  },
  {
   "cell_type": "code",
   "execution_count": 7,
   "metadata": {
    "execution": {
     "iopub.execute_input": "2020-11-09T05:47:37.539028Z",
     "iopub.status.busy": "2020-11-09T05:47:37.538253Z",
     "iopub.status.idle": "2020-11-09T05:47:37.540750Z",
     "shell.execute_reply": "2020-11-09T05:47:37.541218Z"
    },
    "papermill": {
     "duration": 0.099141,
     "end_time": "2020-11-09T05:47:37.541369",
     "exception": false,
     "start_time": "2020-11-09T05:47:37.442228",
     "status": "completed"
    },
    "tags": []
   },
   "outputs": [],
   "source": [
    "def univariate_categorical(feature,ylog=False,label_rotation=False,horizontal_layout=True):\n",
    "    train1 = train[train['sample'] == 1]\n",
    "    temp = train1[feature].value_counts()\n",
    "    df1 = pd.DataFrame({feature: temp.index,'Number of contracts': temp.values})\n",
    "\n",
    "    # Calculate the percentage of target=1 per category value\n",
    "    cat_perc = train1[[feature, 'default']].groupby([feature],as_index=False).mean()\n",
    "    cat_perc[\"default\"] = cat_perc[\"default\"]*100\n",
    "    cat_perc.sort_values(by='default', ascending=False, inplace=True)\n",
    "    \n",
    "    if(horizontal_layout):\n",
    "        fig, (ax1, ax2) = plt.subplots(ncols=2, figsize=(12,6))\n",
    "    else:\n",
    "        fig, (ax1, ax2) = plt.subplots(nrows=2, figsize=(20,24))\n",
    "        \n",
    "    # 1. Subplot 1: Count plot of categorical column\n",
    "\n",
    "    s = sns.countplot(ax=ax1, \n",
    "                    x = feature, \n",
    "                    data=train1,\n",
    "                    hue =\"default\",\n",
    "                    order=cat_perc[feature],       \n",
    "                    palette=['g','r'])\n",
    "    \n",
    "    # Define common styling\n",
    "    ax1.set_title(feature, fontdict={'fontsize' : 10, 'fontweight' : 3, 'color' : 'Blue'}) \n",
    "    ax1.legend(['Repayer','Defaulter'])\n",
    "    \n",
    "    # If the plot is not readable, use the log scale.\n",
    "    if ylog:\n",
    "        ax1.set_yscale('log')\n",
    "        ax1.set_ylabel(\"Count (log)\",fontdict={'fontsize' : 10, 'fontweight' : 3, 'color' : 'Blue'})   \n",
    "    \n",
    "    \n",
    "    if(label_rotation):\n",
    "        s.set_xticklabels(s.get_xticklabels(),rotation=90)\n",
    "    \n",
    "    # 2. Subplot 2: Percentage of defaulters within the categorical column\n",
    "    s = sns.barplot(ax=ax2, \n",
    "                    x = feature, \n",
    "                    y='default', \n",
    "                    order=cat_perc[feature], \n",
    "                    data=cat_perc,\n",
    "                    palette='Set2')\n",
    "    \n",
    "    if(label_rotation):\n",
    "        s.set_xticklabels(s.get_xticklabels(),rotation=90)\n",
    "    plt.ylabel('Percent of Defaulters [%]', fontsize=10)\n",
    "    plt.tick_params(axis='both', which='major', labelsize=10)\n",
    "    ax2.set_title(feature + \" Defaulter %\", fontdict={'fontsize' : 15, 'fontweight' : 5, 'color' : 'Blue'}) \n",
    "\n",
    "    plt.show();\n",
    "    "
   ]
  },
  {
   "cell_type": "markdown",
   "metadata": {
    "papermill": {
     "duration": 0.080961,
     "end_time": "2020-11-09T05:47:37.704551",
     "exception": false,
     "start_time": "2020-11-09T05:47:37.623590",
     "status": "completed"
    },
    "tags": []
   },
   "source": [
    "# EDA"
   ]
  },
  {
   "cell_type": "markdown",
   "metadata": {
    "papermill": {
     "duration": 0.090444,
     "end_time": "2020-11-09T05:47:37.875693",
     "exception": false,
     "start_time": "2020-11-09T05:47:37.785249",
     "status": "completed"
    },
    "tags": []
   },
   "source": [
    "## Посмотрим на переменные, которые содержит датасет:\n",
    "\n",
    "client_id - идентификатор клиента\n",
    "\n",
    "app_date - дата подачи заявки\n",
    "\n",
    "education - уровень образования ('SCH', 'GRD', 'UGR', 'PGR', 'ACD')\n",
    "\n",
    "sex - пол заёмщика ('F' - женский, 'M' - мужской)\n",
    "\n",
    "age - возраст заёмщика\n",
    "\n",
    "car - флаг наличия автомобиля ('Y' - да, 'N' - нет)\n",
    "\n",
    "car_type - флаг автомобиля-иномарки ('Y' - да, 'N' - нет)\n",
    "\n",
    "decline_app_cnt - количество отказанных прошлых заявок\n",
    "\n",
    "good_work - флаг наличия «хорошей» работы ('1' - да, '0' - нет)\n",
    "\n",
    "score_bki - скоринговый балл по данным из БКИ\n",
    "\n",
    "bki_request_cnt - количество запросов в БКИ\n",
    "\n",
    "region_rating - рейтинг региона\n",
    "\n",
    "home_address - категоризатор домашнего адреса (1, 2, 3)\n",
    "\n",
    "work_address - категоризатор рабочего адреса (1, 2, 3)\n",
    "\n",
    "income - доход заёмщика\n",
    "\n",
    "sna - связь заемщика с клиентами банка\n",
    "\n",
    "foreign_passport - наличие загранпаспорта ('Y' - да, 'N' - нет)\n",
    "\n",
    "first_time - давность наличия информации о заемщике\n",
    "\n",
    "default - наличие дефолта ('1' - да, '0' - нет)\n"
   ]
  },
  {
   "cell_type": "code",
   "execution_count": 8,
   "metadata": {
    "execution": {
     "iopub.execute_input": "2020-11-09T05:47:38.060681Z",
     "iopub.status.busy": "2020-11-09T05:47:38.060077Z",
     "iopub.status.idle": "2020-11-09T05:47:38.302208Z",
     "shell.execute_reply": "2020-11-09T05:47:38.301591Z"
    },
    "papermill": {
     "duration": 0.329947,
     "end_time": "2020-11-09T05:47:38.302316",
     "exception": false,
     "start_time": "2020-11-09T05:47:37.972369",
     "status": "completed"
    },
    "tags": []
   },
   "outputs": [
    {
     "data": {
      "text/html": [
       "<div>\n",
       "<style scoped>\n",
       "    .dataframe tbody tr th:only-of-type {\n",
       "        vertical-align: middle;\n",
       "    }\n",
       "\n",
       "    .dataframe tbody tr th {\n",
       "        vertical-align: top;\n",
       "    }\n",
       "\n",
       "    .dataframe thead th {\n",
       "        text-align: right;\n",
       "    }\n",
       "</style>\n",
       "<table border=\"1\" class=\"dataframe\">\n",
       "  <thead>\n",
       "    <tr style=\"text-align: right;\">\n",
       "      <th></th>\n",
       "      <th>app_date</th>\n",
       "      <th>education</th>\n",
       "      <th>sex</th>\n",
       "      <th>car</th>\n",
       "      <th>car_type</th>\n",
       "      <th>foreign_passport</th>\n",
       "    </tr>\n",
       "  </thead>\n",
       "  <tbody>\n",
       "    <tr>\n",
       "      <th>count</th>\n",
       "      <td>110148</td>\n",
       "      <td>109670</td>\n",
       "      <td>110148</td>\n",
       "      <td>110148</td>\n",
       "      <td>110148</td>\n",
       "      <td>110148</td>\n",
       "    </tr>\n",
       "    <tr>\n",
       "      <th>unique</th>\n",
       "      <td>120</td>\n",
       "      <td>5</td>\n",
       "      <td>2</td>\n",
       "      <td>2</td>\n",
       "      <td>2</td>\n",
       "      <td>2</td>\n",
       "    </tr>\n",
       "    <tr>\n",
       "      <th>top</th>\n",
       "      <td>18MAR2014</td>\n",
       "      <td>SCH</td>\n",
       "      <td>F</td>\n",
       "      <td>N</td>\n",
       "      <td>N</td>\n",
       "      <td>N</td>\n",
       "    </tr>\n",
       "    <tr>\n",
       "      <th>freq</th>\n",
       "      <td>1491</td>\n",
       "      <td>57998</td>\n",
       "      <td>61836</td>\n",
       "      <td>74290</td>\n",
       "      <td>89140</td>\n",
       "      <td>93721</td>\n",
       "    </tr>\n",
       "  </tbody>\n",
       "</table>\n",
       "</div>"
      ],
      "text/plain": [
       "         app_date education     sex     car car_type foreign_passport\n",
       "count      110148    109670  110148  110148   110148           110148\n",
       "unique        120         5       2       2        2                2\n",
       "top     18MAR2014       SCH       F       N        N                N\n",
       "freq         1491     57998   61836   74290    89140            93721"
      ]
     },
     "metadata": {},
     "output_type": "display_data"
    },
    {
     "data": {
      "text/html": [
       "<div>\n",
       "<style scoped>\n",
       "    .dataframe tbody tr th:only-of-type {\n",
       "        vertical-align: middle;\n",
       "    }\n",
       "\n",
       "    .dataframe tbody tr th {\n",
       "        vertical-align: top;\n",
       "    }\n",
       "\n",
       "    .dataframe thead th {\n",
       "        text-align: right;\n",
       "    }\n",
       "</style>\n",
       "<table border=\"1\" class=\"dataframe\">\n",
       "  <thead>\n",
       "    <tr style=\"text-align: right;\">\n",
       "      <th></th>\n",
       "      <th>client_id</th>\n",
       "      <th>age</th>\n",
       "      <th>decline_app_cnt</th>\n",
       "      <th>good_work</th>\n",
       "      <th>score_bki</th>\n",
       "      <th>bki_request_cnt</th>\n",
       "      <th>region_rating</th>\n",
       "      <th>home_address</th>\n",
       "      <th>work_address</th>\n",
       "      <th>income</th>\n",
       "      <th>sna</th>\n",
       "      <th>first_time</th>\n",
       "      <th>default</th>\n",
       "      <th>sample</th>\n",
       "      <th>education_is_nan</th>\n",
       "    </tr>\n",
       "  </thead>\n",
       "  <tbody>\n",
       "    <tr>\n",
       "      <th>count</th>\n",
       "      <td>110148.000000</td>\n",
       "      <td>110148.000000</td>\n",
       "      <td>110148.000000</td>\n",
       "      <td>110148.000000</td>\n",
       "      <td>110148.000000</td>\n",
       "      <td>110148.000000</td>\n",
       "      <td>110148.000000</td>\n",
       "      <td>110148.000000</td>\n",
       "      <td>110148.000000</td>\n",
       "      <td>110148.000000</td>\n",
       "      <td>110148.000000</td>\n",
       "      <td>110148.000000</td>\n",
       "      <td>73799.000000</td>\n",
       "      <td>110148.000000</td>\n",
       "      <td>110148.000000</td>\n",
       "    </tr>\n",
       "    <tr>\n",
       "      <th>mean</th>\n",
       "      <td>55074.500000</td>\n",
       "      <td>39.249410</td>\n",
       "      <td>0.273205</td>\n",
       "      <td>0.165514</td>\n",
       "      <td>-1.904535</td>\n",
       "      <td>2.005002</td>\n",
       "      <td>56.751189</td>\n",
       "      <td>1.574945</td>\n",
       "      <td>2.497867</td>\n",
       "      <td>41012.648537</td>\n",
       "      <td>1.731588</td>\n",
       "      <td>2.765570</td>\n",
       "      <td>0.126994</td>\n",
       "      <td>0.669999</td>\n",
       "      <td>0.004340</td>\n",
       "    </tr>\n",
       "    <tr>\n",
       "      <th>std</th>\n",
       "      <td>31797.133063</td>\n",
       "      <td>11.518063</td>\n",
       "      <td>0.799099</td>\n",
       "      <td>0.371645</td>\n",
       "      <td>0.499397</td>\n",
       "      <td>2.266926</td>\n",
       "      <td>13.065923</td>\n",
       "      <td>0.527562</td>\n",
       "      <td>0.687651</td>\n",
       "      <td>45399.735051</td>\n",
       "      <td>1.122652</td>\n",
       "      <td>1.010151</td>\n",
       "      <td>0.332968</td>\n",
       "      <td>0.470215</td>\n",
       "      <td>0.065733</td>\n",
       "    </tr>\n",
       "    <tr>\n",
       "      <th>min</th>\n",
       "      <td>1.000000</td>\n",
       "      <td>21.000000</td>\n",
       "      <td>0.000000</td>\n",
       "      <td>0.000000</td>\n",
       "      <td>-3.624586</td>\n",
       "      <td>0.000000</td>\n",
       "      <td>20.000000</td>\n",
       "      <td>1.000000</td>\n",
       "      <td>1.000000</td>\n",
       "      <td>1000.000000</td>\n",
       "      <td>1.000000</td>\n",
       "      <td>1.000000</td>\n",
       "      <td>0.000000</td>\n",
       "      <td>0.000000</td>\n",
       "      <td>0.000000</td>\n",
       "    </tr>\n",
       "    <tr>\n",
       "      <th>25%</th>\n",
       "      <td>27537.750000</td>\n",
       "      <td>30.000000</td>\n",
       "      <td>0.000000</td>\n",
       "      <td>0.000000</td>\n",
       "      <td>-2.260434</td>\n",
       "      <td>0.000000</td>\n",
       "      <td>50.000000</td>\n",
       "      <td>1.000000</td>\n",
       "      <td>2.000000</td>\n",
       "      <td>20000.000000</td>\n",
       "      <td>1.000000</td>\n",
       "      <td>2.000000</td>\n",
       "      <td>0.000000</td>\n",
       "      <td>0.000000</td>\n",
       "      <td>0.000000</td>\n",
       "    </tr>\n",
       "    <tr>\n",
       "      <th>50%</th>\n",
       "      <td>55074.500000</td>\n",
       "      <td>37.000000</td>\n",
       "      <td>0.000000</td>\n",
       "      <td>0.000000</td>\n",
       "      <td>-1.920823</td>\n",
       "      <td>1.000000</td>\n",
       "      <td>50.000000</td>\n",
       "      <td>2.000000</td>\n",
       "      <td>3.000000</td>\n",
       "      <td>30000.000000</td>\n",
       "      <td>1.000000</td>\n",
       "      <td>3.000000</td>\n",
       "      <td>0.000000</td>\n",
       "      <td>1.000000</td>\n",
       "      <td>0.000000</td>\n",
       "    </tr>\n",
       "    <tr>\n",
       "      <th>75%</th>\n",
       "      <td>82611.250000</td>\n",
       "      <td>48.000000</td>\n",
       "      <td>0.000000</td>\n",
       "      <td>0.000000</td>\n",
       "      <td>-1.567888</td>\n",
       "      <td>3.000000</td>\n",
       "      <td>60.000000</td>\n",
       "      <td>2.000000</td>\n",
       "      <td>3.000000</td>\n",
       "      <td>48000.000000</td>\n",
       "      <td>2.000000</td>\n",
       "      <td>4.000000</td>\n",
       "      <td>0.000000</td>\n",
       "      <td>1.000000</td>\n",
       "      <td>0.000000</td>\n",
       "    </tr>\n",
       "    <tr>\n",
       "      <th>max</th>\n",
       "      <td>110148.000000</td>\n",
       "      <td>72.000000</td>\n",
       "      <td>33.000000</td>\n",
       "      <td>1.000000</td>\n",
       "      <td>0.199773</td>\n",
       "      <td>53.000000</td>\n",
       "      <td>80.000000</td>\n",
       "      <td>3.000000</td>\n",
       "      <td>3.000000</td>\n",
       "      <td>1000000.000000</td>\n",
       "      <td>4.000000</td>\n",
       "      <td>4.000000</td>\n",
       "      <td>1.000000</td>\n",
       "      <td>1.000000</td>\n",
       "      <td>1.000000</td>\n",
       "    </tr>\n",
       "  </tbody>\n",
       "</table>\n",
       "</div>"
      ],
      "text/plain": [
       "           client_id            age  decline_app_cnt      good_work  \\\n",
       "count  110148.000000  110148.000000    110148.000000  110148.000000   \n",
       "mean    55074.500000      39.249410         0.273205       0.165514   \n",
       "std     31797.133063      11.518063         0.799099       0.371645   \n",
       "min         1.000000      21.000000         0.000000       0.000000   \n",
       "25%     27537.750000      30.000000         0.000000       0.000000   \n",
       "50%     55074.500000      37.000000         0.000000       0.000000   \n",
       "75%     82611.250000      48.000000         0.000000       0.000000   \n",
       "max    110148.000000      72.000000        33.000000       1.000000   \n",
       "\n",
       "           score_bki  bki_request_cnt  region_rating   home_address  \\\n",
       "count  110148.000000    110148.000000  110148.000000  110148.000000   \n",
       "mean       -1.904535         2.005002      56.751189       1.574945   \n",
       "std         0.499397         2.266926      13.065923       0.527562   \n",
       "min        -3.624586         0.000000      20.000000       1.000000   \n",
       "25%        -2.260434         0.000000      50.000000       1.000000   \n",
       "50%        -1.920823         1.000000      50.000000       2.000000   \n",
       "75%        -1.567888         3.000000      60.000000       2.000000   \n",
       "max         0.199773        53.000000      80.000000       3.000000   \n",
       "\n",
       "        work_address          income            sna     first_time  \\\n",
       "count  110148.000000   110148.000000  110148.000000  110148.000000   \n",
       "mean        2.497867    41012.648537       1.731588       2.765570   \n",
       "std         0.687651    45399.735051       1.122652       1.010151   \n",
       "min         1.000000     1000.000000       1.000000       1.000000   \n",
       "25%         2.000000    20000.000000       1.000000       2.000000   \n",
       "50%         3.000000    30000.000000       1.000000       3.000000   \n",
       "75%         3.000000    48000.000000       2.000000       4.000000   \n",
       "max         3.000000  1000000.000000       4.000000       4.000000   \n",
       "\n",
       "            default         sample  education_is_nan  \n",
       "count  73799.000000  110148.000000     110148.000000  \n",
       "mean       0.126994       0.669999          0.004340  \n",
       "std        0.332968       0.470215          0.065733  \n",
       "min        0.000000       0.000000          0.000000  \n",
       "25%        0.000000       0.000000          0.000000  \n",
       "50%        0.000000       1.000000          0.000000  \n",
       "75%        0.000000       1.000000          0.000000  \n",
       "max        1.000000       1.000000          1.000000  "
      ]
     },
     "execution_count": 8,
     "metadata": {},
     "output_type": "execute_result"
    }
   ],
   "source": [
    "display(train.describe(include='object'))\n",
    "train.describe()"
   ]
  },
  {
   "cell_type": "code",
   "execution_count": 9,
   "metadata": {
    "execution": {
     "iopub.execute_input": "2020-11-09T05:47:38.472240Z",
     "iopub.status.busy": "2020-11-09T05:47:38.471364Z",
     "iopub.status.idle": "2020-11-09T05:47:38.508950Z",
     "shell.execute_reply": "2020-11-09T05:47:38.508274Z"
    },
    "papermill": {
     "duration": 0.124154,
     "end_time": "2020-11-09T05:47:38.509066",
     "exception": false,
     "start_time": "2020-11-09T05:47:38.384912",
     "status": "completed"
    },
    "tags": []
   },
   "outputs": [
    {
     "data": {
      "text/plain": [
       "client_id               0\n",
       "app_date                0\n",
       "education             478\n",
       "sex                     0\n",
       "age                     0\n",
       "car                     0\n",
       "car_type                0\n",
       "decline_app_cnt         0\n",
       "good_work               0\n",
       "score_bki               0\n",
       "bki_request_cnt         0\n",
       "region_rating           0\n",
       "home_address            0\n",
       "work_address            0\n",
       "income                  0\n",
       "sna                     0\n",
       "first_time              0\n",
       "foreign_passport        0\n",
       "default             36349\n",
       "sample                  0\n",
       "education_is_nan        0\n",
       "dtype: int64"
      ]
     },
     "execution_count": 9,
     "metadata": {},
     "output_type": "execute_result"
    }
   ],
   "source": [
    "train.isna().sum()"
   ]
  },
  {
   "cell_type": "code",
   "execution_count": 10,
   "metadata": {
    "execution": {
     "iopub.execute_input": "2020-11-09T05:47:38.678950Z",
     "iopub.status.busy": "2020-11-09T05:47:38.678262Z",
     "iopub.status.idle": "2020-11-09T05:47:38.745233Z",
     "shell.execute_reply": "2020-11-09T05:47:38.744576Z"
    },
    "papermill": {
     "duration": 0.153639,
     "end_time": "2020-11-09T05:47:38.745348",
     "exception": false,
     "start_time": "2020-11-09T05:47:38.591709",
     "status": "completed"
    },
    "tags": []
   },
   "outputs": [
    {
     "data": {
      "text/plain": [
       "client_id           110148\n",
       "app_date               120\n",
       "education                5\n",
       "sex                      2\n",
       "age                     52\n",
       "car                      2\n",
       "car_type                 2\n",
       "decline_app_cnt         24\n",
       "good_work                2\n",
       "score_bki           102618\n",
       "bki_request_cnt         40\n",
       "region_rating            7\n",
       "home_address             3\n",
       "work_address             3\n",
       "income                1207\n",
       "sna                      4\n",
       "first_time               4\n",
       "foreign_passport         2\n",
       "default                  2\n",
       "sample                   2\n",
       "education_is_nan         2\n",
       "dtype: int64"
      ]
     },
     "execution_count": 10,
     "metadata": {},
     "output_type": "execute_result"
    }
   ],
   "source": [
    "train.nunique()"
   ]
  },
  {
   "cell_type": "code",
   "execution_count": 11,
   "metadata": {
    "execution": {
     "iopub.execute_input": "2020-11-09T05:47:38.920048Z",
     "iopub.status.busy": "2020-11-09T05:47:38.919345Z",
     "iopub.status.idle": "2020-11-09T05:47:38.985938Z",
     "shell.execute_reply": "2020-11-09T05:47:38.985280Z"
    },
    "papermill": {
     "duration": 0.154797,
     "end_time": "2020-11-09T05:47:38.986051",
     "exception": false,
     "start_time": "2020-11-09T05:47:38.831254",
     "status": "completed"
    },
    "tags": []
   },
   "outputs": [
    {
     "data": {
      "text/plain": [
       "client_id           110148\n",
       "app_date               120\n",
       "education                5\n",
       "sex                      2\n",
       "age                     52\n",
       "car                      2\n",
       "car_type                 2\n",
       "decline_app_cnt         24\n",
       "good_work                2\n",
       "score_bki           102618\n",
       "bki_request_cnt         40\n",
       "region_rating            7\n",
       "home_address             3\n",
       "work_address             3\n",
       "income                1207\n",
       "sna                      4\n",
       "first_time               4\n",
       "foreign_passport         2\n",
       "default                  2\n",
       "sample                   2\n",
       "education_is_nan         2\n",
       "dtype: int64"
      ]
     },
     "execution_count": 11,
     "metadata": {},
     "output_type": "execute_result"
    }
   ],
   "source": [
    "train.nunique()"
   ]
  },
  {
   "cell_type": "code",
   "execution_count": 12,
   "metadata": {
    "execution": {
     "iopub.execute_input": "2020-11-09T05:47:39.159452Z",
     "iopub.status.busy": "2020-11-09T05:47:39.158828Z",
     "iopub.status.idle": "2020-11-09T05:47:39.206412Z",
     "shell.execute_reply": "2020-11-09T05:47:39.205866Z"
    },
    "papermill": {
     "duration": 0.136712,
     "end_time": "2020-11-09T05:47:39.206543",
     "exception": false,
     "start_time": "2020-11-09T05:47:39.069831",
     "status": "completed"
    },
    "tags": []
   },
   "outputs": [
    {
     "name": "stdout",
     "output_type": "stream",
     "text": [
      "<class 'pandas.core.frame.DataFrame'>\n",
      "RangeIndex: 110148 entries, 0 to 110147\n",
      "Data columns (total 21 columns):\n",
      " #   Column            Non-Null Count   Dtype  \n",
      "---  ------            --------------   -----  \n",
      " 0   client_id         110148 non-null  int64  \n",
      " 1   app_date          110148 non-null  object \n",
      " 2   education         109670 non-null  object \n",
      " 3   sex               110148 non-null  object \n",
      " 4   age               110148 non-null  int64  \n",
      " 5   car               110148 non-null  object \n",
      " 6   car_type          110148 non-null  object \n",
      " 7   decline_app_cnt   110148 non-null  int64  \n",
      " 8   good_work         110148 non-null  int64  \n",
      " 9   score_bki         110148 non-null  float64\n",
      " 10  bki_request_cnt   110148 non-null  int64  \n",
      " 11  region_rating     110148 non-null  int64  \n",
      " 12  home_address      110148 non-null  int64  \n",
      " 13  work_address      110148 non-null  int64  \n",
      " 14  income            110148 non-null  int64  \n",
      " 15  sna               110148 non-null  int64  \n",
      " 16  first_time        110148 non-null  int64  \n",
      " 17  foreign_passport  110148 non-null  object \n",
      " 18  default           73799 non-null   float64\n",
      " 19  sample            110148 non-null  int64  \n",
      " 20  education_is_nan  110148 non-null  uint8  \n",
      "dtypes: float64(2), int64(12), object(6), uint8(1)\n",
      "memory usage: 16.9+ MB\n"
     ]
    }
   ],
   "source": [
    "train.info()"
   ]
  },
  {
   "cell_type": "markdown",
   "metadata": {
    "papermill": {
     "duration": 0.129633,
     "end_time": "2020-11-09T05:47:39.421093",
     "exception": false,
     "start_time": "2020-11-09T05:47:39.291460",
     "status": "completed"
    },
    "tags": []
   },
   "source": [
    "Итого у нас: 110148 наблюдений. 18 признаков + целевая переменная. Пропущенные значения только в education. \n",
    "\n",
    "**числовые признаки**: client_id, age, decline_app_cnt, score_bki, bki_request_cnt, region_rating, income\n",
    "\n",
    "**бинарные признаки**: sex, car, car_type, foreign_passport, good_work, default\n",
    "\n",
    "**категориальные признаки**: education, home_address, work_address, first_time, sna\n",
    "\n",
    "плюс **дата подачи**  app_date и **бинарный целевой признак**"
   ]
  },
  {
   "cell_type": "markdown",
   "metadata": {
    "papermill": {
     "duration": 0.083336,
     "end_time": "2020-11-09T05:47:39.588465",
     "exception": false,
     "start_time": "2020-11-09T05:47:39.505129",
     "status": "completed"
    },
    "tags": []
   },
   "source": [
    "### Рассмотрим признаки по отдельности"
   ]
  },
  {
   "cell_type": "markdown",
   "metadata": {
    "papermill": {
     "duration": 0.083493,
     "end_time": "2020-11-09T05:47:39.755521",
     "exception": false,
     "start_time": "2020-11-09T05:47:39.672028",
     "status": "completed"
    },
    "tags": []
   },
   "source": [
    "# 1. app_date - дата подачи заявки"
   ]
  },
  {
   "cell_type": "code",
   "execution_count": 13,
   "metadata": {
    "execution": {
     "iopub.execute_input": "2020-11-09T05:47:39.935324Z",
     "iopub.status.busy": "2020-11-09T05:47:39.934406Z",
     "iopub.status.idle": "2020-11-09T05:47:39.979464Z",
     "shell.execute_reply": "2020-11-09T05:47:39.979989Z"
    },
    "papermill": {
     "duration": 0.14061,
     "end_time": "2020-11-09T05:47:39.980141",
     "exception": false,
     "start_time": "2020-11-09T05:47:39.839531",
     "status": "completed"
    },
    "tags": []
   },
   "outputs": [
    {
     "name": "stderr",
     "output_type": "stream",
     "text": [
      "/opt/conda/lib/python3.7/site-packages/ipykernel_launcher.py:3: FutureWarning: Treating datetime data as categorical rather than numeric in `.describe` is deprecated and will be removed in a future version of pandas. Specify `datetime_is_numeric=True` to silence this warning and adopt the future behavior now.\n",
      "  This is separate from the ipykernel package so we can avoid doing imports until\n"
     ]
    },
    {
     "data": {
      "text/plain": [
       "count                  110148\n",
       "unique                    120\n",
       "top       2014-03-18 00:00:00\n",
       "freq                     1491\n",
       "first     2014-01-01 00:00:00\n",
       "last      2014-04-30 00:00:00\n",
       "Name: app_date, dtype: object"
      ]
     },
     "execution_count": 13,
     "metadata": {},
     "output_type": "execute_result"
    }
   ],
   "source": [
    "# Добавим текущую дату\n",
    "train['app_date']= pd.to_datetime(train['app_date'])\n",
    "train.app_date.describe()"
   ]
  },
  {
   "cell_type": "code",
   "execution_count": 14,
   "metadata": {
    "execution": {
     "iopub.execute_input": "2020-11-09T05:47:40.156638Z",
     "iopub.status.busy": "2020-11-09T05:47:40.155961Z",
     "iopub.status.idle": "2020-11-09T05:47:40.227876Z",
     "shell.execute_reply": "2020-11-09T05:47:40.227342Z"
    },
    "papermill": {
     "duration": 0.163067,
     "end_time": "2020-11-09T05:47:40.227994",
     "exception": false,
     "start_time": "2020-11-09T05:47:40.064927",
     "status": "completed"
    },
    "tags": []
   },
   "outputs": [
    {
     "data": {
      "text/html": [
       "<div>\n",
       "<style scoped>\n",
       "    .dataframe tbody tr th:only-of-type {\n",
       "        vertical-align: middle;\n",
       "    }\n",
       "\n",
       "    .dataframe tbody tr th {\n",
       "        vertical-align: top;\n",
       "    }\n",
       "\n",
       "    .dataframe thead th {\n",
       "        text-align: right;\n",
       "    }\n",
       "</style>\n",
       "<table border=\"1\" class=\"dataframe\">\n",
       "  <thead>\n",
       "    <tr style=\"text-align: right;\">\n",
       "      <th></th>\n",
       "      <th>count</th>\n",
       "      <th>mean</th>\n",
       "      <th>std</th>\n",
       "      <th>min</th>\n",
       "      <th>25%</th>\n",
       "      <th>50%</th>\n",
       "      <th>75%</th>\n",
       "      <th>max</th>\n",
       "    </tr>\n",
       "    <tr>\n",
       "      <th>default</th>\n",
       "      <th></th>\n",
       "      <th></th>\n",
       "      <th></th>\n",
       "      <th></th>\n",
       "      <th></th>\n",
       "      <th></th>\n",
       "      <th></th>\n",
       "      <th></th>\n",
       "    </tr>\n",
       "  </thead>\n",
       "  <tbody>\n",
       "    <tr>\n",
       "      <th>0.0</th>\n",
       "      <td>64427.0</td>\n",
       "      <td>2.552470</td>\n",
       "      <td>1.090077</td>\n",
       "      <td>1.0</td>\n",
       "      <td>2.0</td>\n",
       "      <td>3.0</td>\n",
       "      <td>3.0</td>\n",
       "      <td>4.0</td>\n",
       "    </tr>\n",
       "    <tr>\n",
       "      <th>1.0</th>\n",
       "      <td>9372.0</td>\n",
       "      <td>2.431071</td>\n",
       "      <td>1.076444</td>\n",
       "      <td>1.0</td>\n",
       "      <td>1.0</td>\n",
       "      <td>2.0</td>\n",
       "      <td>3.0</td>\n",
       "      <td>4.0</td>\n",
       "    </tr>\n",
       "  </tbody>\n",
       "</table>\n",
       "</div>"
      ],
      "text/plain": [
       "           count      mean       std  min  25%  50%  75%  max\n",
       "default                                                      \n",
       "0.0      64427.0  2.552470  1.090077  1.0  2.0  3.0  3.0  4.0\n",
       "1.0       9372.0  2.431071  1.076444  1.0  1.0  2.0  3.0  4.0"
      ]
     },
     "execution_count": 14,
     "metadata": {},
     "output_type": "execute_result"
    }
   ],
   "source": [
    "# вычтем самую раннюю дату и преобразуем ее в дни\n",
    "train['date_diff'] = train.app_date - train.app_date.min()\n",
    "train['date_diff'] = train['date_diff'].dt.days\n",
    "#Добавим день и месяц - может связь с началом - концом месяца будет...\n",
    "train['month'] = train['app_date'].dt.month\n",
    "train[train['sample'] == 1].groupby('default').month.describe()"
   ]
  },
  {
   "cell_type": "code",
   "execution_count": 15,
   "metadata": {
    "execution": {
     "iopub.execute_input": "2020-11-09T05:47:40.403019Z",
     "iopub.status.busy": "2020-11-09T05:47:40.402272Z",
     "iopub.status.idle": "2020-11-09T05:47:40.405339Z",
     "shell.execute_reply": "2020-11-09T05:47:40.404791Z"
    },
    "papermill": {
     "duration": 0.09231,
     "end_time": "2020-11-09T05:47:40.405498",
     "exception": false,
     "start_time": "2020-11-09T05:47:40.313188",
     "status": "completed"
    },
    "tags": []
   },
   "outputs": [],
   "source": [
    "#train['day'] = train['app_date'].dt.day\n",
    "#не показал ничего хорошего"
   ]
  },
  {
   "cell_type": "markdown",
   "metadata": {
    "papermill": {
     "duration": 0.085728,
     "end_time": "2020-11-09T05:47:40.576593",
     "exception": false,
     "start_time": "2020-11-09T05:47:40.490865",
     "status": "completed"
    },
    "tags": []
   },
   "source": [
    "Период заявок с 1 января по 30 апреля 2014 года"
   ]
  },
  {
   "cell_type": "markdown",
   "metadata": {
    "papermill": {
     "duration": 0.084839,
     "end_time": "2020-11-09T05:47:40.746811",
     "exception": false,
     "start_time": "2020-11-09T05:47:40.661972",
     "status": "completed"
    },
    "tags": []
   },
   "source": [
    "# 2. client_id - идентификатор клиента"
   ]
  },
  {
   "cell_type": "code",
   "execution_count": 16,
   "metadata": {
    "execution": {
     "iopub.execute_input": "2020-11-09T05:47:40.922620Z",
     "iopub.status.busy": "2020-11-09T05:47:40.922005Z",
     "iopub.status.idle": "2020-11-09T05:47:41.016315Z",
     "shell.execute_reply": "2020-11-09T05:47:41.015671Z"
    },
    "papermill": {
     "duration": 0.18436,
     "end_time": "2020-11-09T05:47:41.016434",
     "exception": false,
     "start_time": "2020-11-09T05:47:40.832074",
     "status": "completed"
    },
    "tags": []
   },
   "outputs": [
    {
     "name": "stdout",
     "output_type": "stream",
     "text": [
      "110148\n"
     ]
    },
    {
     "data": {
      "text/plain": [
       "client_id           1.000000\n",
       "age                 0.015535\n",
       "decline_app_cnt    -0.021508\n",
       "good_work           0.003447\n",
       "score_bki          -0.061653\n",
       "bki_request_cnt    -0.027428\n",
       "region_rating       0.005720\n",
       "home_address        0.163686\n",
       "work_address        0.163422\n",
       "income             -0.002069\n",
       "sna                -0.001624\n",
       "first_time          0.016865\n",
       "default            -0.039242\n",
       "sample              0.002844\n",
       "education_is_nan   -0.008685\n",
       "date_diff           0.999581\n",
       "month               0.967146\n",
       "Name: client_id, dtype: float64"
      ]
     },
     "execution_count": 16,
     "metadata": {},
     "output_type": "execute_result"
    }
   ],
   "source": [
    "# уникальных значений\n",
    "print(train['client_id'].nunique())\n",
    "train.groupby('default').client_id.describe()\n",
    "train.corr()['client_id']"
   ]
  },
  {
   "cell_type": "code",
   "execution_count": 17,
   "metadata": {
    "execution": {
     "iopub.execute_input": "2020-11-09T05:47:41.195055Z",
     "iopub.status.busy": "2020-11-09T05:47:41.194307Z",
     "iopub.status.idle": "2020-11-09T05:47:41.608699Z",
     "shell.execute_reply": "2020-11-09T05:47:41.608099Z"
    },
    "papermill": {
     "duration": 0.506236,
     "end_time": "2020-11-09T05:47:41.608826",
     "exception": false,
     "start_time": "2020-11-09T05:47:41.102590",
     "status": "completed"
    },
    "tags": []
   },
   "outputs": [
    {
     "data": {
      "text/plain": [
       "<matplotlib.axes._subplots.AxesSubplot at 0x7f05633ca610>"
      ]
     },
     "execution_count": 17,
     "metadata": {},
     "output_type": "execute_result"
    },
    {
     "data": {
      "image/png": "[encoded data removed]",
      "text/plain": [
       "<Figure size 432x288 with 1 Axes>"
      ]
     },
     "metadata": {
      "needs_background": "light"
     },
     "output_type": "display_data"
    }
   ],
   "source": [
    "sns.scatterplot(x='client_id',y='month',data=train)"
   ]
  },
  {
   "cell_type": "code",
   "execution_count": 18,
   "metadata": {
    "execution": {
     "iopub.execute_input": "2020-11-09T05:47:41.788533Z",
     "iopub.status.busy": "2020-11-09T05:47:41.787867Z",
     "iopub.status.idle": "2020-11-09T05:47:42.151539Z",
     "shell.execute_reply": "2020-11-09T05:47:42.150898Z"
    },
    "papermill": {
     "duration": 0.456169,
     "end_time": "2020-11-09T05:47:42.151653",
     "exception": false,
     "start_time": "2020-11-09T05:47:41.695484",
     "status": "completed"
    },
    "tags": []
   },
   "outputs": [
    {
     "data": {
      "text/plain": [
       "<matplotlib.axes._subplots.AxesSubplot at 0x7f0558286890>"
      ]
     },
     "execution_count": 18,
     "metadata": {},
     "output_type": "execute_result"
    },
    {
     "data": {
      "image/png": "[encoded data removed]",
      "text/plain": [
       "<Figure size 432x288 with 1 Axes>"
      ]
     },
     "metadata": {
      "needs_background": "light"
     },
     "output_type": "display_data"
    }
   ],
   "source": [
    "sns.scatterplot(x='client_id',y='date_diff',data=train)"
   ]
  },
  {
   "cell_type": "markdown",
   "metadata": {
    "papermill": {
     "duration": 0.088305,
     "end_time": "2020-11-09T05:47:42.328942",
     "exception": false,
     "start_time": "2020-11-09T05:47:42.240637",
     "status": "completed"
    },
    "tags": []
   },
   "source": [
    "id клиента имeет уникальное значение для каждого заемщика и присваивалось по порядку в зависимости от подачи заявки. Связи с присвоением номера и наличием дефолта - нет. Сильно коррелирует с признаками по дате подачи заявки"
   ]
  },
  {
   "cell_type": "code",
   "execution_count": 19,
   "metadata": {
    "execution": {
     "iopub.execute_input": "2020-11-09T05:47:42.512711Z",
     "iopub.status.busy": "2020-11-09T05:47:42.511724Z",
     "iopub.status.idle": "2020-11-09T05:47:42.526373Z",
     "shell.execute_reply": "2020-11-09T05:47:42.525655Z"
    },
    "papermill": {
     "duration": 0.108933,
     "end_time": "2020-11-09T05:47:42.526497",
     "exception": false,
     "start_time": "2020-11-09T05:47:42.417564",
     "status": "completed"
    },
    "tags": []
   },
   "outputs": [],
   "source": [
    "# Удалим его\n",
    "train = train.drop('client_id', axis= 1)"
   ]
  },
  {
   "cell_type": "markdown",
   "metadata": {
    "papermill": {
     "duration": 0.087976,
     "end_time": "2020-11-09T05:47:42.702897",
     "exception": false,
     "start_time": "2020-11-09T05:47:42.614921",
     "status": "completed"
    },
    "tags": []
   },
   "source": [
    "# 3. age -  возраст заёмщика"
   ]
  },
  {
   "cell_type": "code",
   "execution_count": 20,
   "metadata": {
    "execution": {
     "iopub.execute_input": "2020-11-09T05:47:42.884730Z",
     "iopub.status.busy": "2020-11-09T05:47:42.884116Z",
     "iopub.status.idle": "2020-11-09T05:47:42.895742Z",
     "shell.execute_reply": "2020-11-09T05:47:42.895195Z"
    },
    "papermill": {
     "duration": 0.104727,
     "end_time": "2020-11-09T05:47:42.895888",
     "exception": false,
     "start_time": "2020-11-09T05:47:42.791161",
     "status": "completed"
    },
    "tags": []
   },
   "outputs": [
    {
     "data": {
      "text/plain": [
       "count    110148.000000\n",
       "mean         39.249410\n",
       "std          11.518063\n",
       "min          21.000000\n",
       "25%          30.000000\n",
       "50%          37.000000\n",
       "75%          48.000000\n",
       "max          72.000000\n",
       "Name: age, dtype: float64"
      ]
     },
     "execution_count": 20,
     "metadata": {},
     "output_type": "execute_result"
    }
   ],
   "source": [
    "train.age.describe()"
   ]
  },
  {
   "cell_type": "code",
   "execution_count": 21,
   "metadata": {
    "execution": {
     "iopub.execute_input": "2020-11-09T05:47:43.080559Z",
     "iopub.status.busy": "2020-11-09T05:47:43.079928Z",
     "iopub.status.idle": "2020-11-09T05:47:43.445452Z",
     "shell.execute_reply": "2020-11-09T05:47:43.444898Z"
    },
    "papermill": {
     "duration": 0.460754,
     "end_time": "2020-11-09T05:47:43.445569",
     "exception": false,
     "start_time": "2020-11-09T05:47:42.984815",
     "status": "completed"
    },
    "tags": []
   },
   "outputs": [
    {
     "data": {
      "text/plain": [
       "<matplotlib.axes._subplots.AxesSubplot at 0x7f05581b7ed0>"
      ]
     },
     "execution_count": 21,
     "metadata": {},
     "output_type": "execute_result"
    },
    {
     "data": {
      "image/png": "[encoded data removed]",
      "text/plain": [
       "<Figure size 432x288 with 1 Axes>"
      ]
     },
     "metadata": {
      "needs_background": "light"
     },
     "output_type": "display_data"
    }
   ],
   "source": [
    "train['age'].hist(bins=77)"
   ]
  },
  {
   "cell_type": "code",
   "execution_count": 22,
   "metadata": {
    "execution": {
     "iopub.execute_input": "2020-11-09T05:47:43.637126Z",
     "iopub.status.busy": "2020-11-09T05:47:43.636271Z",
     "iopub.status.idle": "2020-11-09T05:47:43.744020Z",
     "shell.execute_reply": "2020-11-09T05:47:43.743481Z"
    },
    "papermill": {
     "duration": 0.207014,
     "end_time": "2020-11-09T05:47:43.744132",
     "exception": false,
     "start_time": "2020-11-09T05:47:43.537118",
     "status": "completed"
    },
    "tags": []
   },
   "outputs": [
    {
     "data": {
      "text/plain": [
       "<matplotlib.axes._subplots.AxesSubplot at 0x7f05581ea950>"
      ]
     },
     "execution_count": 22,
     "metadata": {},
     "output_type": "execute_result"
    },
    {
     "data": {
      "image/png": "[encoded data removed]",
      "text/plain": [
       "<Figure size 432x288 with 1 Axes>"
      ]
     },
     "metadata": {
      "needs_background": "light"
     },
     "output_type": "display_data"
    }
   ],
   "source": [
    "train.boxplot(column=['age'])"
   ]
  },
  {
   "cell_type": "code",
   "execution_count": 23,
   "metadata": {
    "execution": {
     "iopub.execute_input": "2020-11-09T05:47:43.937341Z",
     "iopub.status.busy": "2020-11-09T05:47:43.936654Z",
     "iopub.status.idle": "2020-11-09T05:47:43.946702Z",
     "shell.execute_reply": "2020-11-09T05:47:43.946174Z"
    },
    "papermill": {
     "duration": 0.105385,
     "end_time": "2020-11-09T05:47:43.946833",
     "exception": false,
     "start_time": "2020-11-09T05:47:43.841448",
     "status": "completed"
    },
    "tags": []
   },
   "outputs": [
    {
     "data": {
      "text/html": [
       "<div>\n",
       "<style scoped>\n",
       "    .dataframe tbody tr th:only-of-type {\n",
       "        vertical-align: middle;\n",
       "    }\n",
       "\n",
       "    .dataframe tbody tr th {\n",
       "        vertical-align: top;\n",
       "    }\n",
       "\n",
       "    .dataframe thead th {\n",
       "        text-align: right;\n",
       "    }\n",
       "</style>\n",
       "<table border=\"1\" class=\"dataframe\">\n",
       "  <thead>\n",
       "    <tr style=\"text-align: right;\">\n",
       "      <th></th>\n",
       "      <th>age</th>\n",
       "    </tr>\n",
       "  </thead>\n",
       "  <tbody>\n",
       "    <tr>\n",
       "      <th>31</th>\n",
       "      <td>4084</td>\n",
       "    </tr>\n",
       "    <tr>\n",
       "      <th>28</th>\n",
       "      <td>4035</td>\n",
       "    </tr>\n",
       "    <tr>\n",
       "      <th>30</th>\n",
       "      <td>4035</td>\n",
       "    </tr>\n",
       "    <tr>\n",
       "      <th>27</th>\n",
       "      <td>3964</td>\n",
       "    </tr>\n",
       "    <tr>\n",
       "      <th>29</th>\n",
       "      <td>3940</td>\n",
       "    </tr>\n",
       "    <tr>\n",
       "      <th>26</th>\n",
       "      <td>3780</td>\n",
       "    </tr>\n",
       "    <tr>\n",
       "      <th>32</th>\n",
       "      <td>3773</td>\n",
       "    </tr>\n",
       "    <tr>\n",
       "      <th>34</th>\n",
       "      <td>3548</td>\n",
       "    </tr>\n",
       "    <tr>\n",
       "      <th>33</th>\n",
       "      <td>3499</td>\n",
       "    </tr>\n",
       "    <tr>\n",
       "      <th>35</th>\n",
       "      <td>3386</td>\n",
       "    </tr>\n",
       "    <tr>\n",
       "      <th>25</th>\n",
       "      <td>3292</td>\n",
       "    </tr>\n",
       "    <tr>\n",
       "      <th>36</th>\n",
       "      <td>3228</td>\n",
       "    </tr>\n",
       "    <tr>\n",
       "      <th>37</th>\n",
       "      <td>3185</td>\n",
       "    </tr>\n",
       "    <tr>\n",
       "      <th>39</th>\n",
       "      <td>3095</td>\n",
       "    </tr>\n",
       "    <tr>\n",
       "      <th>38</th>\n",
       "      <td>3070</td>\n",
       "    </tr>\n",
       "  </tbody>\n",
       "</table>\n",
       "</div>"
      ],
      "text/plain": [
       "     age\n",
       "31  4084\n",
       "28  4035\n",
       "30  4035\n",
       "27  3964\n",
       "29  3940\n",
       "26  3780\n",
       "32  3773\n",
       "34  3548\n",
       "33  3499\n",
       "35  3386\n",
       "25  3292\n",
       "36  3228\n",
       "37  3185\n",
       "39  3095\n",
       "38  3070"
      ]
     },
     "execution_count": 23,
     "metadata": {},
     "output_type": "execute_result"
    }
   ],
   "source": [
    "pd.DataFrame(train.age.value_counts()).head(15)"
   ]
  },
  {
   "cell_type": "code",
   "execution_count": 24,
   "metadata": {
    "execution": {
     "iopub.execute_input": "2020-11-09T05:47:44.135681Z",
     "iopub.status.busy": "2020-11-09T05:47:44.135033Z",
     "iopub.status.idle": "2020-11-09T05:47:44.304393Z",
     "shell.execute_reply": "2020-11-09T05:47:44.303859Z"
    },
    "papermill": {
     "duration": 0.265309,
     "end_time": "2020-11-09T05:47:44.304511",
     "exception": false,
     "start_time": "2020-11-09T05:47:44.039202",
     "status": "completed"
    },
    "tags": []
   },
   "outputs": [
    {
     "data": {
      "text/plain": [
       "<matplotlib.axes._subplots.AxesSubplot at 0x7f0558018210>"
      ]
     },
     "execution_count": 24,
     "metadata": {},
     "output_type": "execute_result"
    },
    {
     "data": {
      "image/png": "[encoded data removed]",
      "text/plain": [
       "<Figure size 432x288 with 1 Axes>"
      ]
     },
     "metadata": {
      "needs_background": "light"
     },
     "output_type": "display_data"
    }
   ],
   "source": [
    "np.log(train['age']).hist()"
   ]
  },
  {
   "cell_type": "markdown",
   "metadata": {
    "papermill": {
     "duration": 0.092715,
     "end_time": "2020-11-09T05:47:44.489413",
     "exception": false,
     "start_time": "2020-11-09T05:47:44.396698",
     "status": "completed"
    },
    "tags": []
   },
   "source": [
    "в 25-39 люди чаще всего обращаются за кредитами. Что неудивительно. Но и пенсионеры могут обратиться в банк. Выбросы не ищем поэтому.\n",
    "У распределения после логарифмирования исчезает правый хвост и оно становится ближе к нормальному"
   ]
  },
  {
   "cell_type": "code",
   "execution_count": 25,
   "metadata": {
    "execution": {
     "iopub.execute_input": "2020-11-09T05:47:44.683561Z",
     "iopub.status.busy": "2020-11-09T05:47:44.682607Z",
     "iopub.status.idle": "2020-11-09T05:47:44.690356Z",
     "shell.execute_reply": "2020-11-09T05:47:44.690892Z"
    },
    "papermill": {
     "duration": 0.107506,
     "end_time": "2020-11-09T05:47:44.691038",
     "exception": false,
     "start_time": "2020-11-09T05:47:44.583532",
     "status": "completed"
    },
    "tags": []
   },
   "outputs": [],
   "source": [
    "# Разобьем возраст на интервалы\n",
    "\n",
    "bins = [20, 29, 39, 50, 72]\n",
    "numbers = ['1','2','3', '4']\n",
    "\n",
    "train['age_intervals']=pd.cut(train['age'],bins,labels=numbers)"
   ]
  },
  {
   "cell_type": "code",
   "execution_count": 26,
   "metadata": {
    "execution": {
     "iopub.execute_input": "2020-11-09T05:47:44.885863Z",
     "iopub.status.busy": "2020-11-09T05:47:44.884745Z",
     "iopub.status.idle": "2020-11-09T05:47:45.018698Z",
     "shell.execute_reply": "2020-11-09T05:47:45.018058Z"
    },
    "papermill": {
     "duration": 0.233678,
     "end_time": "2020-11-09T05:47:45.018830",
     "exception": false,
     "start_time": "2020-11-09T05:47:44.785152",
     "status": "completed"
    },
    "tags": []
   },
   "outputs": [
    {
     "data": {
      "text/plain": [
       "<matplotlib.axes._subplots.AxesSubplot at 0x7f0557f27610>"
      ]
     },
     "execution_count": 26,
     "metadata": {},
     "output_type": "execute_result"
    },
    {
     "data": {
      "image/png": "[encoded data removed]",
      "text/plain": [
       "<Figure size 432x288 with 1 Axes>"
      ]
     },
     "metadata": {
      "needs_background": "light"
     },
     "output_type": "display_data"
    }
   ],
   "source": [
    "sns.boxplot(y = 'age', x = 'default', data=train)"
   ]
  },
  {
   "cell_type": "code",
   "execution_count": 27,
   "metadata": {
    "execution": {
     "iopub.execute_input": "2020-11-09T05:47:45.214819Z",
     "iopub.status.busy": "2020-11-09T05:47:45.214128Z",
     "iopub.status.idle": "2020-11-09T05:47:45.421674Z",
     "shell.execute_reply": "2020-11-09T05:47:45.421023Z"
    },
    "papermill": {
     "duration": 0.308343,
     "end_time": "2020-11-09T05:47:45.421808",
     "exception": false,
     "start_time": "2020-11-09T05:47:45.113465",
     "status": "completed"
    },
    "tags": []
   },
   "outputs": [
    {
     "data": {
      "text/plain": [
       "<matplotlib.axes._subplots.AxesSubplot at 0x7f0557334dd0>"
      ]
     },
     "execution_count": 27,
     "metadata": {},
     "output_type": "execute_result"
    },
    {
     "data": {
      "image/png": "[encoded data removed]",
      "text/plain": [
       "<Figure size 432x288 with 1 Axes>"
      ]
     },
     "metadata": {
      "needs_background": "light"
     },
     "output_type": "display_data"
    }
   ],
   "source": [
    "sns.boxplot(y = 'age', x = 'default', hue=\"sex\", data=train)"
   ]
  },
  {
   "cell_type": "markdown",
   "metadata": {
    "papermill": {
     "duration": 0.096184,
     "end_time": "2020-11-09T05:47:45.613917",
     "exception": false,
     "start_time": "2020-11-09T05:47:45.517733",
     "status": "completed"
    },
    "tags": []
   },
   "source": [
    "С учетом того что мужчины как правило не уходят в декрет и больше работают - у них выше пенсия. но они живут меньше и... много факторов еще)"
   ]
  },
  {
   "cell_type": "code",
   "execution_count": 28,
   "metadata": {
    "execution": {
     "iopub.execute_input": "2020-11-09T05:47:45.813667Z",
     "iopub.status.busy": "2020-11-09T05:47:45.812997Z",
     "iopub.status.idle": "2020-11-09T05:47:45.950826Z",
     "shell.execute_reply": "2020-11-09T05:47:45.950054Z"
    },
    "papermill": {
     "duration": 0.240311,
     "end_time": "2020-11-09T05:47:45.950967",
     "exception": false,
     "start_time": "2020-11-09T05:47:45.710656",
     "status": "completed"
    },
    "tags": []
   },
   "outputs": [
    {
     "data": {
      "image/png": "[encoded data removed]",
      "text/plain": [
       "<Figure size 432x288 with 1 Axes>"
      ]
     },
     "metadata": {
      "needs_background": "light"
     },
     "output_type": "display_data"
    }
   ],
   "source": [
    "train.age_intervals.describe()\n",
    "\n",
    "sns.countplot(train.age_intervals);"
   ]
  },
  {
   "cell_type": "code",
   "execution_count": 29,
   "metadata": {
    "execution": {
     "iopub.execute_input": "2020-11-09T05:47:46.152921Z",
     "iopub.status.busy": "2020-11-09T05:47:46.152200Z",
     "iopub.status.idle": "2020-11-09T05:47:46.471044Z",
     "shell.execute_reply": "2020-11-09T05:47:46.471491Z"
    },
    "papermill": {
     "duration": 0.420392,
     "end_time": "2020-11-09T05:47:46.471641",
     "exception": false,
     "start_time": "2020-11-09T05:47:46.051249",
     "status": "completed"
    },
    "tags": []
   },
   "outputs": [
    {
     "data": {
      "image/png": "[encoded data removed]",
      "text/plain": [
       "<Figure size 864x432 with 2 Axes>"
      ]
     },
     "metadata": {
      "needs_background": "light"
     },
     "output_type": "display_data"
    }
   ],
   "source": [
    "univariate_categorical('age_intervals', False,False,True)"
   ]
  },
  {
   "cell_type": "markdown",
   "metadata": {
    "papermill": {
     "duration": 0.096615,
     "end_time": "2020-11-09T05:47:46.666847",
     "exception": false,
     "start_time": "2020-11-09T05:47:46.570232",
     "status": "completed"
    },
    "tags": []
   },
   "source": [
    "# 4. sex - пол ученика ('F' - женский, 'M' - мужской)"
   ]
  },
  {
   "cell_type": "code",
   "execution_count": 30,
   "metadata": {
    "execution": {
     "iopub.execute_input": "2020-11-09T05:47:46.901255Z",
     "iopub.status.busy": "2020-11-09T05:47:46.900499Z",
     "iopub.status.idle": "2020-11-09T05:47:46.954303Z",
     "shell.execute_reply": "2020-11-09T05:47:46.953668Z"
    },
    "papermill": {
     "duration": 0.18645,
     "end_time": "2020-11-09T05:47:46.954414",
     "exception": false,
     "start_time": "2020-11-09T05:47:46.767964",
     "status": "completed"
    },
    "tags": []
   },
   "outputs": [
    {
     "data": {
      "text/html": [
       "<div>\n",
       "<style scoped>\n",
       "    .dataframe tbody tr th:only-of-type {\n",
       "        vertical-align: middle;\n",
       "    }\n",
       "\n",
       "    .dataframe tbody tr th {\n",
       "        vertical-align: top;\n",
       "    }\n",
       "\n",
       "    .dataframe thead th {\n",
       "        text-align: right;\n",
       "    }\n",
       "</style>\n",
       "<table border=\"1\" class=\"dataframe\">\n",
       "  <thead>\n",
       "    <tr style=\"text-align: right;\">\n",
       "      <th></th>\n",
       "      <th>sex</th>\n",
       "    </tr>\n",
       "  </thead>\n",
       "  <tbody>\n",
       "    <tr>\n",
       "      <th>F</th>\n",
       "      <td>61836</td>\n",
       "    </tr>\n",
       "    <tr>\n",
       "      <th>M</th>\n",
       "      <td>48312</td>\n",
       "    </tr>\n",
       "  </tbody>\n",
       "</table>\n",
       "</div>"
      ],
      "text/plain": [
       "     sex\n",
       "F  61836\n",
       "M  48312"
      ]
     },
     "metadata": {},
     "output_type": "display_data"
    },
    {
     "data": {
      "image/png": "[encoded data removed]",
      "text/plain": [
       "<Figure size 432x288 with 1 Axes>"
      ]
     },
     "metadata": {},
     "output_type": "display_data"
    }
   ],
   "source": [
    "train['sex'].value_counts().plot(kind='pie')\n",
    "display(pd.DataFrame(train.sex.value_counts()))"
   ]
  },
  {
   "cell_type": "code",
   "execution_count": 31,
   "metadata": {
    "execution": {
     "iopub.execute_input": "2020-11-09T05:47:47.163523Z",
     "iopub.status.busy": "2020-11-09T05:47:47.162361Z",
     "iopub.status.idle": "2020-11-09T05:47:47.749647Z",
     "shell.execute_reply": "2020-11-09T05:47:47.749143Z"
    },
    "papermill": {
     "duration": 0.694313,
     "end_time": "2020-11-09T05:47:47.749790",
     "exception": false,
     "start_time": "2020-11-09T05:47:47.055477",
     "status": "completed"
    },
    "tags": []
   },
   "outputs": [
    {
     "data": {
      "image/png": "[encoded data removed]",
      "text/plain": [
       "<Figure size 864x432 with 2 Axes>"
      ]
     },
     "metadata": {
      "needs_background": "light"
     },
     "output_type": "display_data"
    }
   ],
   "source": [
    "univariate_categorical('sex', True,False,True)"
   ]
  },
  {
   "cell_type": "markdown",
   "metadata": {
    "papermill": {
     "duration": 0.101666,
     "end_time": "2020-11-09T05:47:47.955997",
     "exception": false,
     "start_time": "2020-11-09T05:47:47.854331",
     "status": "completed"
    },
    "tags": []
   },
   "source": [
    "примерно 55% из заемщиков - женщины. При этом у них ниже процент дефолта в прошлом."
   ]
  },
  {
   "cell_type": "markdown",
   "metadata": {
    "papermill": {
     "duration": 0.104017,
     "end_time": "2020-11-09T05:47:48.161442",
     "exception": false,
     "start_time": "2020-11-09T05:47:48.057425",
     "status": "completed"
    },
    "tags": []
   },
   "source": [
    "# 5. education - уровень образования ('SCH', 'GRD', 'UGR', 'PGR', 'ACD')"
   ]
  },
  {
   "cell_type": "code",
   "execution_count": 32,
   "metadata": {
    "execution": {
     "iopub.execute_input": "2020-11-09T05:47:48.371168Z",
     "iopub.status.busy": "2020-11-09T05:47:48.370265Z",
     "iopub.status.idle": "2020-11-09T05:47:48.374784Z",
     "shell.execute_reply": "2020-11-09T05:47:48.374114Z"
    },
    "papermill": {
     "duration": 0.113386,
     "end_time": "2020-11-09T05:47:48.374946",
     "exception": false,
     "start_time": "2020-11-09T05:47:48.261560",
     "status": "completed"
    },
    "tags": []
   },
   "outputs": [
    {
     "name": "stdout",
     "output_type": "stream",
     "text": [
      "В данных 0.43 % пропущенных значений\n"
     ]
    }
   ],
   "source": [
    "# Единственный столбец с пропущенными значениями\n",
    "print(f'В данных {round(100* train.education.isna().sum() / len(train), 2)} % пропущенных значений')"
   ]
  },
  {
   "cell_type": "code",
   "execution_count": 33,
   "metadata": {
    "execution": {
     "iopub.execute_input": "2020-11-09T05:47:48.604382Z",
     "iopub.status.busy": "2020-11-09T05:47:48.603648Z",
     "iopub.status.idle": "2020-11-09T05:47:48.663720Z",
     "shell.execute_reply": "2020-11-09T05:47:48.663088Z"
    },
    "papermill": {
     "duration": 0.18895,
     "end_time": "2020-11-09T05:47:48.663858",
     "exception": false,
     "start_time": "2020-11-09T05:47:48.474908",
     "status": "completed"
    },
    "tags": []
   },
   "outputs": [
    {
     "data": {
      "text/html": [
       "<div>\n",
       "<style scoped>\n",
       "    .dataframe tbody tr th:only-of-type {\n",
       "        vertical-align: middle;\n",
       "    }\n",
       "\n",
       "    .dataframe tbody tr th {\n",
       "        vertical-align: top;\n",
       "    }\n",
       "\n",
       "    .dataframe thead th {\n",
       "        text-align: right;\n",
       "    }\n",
       "</style>\n",
       "<table border=\"1\" class=\"dataframe\">\n",
       "  <thead>\n",
       "    <tr style=\"text-align: right;\">\n",
       "      <th></th>\n",
       "      <th>education</th>\n",
       "    </tr>\n",
       "  </thead>\n",
       "  <tbody>\n",
       "    <tr>\n",
       "      <th>SCH</th>\n",
       "      <td>0.528841</td>\n",
       "    </tr>\n",
       "    <tr>\n",
       "      <th>GRD</th>\n",
       "      <td>0.317024</td>\n",
       "    </tr>\n",
       "    <tr>\n",
       "      <th>UGR</th>\n",
       "      <td>0.134476</td>\n",
       "    </tr>\n",
       "    <tr>\n",
       "      <th>PGR</th>\n",
       "      <td>0.017006</td>\n",
       "    </tr>\n",
       "    <tr>\n",
       "      <th>ACD</th>\n",
       "      <td>0.002653</td>\n",
       "    </tr>\n",
       "  </tbody>\n",
       "</table>\n",
       "</div>"
      ],
      "text/plain": [
       "     education\n",
       "SCH   0.528841\n",
       "GRD   0.317024\n",
       "UGR   0.134476\n",
       "PGR   0.017006\n",
       "ACD   0.002653"
      ]
     },
     "metadata": {},
     "output_type": "display_data"
    },
    {
     "data": {
      "image/png": "[encoded data removed]",
      "text/plain": [
       "<Figure size 432x288 with 1 Axes>"
      ]
     },
     "metadata": {},
     "output_type": "display_data"
    }
   ],
   "source": [
    "train['education'].value_counts().plot(kind='pie')\n",
    "display(pd.DataFrame(train.education.value_counts(1)))"
   ]
  },
  {
   "cell_type": "markdown",
   "metadata": {
    "papermill": {
     "duration": 0.114035,
     "end_time": "2020-11-09T05:47:48.878327",
     "exception": false,
     "start_time": "2020-11-09T05:47:48.764292",
     "status": "completed"
    },
    "tags": []
   },
   "source": [
    "В данных почти 53 % имеют образование  SCH - по всей видиости школьное. В датасете есть доход. возможно он отражает образование"
   ]
  },
  {
   "cell_type": "code",
   "execution_count": 34,
   "metadata": {
    "execution": {
     "iopub.execute_input": "2020-11-09T05:47:49.111382Z",
     "iopub.status.busy": "2020-11-09T05:47:49.110635Z",
     "iopub.status.idle": "2020-11-09T05:47:49.143432Z",
     "shell.execute_reply": "2020-11-09T05:47:49.142797Z"
    },
    "papermill": {
     "duration": 0.145757,
     "end_time": "2020-11-09T05:47:49.143544",
     "exception": false,
     "start_time": "2020-11-09T05:47:48.997787",
     "status": "completed"
    },
    "tags": []
   },
   "outputs": [
    {
     "data": {
      "text/html": [
       "<div>\n",
       "<style scoped>\n",
       "    .dataframe tbody tr th:only-of-type {\n",
       "        vertical-align: middle;\n",
       "    }\n",
       "\n",
       "    .dataframe tbody tr th {\n",
       "        vertical-align: top;\n",
       "    }\n",
       "\n",
       "    .dataframe thead th {\n",
       "        text-align: right;\n",
       "    }\n",
       "</style>\n",
       "<table border=\"1\" class=\"dataframe\">\n",
       "  <thead>\n",
       "    <tr style=\"text-align: right;\">\n",
       "      <th></th>\n",
       "      <th>count</th>\n",
       "      <th>mean</th>\n",
       "      <th>std</th>\n",
       "      <th>min</th>\n",
       "      <th>25%</th>\n",
       "      <th>50%</th>\n",
       "      <th>75%</th>\n",
       "      <th>max</th>\n",
       "    </tr>\n",
       "    <tr>\n",
       "      <th>education</th>\n",
       "      <th></th>\n",
       "      <th></th>\n",
       "      <th></th>\n",
       "      <th></th>\n",
       "      <th></th>\n",
       "      <th></th>\n",
       "      <th></th>\n",
       "      <th></th>\n",
       "    </tr>\n",
       "  </thead>\n",
       "  <tbody>\n",
       "    <tr>\n",
       "      <th>ACD</th>\n",
       "      <td>291.0</td>\n",
       "      <td>85949.405498</td>\n",
       "      <td>78923.166247</td>\n",
       "      <td>3073.0</td>\n",
       "      <td>34300.0</td>\n",
       "      <td>65000.0</td>\n",
       "      <td>100000.0</td>\n",
       "      <td>500000.0</td>\n",
       "    </tr>\n",
       "    <tr>\n",
       "      <th>GRD</th>\n",
       "      <td>34768.0</td>\n",
       "      <td>54315.008916</td>\n",
       "      <td>57717.002841</td>\n",
       "      <td>1000.0</td>\n",
       "      <td>25000.0</td>\n",
       "      <td>40000.0</td>\n",
       "      <td>60000.0</td>\n",
       "      <td>1000000.0</td>\n",
       "    </tr>\n",
       "    <tr>\n",
       "      <th>PGR</th>\n",
       "      <td>1865.0</td>\n",
       "      <td>79753.214477</td>\n",
       "      <td>77743.130820</td>\n",
       "      <td>5000.0</td>\n",
       "      <td>39000.0</td>\n",
       "      <td>60000.0</td>\n",
       "      <td>100000.0</td>\n",
       "      <td>1000000.0</td>\n",
       "    </tr>\n",
       "    <tr>\n",
       "      <th>SCH</th>\n",
       "      <td>57998.0</td>\n",
       "      <td>32033.254681</td>\n",
       "      <td>32581.154483</td>\n",
       "      <td>1000.0</td>\n",
       "      <td>17000.0</td>\n",
       "      <td>25000.0</td>\n",
       "      <td>38000.0</td>\n",
       "      <td>1000000.0</td>\n",
       "    </tr>\n",
       "    <tr>\n",
       "      <th>UGR</th>\n",
       "      <td>14748.0</td>\n",
       "      <td>39009.904868</td>\n",
       "      <td>36962.662117</td>\n",
       "      <td>1000.0</td>\n",
       "      <td>20000.0</td>\n",
       "      <td>30000.0</td>\n",
       "      <td>45000.0</td>\n",
       "      <td>950000.0</td>\n",
       "    </tr>\n",
       "  </tbody>\n",
       "</table>\n",
       "</div>"
      ],
      "text/plain": [
       "             count          mean           std     min      25%      50%  \\\n",
       "education                                                                  \n",
       "ACD          291.0  85949.405498  78923.166247  3073.0  34300.0  65000.0   \n",
       "GRD        34768.0  54315.008916  57717.002841  1000.0  25000.0  40000.0   \n",
       "PGR         1865.0  79753.214477  77743.130820  5000.0  39000.0  60000.0   \n",
       "SCH        57998.0  32033.254681  32581.154483  1000.0  17000.0  25000.0   \n",
       "UGR        14748.0  39009.904868  36962.662117  1000.0  20000.0  30000.0   \n",
       "\n",
       "                75%        max  \n",
       "education                       \n",
       "ACD        100000.0   500000.0  \n",
       "GRD         60000.0  1000000.0  \n",
       "PGR        100000.0  1000000.0  \n",
       "SCH         38000.0  1000000.0  \n",
       "UGR         45000.0   950000.0  "
      ]
     },
     "execution_count": 34,
     "metadata": {},
     "output_type": "execute_result"
    }
   ],
   "source": [
    "train.groupby('education').income.describe()"
   ]
  },
  {
   "cell_type": "code",
   "execution_count": 35,
   "metadata": {
    "execution": {
     "iopub.execute_input": "2020-11-09T05:47:49.362068Z",
     "iopub.status.busy": "2020-11-09T05:47:49.361086Z",
     "iopub.status.idle": "2020-11-09T05:47:49.371583Z",
     "shell.execute_reply": "2020-11-09T05:47:49.370903Z"
    },
    "papermill": {
     "duration": 0.124324,
     "end_time": "2020-11-09T05:47:49.371702",
     "exception": false,
     "start_time": "2020-11-09T05:47:49.247378",
     "status": "completed"
    },
    "tags": []
   },
   "outputs": [
    {
     "data": {
      "text/plain": [
       "count        478.000000\n",
       "mean       46240.956067\n",
       "std        66930.420691\n",
       "min         5000.000000\n",
       "25%        20000.000000\n",
       "50%        30000.000000\n",
       "75%        50000.000000\n",
       "max      1000000.000000\n",
       "Name: income, dtype: float64"
      ]
     },
     "execution_count": 35,
     "metadata": {},
     "output_type": "execute_result"
    }
   ],
   "source": [
    "#Посмотрим какой доход у пропущенных значений\n",
    "train[train.education.isna() == True].income.describe()"
   ]
  },
  {
   "cell_type": "markdown",
   "metadata": {
    "papermill": {
     "duration": 0.103152,
     "end_time": "2020-11-09T05:47:49.577824",
     "exception": false,
     "start_time": "2020-11-09T05:47:49.474672",
     "status": "completed"
    },
    "tags": []
   },
   "source": [
    " Очевидно что если у человека хорошее образование, то он укажет его в анкете, так как это может помочь при принятии решения банком. Исходя из сводной таблицы дохода и образования пропущенные значения можно заменить на SCH при доходе ниже 28 000 и UGR для оставшихся"
   ]
  },
  {
   "cell_type": "code",
   "execution_count": 36,
   "metadata": {
    "execution": {
     "iopub.execute_input": "2020-11-09T05:47:49.803507Z",
     "iopub.status.busy": "2020-11-09T05:47:49.798029Z",
     "iopub.status.idle": "2020-11-09T05:47:52.792817Z",
     "shell.execute_reply": "2020-11-09T05:47:52.792066Z"
    },
    "papermill": {
     "duration": 3.113492,
     "end_time": "2020-11-09T05:47:52.792969",
     "exception": false,
     "start_time": "2020-11-09T05:47:49.679477",
     "status": "completed"
    },
    "tags": []
   },
   "outputs": [],
   "source": [
    "train['education'] = train.apply(lambda x: ('SCH' if x.income <=28000 else 'UGR')\\\n",
    "                             if pd.isna(x.education) else x.education , axis=1)"
   ]
  },
  {
   "cell_type": "code",
   "execution_count": 37,
   "metadata": {
    "execution": {
     "iopub.execute_input": "2020-11-09T05:47:53.002488Z",
     "iopub.status.busy": "2020-11-09T05:47:53.001826Z",
     "iopub.status.idle": "2020-11-09T05:47:53.005317Z",
     "shell.execute_reply": "2020-11-09T05:47:53.004519Z"
    },
    "papermill": {
     "duration": 0.110354,
     "end_time": "2020-11-09T05:47:53.005448",
     "exception": false,
     "start_time": "2020-11-09T05:47:52.895094",
     "status": "completed"
    },
    "tags": []
   },
   "outputs": [],
   "source": [
    "#train['education'] = train.education.apply(lambda x: 'SCH' if  pd.isna(x) else x)"
   ]
  },
  {
   "cell_type": "code",
   "execution_count": 38,
   "metadata": {
    "execution": {
     "iopub.execute_input": "2020-11-09T05:47:53.214834Z",
     "iopub.status.busy": "2020-11-09T05:47:53.214179Z",
     "iopub.status.idle": "2020-11-09T05:47:53.758481Z",
     "shell.execute_reply": "2020-11-09T05:47:53.757796Z"
    },
    "papermill": {
     "duration": 0.652241,
     "end_time": "2020-11-09T05:47:53.758595",
     "exception": false,
     "start_time": "2020-11-09T05:47:53.106354",
     "status": "completed"
    },
    "tags": []
   },
   "outputs": [
    {
     "data": {
      "image/png": "[encoded data removed]",
      "text/plain": [
       "<Figure size 864x432 with 2 Axes>"
      ]
     },
     "metadata": {
      "needs_background": "light"
     },
     "output_type": "display_data"
    }
   ],
   "source": [
    "univariate_categorical('education', True,False,True)"
   ]
  },
  {
   "cell_type": "code",
   "execution_count": 39,
   "metadata": {
    "execution": {
     "iopub.execute_input": "2020-11-09T05:47:53.980361Z",
     "iopub.status.busy": "2020-11-09T05:47:53.975100Z",
     "iopub.status.idle": "2020-11-09T05:47:54.115119Z",
     "shell.execute_reply": "2020-11-09T05:47:54.114417Z"
    },
    "papermill": {
     "duration": 0.254291,
     "end_time": "2020-11-09T05:47:54.115277",
     "exception": false,
     "start_time": "2020-11-09T05:47:53.860986",
     "status": "completed"
    },
    "tags": []
   },
   "outputs": [],
   "source": [
    "# преобразуем в числа\n",
    "train['education'] = train['education'].apply(lambda x: x.replace(\"SCH\", '0').replace(\"GRD\", '1').replace('UGR', '2').replace(\"PGR\", '3').replace(\"ACD\", '4'))\n",
    "train['education'] = train['education'].apply(lambda x: int(x))"
   ]
  },
  {
   "cell_type": "markdown",
   "metadata": {
    "papermill": {
     "duration": 0.10217,
     "end_time": "2020-11-09T05:47:54.321035",
     "exception": false,
     "start_time": "2020-11-09T05:47:54.218865",
     "status": "completed"
    },
    "tags": []
   },
   "source": [
    "# 6. car - флаг наличия автомобиля ('Y' - да, 'N' - нет)"
   ]
  },
  {
   "cell_type": "code",
   "execution_count": 40,
   "metadata": {
    "execution": {
     "iopub.execute_input": "2020-11-09T05:47:54.556497Z",
     "iopub.status.busy": "2020-11-09T05:47:54.555846Z",
     "iopub.status.idle": "2020-11-09T05:47:54.603966Z",
     "shell.execute_reply": "2020-11-09T05:47:54.604416Z"
    },
    "papermill": {
     "duration": 0.18027,
     "end_time": "2020-11-09T05:47:54.604560",
     "exception": false,
     "start_time": "2020-11-09T05:47:54.424290",
     "status": "completed"
    },
    "tags": []
   },
   "outputs": [
    {
     "data": {
      "text/html": [
       "<div>\n",
       "<style scoped>\n",
       "    .dataframe tbody tr th:only-of-type {\n",
       "        vertical-align: middle;\n",
       "    }\n",
       "\n",
       "    .dataframe tbody tr th {\n",
       "        vertical-align: top;\n",
       "    }\n",
       "\n",
       "    .dataframe thead th {\n",
       "        text-align: right;\n",
       "    }\n",
       "</style>\n",
       "<table border=\"1\" class=\"dataframe\">\n",
       "  <thead>\n",
       "    <tr style=\"text-align: right;\">\n",
       "      <th></th>\n",
       "      <th>car</th>\n",
       "    </tr>\n",
       "  </thead>\n",
       "  <tbody>\n",
       "    <tr>\n",
       "      <th>N</th>\n",
       "      <td>74290</td>\n",
       "    </tr>\n",
       "    <tr>\n",
       "      <th>Y</th>\n",
       "      <td>35858</td>\n",
       "    </tr>\n",
       "  </tbody>\n",
       "</table>\n",
       "</div>"
      ],
      "text/plain": [
       "     car\n",
       "N  74290\n",
       "Y  35858"
      ]
     },
     "execution_count": 40,
     "metadata": {},
     "output_type": "execute_result"
    },
    {
     "data": {
      "image/png": "[encoded data removed]",
      "text/plain": [
       "<Figure size 432x288 with 1 Axes>"
      ]
     },
     "metadata": {},
     "output_type": "display_data"
    }
   ],
   "source": [
    "train['car'].value_counts().plot(kind='pie')\n",
    "pd.DataFrame(train.car.value_counts())"
   ]
  },
  {
   "cell_type": "code",
   "execution_count": 41,
   "metadata": {
    "execution": {
     "iopub.execute_input": "2020-11-09T05:47:54.820350Z",
     "iopub.status.busy": "2020-11-09T05:47:54.819695Z",
     "iopub.status.idle": "2020-11-09T05:47:55.100380Z",
     "shell.execute_reply": "2020-11-09T05:47:55.099812Z"
    },
    "papermill": {
     "duration": 0.391173,
     "end_time": "2020-11-09T05:47:55.100495",
     "exception": false,
     "start_time": "2020-11-09T05:47:54.709322",
     "status": "completed"
    },
    "tags": []
   },
   "outputs": [
    {
     "data": {
      "image/png": "[encoded data removed]",
      "text/plain": [
       "<Figure size 864x432 with 2 Axes>"
      ]
     },
     "metadata": {
      "needs_background": "light"
     },
     "output_type": "display_data"
    }
   ],
   "source": [
    "univariate_categorical('car', False,False,True)"
   ]
  },
  {
   "cell_type": "markdown",
   "metadata": {
    "papermill": {
     "duration": 0.10386,
     "end_time": "2020-11-09T05:47:55.309443",
     "exception": false,
     "start_time": "2020-11-09T05:47:55.205583",
     "status": "completed"
    },
    "tags": []
   },
   "source": [
    "Примерно треть заемщиков имеет машину. Наличие автомобиля снижает примерно на 3% невозврат кредита"
   ]
  },
  {
   "cell_type": "markdown",
   "metadata": {
    "papermill": {
     "duration": 0.104397,
     "end_time": "2020-11-09T05:47:55.519397",
     "exception": false,
     "start_time": "2020-11-09T05:47:55.415000",
     "status": "completed"
    },
    "tags": []
   },
   "source": [
    "# 7. car_type - флаг автомобиля-иномарки ('Y' - да, 'N' - нет)"
   ]
  },
  {
   "cell_type": "code",
   "execution_count": 42,
   "metadata": {
    "execution": {
     "iopub.execute_input": "2020-11-09T05:47:55.751505Z",
     "iopub.status.busy": "2020-11-09T05:47:55.750831Z",
     "iopub.status.idle": "2020-11-09T05:47:55.805970Z",
     "shell.execute_reply": "2020-11-09T05:47:55.805311Z"
    },
    "papermill": {
     "duration": 0.18139,
     "end_time": "2020-11-09T05:47:55.806085",
     "exception": false,
     "start_time": "2020-11-09T05:47:55.624695",
     "status": "completed"
    },
    "tags": []
   },
   "outputs": [
    {
     "data": {
      "text/html": [
       "<div>\n",
       "<style scoped>\n",
       "    .dataframe tbody tr th:only-of-type {\n",
       "        vertical-align: middle;\n",
       "    }\n",
       "\n",
       "    .dataframe tbody tr th {\n",
       "        vertical-align: top;\n",
       "    }\n",
       "\n",
       "    .dataframe thead th {\n",
       "        text-align: right;\n",
       "    }\n",
       "</style>\n",
       "<table border=\"1\" class=\"dataframe\">\n",
       "  <thead>\n",
       "    <tr style=\"text-align: right;\">\n",
       "      <th></th>\n",
       "      <th>car_type</th>\n",
       "    </tr>\n",
       "  </thead>\n",
       "  <tbody>\n",
       "    <tr>\n",
       "      <th>N</th>\n",
       "      <td>0.809275</td>\n",
       "    </tr>\n",
       "    <tr>\n",
       "      <th>Y</th>\n",
       "      <td>0.190725</td>\n",
       "    </tr>\n",
       "  </tbody>\n",
       "</table>\n",
       "</div>"
      ],
      "text/plain": [
       "   car_type\n",
       "N  0.809275\n",
       "Y  0.190725"
      ]
     },
     "execution_count": 42,
     "metadata": {},
     "output_type": "execute_result"
    },
    {
     "data": {
      "image/png": "[encoded data removed]",
      "text/plain": [
       "<Figure size 432x288 with 1 Axes>"
      ]
     },
     "metadata": {},
     "output_type": "display_data"
    }
   ],
   "source": [
    "train['car_type'].value_counts().plot(kind='pie')\n",
    "pd.DataFrame(train.car_type.value_counts(1))"
   ]
  },
  {
   "cell_type": "code",
   "execution_count": 43,
   "metadata": {
    "execution": {
     "iopub.execute_input": "2020-11-09T05:47:56.029570Z",
     "iopub.status.busy": "2020-11-09T05:47:56.028948Z",
     "iopub.status.idle": "2020-11-09T05:47:56.307667Z",
     "shell.execute_reply": "2020-11-09T05:47:56.307067Z"
    },
    "papermill": {
     "duration": 0.389204,
     "end_time": "2020-11-09T05:47:56.307803",
     "exception": false,
     "start_time": "2020-11-09T05:47:55.918599",
     "status": "completed"
    },
    "tags": []
   },
   "outputs": [
    {
     "data": {
      "image/png": "[encoded data removed]",
      "text/plain": [
       "<Figure size 864x432 with 2 Axes>"
      ]
     },
     "metadata": {
      "needs_background": "light"
     },
     "output_type": "display_data"
    }
   ],
   "source": [
    "univariate_categorical('car_type', False,False,True)"
   ]
  },
  {
   "cell_type": "markdown",
   "metadata": {
    "papermill": {
     "duration": 0.105864,
     "end_time": "2020-11-09T05:47:56.519557",
     "exception": false,
     "start_time": "2020-11-09T05:47:56.413693",
     "status": "completed"
    },
    "tags": []
   },
   "source": [
    "Иномарка меньше чем у 19%. Но не иномарка стоит и у тех, у кого вовсе нет машины"
   ]
  },
  {
   "cell_type": "code",
   "execution_count": 44,
   "metadata": {
    "execution": {
     "iopub.execute_input": "2020-11-09T05:47:56.744295Z",
     "iopub.status.busy": "2020-11-09T05:47:56.743633Z",
     "iopub.status.idle": "2020-11-09T05:47:56.761292Z",
     "shell.execute_reply": "2020-11-09T05:47:56.760799Z"
    },
    "papermill": {
     "duration": 0.135366,
     "end_time": "2020-11-09T05:47:56.761401",
     "exception": false,
     "start_time": "2020-11-09T05:47:56.626035",
     "status": "completed"
    },
    "tags": []
   },
   "outputs": [
    {
     "data": {
      "text/html": [
       "<div>\n",
       "<style scoped>\n",
       "    .dataframe tbody tr th:only-of-type {\n",
       "        vertical-align: middle;\n",
       "    }\n",
       "\n",
       "    .dataframe tbody tr th {\n",
       "        vertical-align: top;\n",
       "    }\n",
       "\n",
       "    .dataframe thead th {\n",
       "        text-align: right;\n",
       "    }\n",
       "</style>\n",
       "<table border=\"1\" class=\"dataframe\">\n",
       "  <thead>\n",
       "    <tr style=\"text-align: right;\">\n",
       "      <th></th>\n",
       "      <th>car_type</th>\n",
       "    </tr>\n",
       "  </thead>\n",
       "  <tbody>\n",
       "    <tr>\n",
       "      <th>Y</th>\n",
       "      <td>0.585866</td>\n",
       "    </tr>\n",
       "    <tr>\n",
       "      <th>N</th>\n",
       "      <td>0.414134</td>\n",
       "    </tr>\n",
       "  </tbody>\n",
       "</table>\n",
       "</div>"
      ],
      "text/plain": [
       "   car_type\n",
       "Y  0.585866\n",
       "N  0.414134"
      ]
     },
     "execution_count": 44,
     "metadata": {},
     "output_type": "execute_result"
    }
   ],
   "source": [
    "pd.DataFrame(train[train.car == 'Y'].car_type.value_counts(1))"
   ]
  },
  {
   "cell_type": "markdown",
   "metadata": {
    "papermill": {
     "duration": 0.106598,
     "end_time": "2020-11-09T05:47:56.975417",
     "exception": false,
     "start_time": "2020-11-09T05:47:56.868819",
     "status": "completed"
    },
    "tags": []
   },
   "source": [
    "Т.е. иномарки составляют почти 58.5%"
   ]
  },
  {
   "cell_type": "code",
   "execution_count": 45,
   "metadata": {
    "execution": {
     "iopub.execute_input": "2020-11-09T05:47:57.207702Z",
     "iopub.status.busy": "2020-11-09T05:47:57.195532Z",
     "iopub.status.idle": "2020-11-09T05:47:59.588421Z",
     "shell.execute_reply": "2020-11-09T05:47:59.587876Z"
    },
    "papermill": {
     "duration": 2.507178,
     "end_time": "2020-11-09T05:47:59.588549",
     "exception": false,
     "start_time": "2020-11-09T05:47:57.081371",
     "status": "completed"
    },
    "tags": []
   },
   "outputs": [],
   "source": [
    "train['car_type2'] = train.apply(lambda x: ('0')\\\n",
    "                             if x.car == 'N' else x.car_type , axis=1)\n",
    "train['car_type2'] = train['car_type2'].replace('Y', '2').replace('N', '1')\n",
    "train['car_type2'] = train['car_type2'].apply(lambda x: int(x))"
   ]
  },
  {
   "cell_type": "code",
   "execution_count": 46,
   "metadata": {
    "execution": {
     "iopub.execute_input": "2020-11-09T05:47:59.809230Z",
     "iopub.status.busy": "2020-11-09T05:47:59.807254Z",
     "iopub.status.idle": "2020-11-09T05:48:00.104960Z",
     "shell.execute_reply": "2020-11-09T05:48:00.104257Z"
    },
    "papermill": {
     "duration": 0.410027,
     "end_time": "2020-11-09T05:48:00.105084",
     "exception": false,
     "start_time": "2020-11-09T05:47:59.695057",
     "status": "completed"
    },
    "tags": []
   },
   "outputs": [
    {
     "data": {
      "image/png": "[encoded data removed]",
      "text/plain": [
       "<Figure size 864x432 with 2 Axes>"
      ]
     },
     "metadata": {
      "needs_background": "light"
     },
     "output_type": "display_data"
    }
   ],
   "source": [
    "univariate_categorical('car_type2', False,False,True)"
   ]
  },
  {
   "cell_type": "markdown",
   "metadata": {
    "papermill": {
     "duration": 0.107305,
     "end_time": "2020-11-09T05:48:00.321244",
     "exception": false,
     "start_time": "2020-11-09T05:48:00.213939",
     "status": "completed"
    },
    "tags": []
   },
   "source": [
    "Среди обладателей машин - большая часть иномарки. Для банка это хорошая новость, так как снижает почти на 5% вероятноть дефолта по сравнению с тем, у кого нет машины. А вот отечественная машину почти не влияет на дефолт."
   ]
  },
  {
   "cell_type": "markdown",
   "metadata": {
    "papermill": {
     "duration": 0.107947,
     "end_time": "2020-11-09T05:48:00.536566",
     "exception": false,
     "start_time": "2020-11-09T05:48:00.428619",
     "status": "completed"
    },
    "tags": []
   },
   "source": [
    "# 8. foreign_passport - наличие загранпаспорта ('Y' - да, 'N' - нет)"
   ]
  },
  {
   "cell_type": "code",
   "execution_count": 47,
   "metadata": {
    "execution": {
     "iopub.execute_input": "2020-11-09T05:48:00.777308Z",
     "iopub.status.busy": "2020-11-09T05:48:00.775196Z",
     "iopub.status.idle": "2020-11-09T05:48:00.832724Z",
     "shell.execute_reply": "2020-11-09T05:48:00.832101Z"
    },
    "papermill": {
     "duration": 0.187939,
     "end_time": "2020-11-09T05:48:00.832891",
     "exception": false,
     "start_time": "2020-11-09T05:48:00.644952",
     "status": "completed"
    },
    "tags": []
   },
   "outputs": [
    {
     "data": {
      "text/html": [
       "<div>\n",
       "<style scoped>\n",
       "    .dataframe tbody tr th:only-of-type {\n",
       "        vertical-align: middle;\n",
       "    }\n",
       "\n",
       "    .dataframe tbody tr th {\n",
       "        vertical-align: top;\n",
       "    }\n",
       "\n",
       "    .dataframe thead th {\n",
       "        text-align: right;\n",
       "    }\n",
       "</style>\n",
       "<table border=\"1\" class=\"dataframe\">\n",
       "  <thead>\n",
       "    <tr style=\"text-align: right;\">\n",
       "      <th></th>\n",
       "      <th>foreign_passport</th>\n",
       "    </tr>\n",
       "  </thead>\n",
       "  <tbody>\n",
       "    <tr>\n",
       "      <th>N</th>\n",
       "      <td>0.850864</td>\n",
       "    </tr>\n",
       "    <tr>\n",
       "      <th>Y</th>\n",
       "      <td>0.149136</td>\n",
       "    </tr>\n",
       "  </tbody>\n",
       "</table>\n",
       "</div>"
      ],
      "text/plain": [
       "   foreign_passport\n",
       "N          0.850864\n",
       "Y          0.149136"
      ]
     },
     "execution_count": 47,
     "metadata": {},
     "output_type": "execute_result"
    },
    {
     "data": {
      "image/png": "[encoded data removed]",
      "text/plain": [
       "<Figure size 432x288 with 1 Axes>"
      ]
     },
     "metadata": {},
     "output_type": "display_data"
    }
   ],
   "source": [
    "train['foreign_passport'].value_counts().plot(kind='pie')\n",
    "pd.DataFrame(train.foreign_passport.value_counts(1))"
   ]
  },
  {
   "cell_type": "code",
   "execution_count": 48,
   "metadata": {
    "execution": {
     "iopub.execute_input": "2020-11-09T05:48:01.058847Z",
     "iopub.status.busy": "2020-11-09T05:48:01.057915Z",
     "iopub.status.idle": "2020-11-09T05:48:01.332476Z",
     "shell.execute_reply": "2020-11-09T05:48:01.331848Z"
    },
    "papermill": {
     "duration": 0.390448,
     "end_time": "2020-11-09T05:48:01.332602",
     "exception": false,
     "start_time": "2020-11-09T05:48:00.942154",
     "status": "completed"
    },
    "tags": []
   },
   "outputs": [
    {
     "data": {
      "image/png": "[encoded data removed]",
      "text/plain": [
       "<Figure size 864x432 with 2 Axes>"
      ]
     },
     "metadata": {
      "needs_background": "light"
     },
     "output_type": "display_data"
    }
   ],
   "source": [
    "univariate_categorical('foreign_passport', False,False,True)"
   ]
  },
  {
   "cell_type": "markdown",
   "metadata": {
    "papermill": {
     "duration": 0.110913,
     "end_time": "2020-11-09T05:48:01.553878",
     "exception": false,
     "start_time": "2020-11-09T05:48:01.442965",
     "status": "completed"
    },
    "tags": []
   },
   "source": [
    "Почти 15 % человек имют загранпаспорт.что вдвое снижает вероятность дефолта"
   ]
  },
  {
   "cell_type": "markdown",
   "metadata": {
    "papermill": {
     "duration": 0.109407,
     "end_time": "2020-11-09T05:48:01.773656",
     "exception": false,
     "start_time": "2020-11-09T05:48:01.664249",
     "status": "completed"
    },
    "tags": []
   },
   "source": [
    "# 9. good_work - флаг наличия «хорошей» работы ('1' - да, '0' - нет)"
   ]
  },
  {
   "cell_type": "code",
   "execution_count": 49,
   "metadata": {
    "execution": {
     "iopub.execute_input": "2020-11-09T05:48:02.006447Z",
     "iopub.status.busy": "2020-11-09T05:48:02.005706Z",
     "iopub.status.idle": "2020-11-09T05:48:02.062182Z",
     "shell.execute_reply": "2020-11-09T05:48:02.061594Z"
    },
    "papermill": {
     "duration": 0.178645,
     "end_time": "2020-11-09T05:48:02.062298",
     "exception": false,
     "start_time": "2020-11-09T05:48:01.883653",
     "status": "completed"
    },
    "tags": []
   },
   "outputs": [
    {
     "data": {
      "text/html": [
       "<div>\n",
       "<style scoped>\n",
       "    .dataframe tbody tr th:only-of-type {\n",
       "        vertical-align: middle;\n",
       "    }\n",
       "\n",
       "    .dataframe tbody tr th {\n",
       "        vertical-align: top;\n",
       "    }\n",
       "\n",
       "    .dataframe thead th {\n",
       "        text-align: right;\n",
       "    }\n",
       "</style>\n",
       "<table border=\"1\" class=\"dataframe\">\n",
       "  <thead>\n",
       "    <tr style=\"text-align: right;\">\n",
       "      <th></th>\n",
       "      <th>good_work</th>\n",
       "    </tr>\n",
       "  </thead>\n",
       "  <tbody>\n",
       "    <tr>\n",
       "      <th>0</th>\n",
       "      <td>0.834486</td>\n",
       "    </tr>\n",
       "    <tr>\n",
       "      <th>1</th>\n",
       "      <td>0.165514</td>\n",
       "    </tr>\n",
       "  </tbody>\n",
       "</table>\n",
       "</div>"
      ],
      "text/plain": [
       "   good_work\n",
       "0   0.834486\n",
       "1   0.165514"
      ]
     },
     "execution_count": 49,
     "metadata": {},
     "output_type": "execute_result"
    },
    {
     "data": {
      "image/png": "[encoded data removed]",
      "text/plain": [
       "<Figure size 432x288 with 1 Axes>"
      ]
     },
     "metadata": {},
     "output_type": "display_data"
    }
   ],
   "source": [
    "train['good_work'].value_counts().plot(kind='pie')\n",
    "pd.DataFrame(train.good_work.value_counts(1))"
   ]
  },
  {
   "cell_type": "code",
   "execution_count": 50,
   "metadata": {
    "execution": {
     "iopub.execute_input": "2020-11-09T05:48:02.291245Z",
     "iopub.status.busy": "2020-11-09T05:48:02.290274Z",
     "iopub.status.idle": "2020-11-09T05:48:02.540940Z",
     "shell.execute_reply": "2020-11-09T05:48:02.540260Z"
    },
    "papermill": {
     "duration": 0.367103,
     "end_time": "2020-11-09T05:48:02.541059",
     "exception": false,
     "start_time": "2020-11-09T05:48:02.173956",
     "status": "completed"
    },
    "tags": []
   },
   "outputs": [
    {
     "data": {
      "image/png": "[encoded data removed]",
      "text/plain": [
       "<Figure size 864x432 with 2 Axes>"
      ]
     },
     "metadata": {
      "needs_background": "light"
     },
     "output_type": "display_data"
    }
   ],
   "source": [
    "univariate_categorical('good_work', False,False,True)"
   ]
  },
  {
   "cell_type": "markdown",
   "metadata": {
    "papermill": {
     "duration": 0.112163,
     "end_time": "2020-11-09T05:48:02.767174",
     "exception": false,
     "start_time": "2020-11-09T05:48:02.655011",
     "status": "completed"
    },
    "tags": []
   },
   "source": [
    "Всего 16% начеления имет хорошую работу, что очевидно помогает им избежать дефолта"
   ]
  },
  {
   "cell_type": "markdown",
   "metadata": {
    "papermill": {
     "duration": 0.113339,
     "end_time": "2020-11-09T05:48:02.992913",
     "exception": false,
     "start_time": "2020-11-09T05:48:02.879574",
     "status": "completed"
    },
    "tags": []
   },
   "source": [
    "# 10. home_address - категоризатор домашнего адреса (1, 2, 3)"
   ]
  },
  {
   "cell_type": "code",
   "execution_count": 51,
   "metadata": {
    "execution": {
     "iopub.execute_input": "2020-11-09T05:48:03.224482Z",
     "iopub.status.busy": "2020-11-09T05:48:03.223835Z",
     "iopub.status.idle": "2020-11-09T05:48:03.280588Z",
     "shell.execute_reply": "2020-11-09T05:48:03.279980Z"
    },
    "papermill": {
     "duration": 0.174773,
     "end_time": "2020-11-09T05:48:03.280698",
     "exception": false,
     "start_time": "2020-11-09T05:48:03.105925",
     "status": "completed"
    },
    "tags": []
   },
   "outputs": [
    {
     "data": {
      "text/html": [
       "<div>\n",
       "<style scoped>\n",
       "    .dataframe tbody tr th:only-of-type {\n",
       "        vertical-align: middle;\n",
       "    }\n",
       "\n",
       "    .dataframe tbody tr th {\n",
       "        vertical-align: top;\n",
       "    }\n",
       "\n",
       "    .dataframe thead th {\n",
       "        text-align: right;\n",
       "    }\n",
       "</style>\n",
       "<table border=\"1\" class=\"dataframe\">\n",
       "  <thead>\n",
       "    <tr style=\"text-align: right;\">\n",
       "      <th></th>\n",
       "      <th>home_address</th>\n",
       "    </tr>\n",
       "  </thead>\n",
       "  <tbody>\n",
       "    <tr>\n",
       "      <th>2</th>\n",
       "      <td>0.541008</td>\n",
       "    </tr>\n",
       "    <tr>\n",
       "      <th>1</th>\n",
       "      <td>0.442023</td>\n",
       "    </tr>\n",
       "    <tr>\n",
       "      <th>3</th>\n",
       "      <td>0.016968</td>\n",
       "    </tr>\n",
       "  </tbody>\n",
       "</table>\n",
       "</div>"
      ],
      "text/plain": [
       "   home_address\n",
       "2      0.541008\n",
       "1      0.442023\n",
       "3      0.016968"
      ]
     },
     "execution_count": 51,
     "metadata": {},
     "output_type": "execute_result"
    },
    {
     "data": {
      "image/png": "[encoded data removed]",
      "text/plain": [
       "<Figure size 432x288 with 1 Axes>"
      ]
     },
     "metadata": {},
     "output_type": "display_data"
    }
   ],
   "source": [
    "train['home_address'].value_counts().plot(kind='pie')\n",
    "pd.DataFrame(train.home_address.value_counts(1))"
   ]
  },
  {
   "cell_type": "code",
   "execution_count": 52,
   "metadata": {
    "execution": {
     "iopub.execute_input": "2020-11-09T05:48:03.524928Z",
     "iopub.status.busy": "2020-11-09T05:48:03.524214Z",
     "iopub.status.idle": "2020-11-09T05:48:03.794665Z",
     "shell.execute_reply": "2020-11-09T05:48:03.794034Z"
    },
    "papermill": {
     "duration": 0.401248,
     "end_time": "2020-11-09T05:48:03.794796",
     "exception": false,
     "start_time": "2020-11-09T05:48:03.393548",
     "status": "completed"
    },
    "tags": []
   },
   "outputs": [
    {
     "data": {
      "text/plain": [
       "<matplotlib.axes._subplots.AxesSubplot at 0x7f0557151fd0>"
      ]
     },
     "execution_count": 52,
     "metadata": {},
     "output_type": "execute_result"
    },
    {
     "data": {
      "image/png": "[encoded data removed]",
      "text/plain": [
       "<Figure size 432x288 with 1 Axes>"
      ]
     },
     "metadata": {
      "needs_background": "light"
     },
     "output_type": "display_data"
    }
   ],
   "source": [
    "train.home_address.hist(bins=77)"
   ]
  },
  {
   "cell_type": "code",
   "execution_count": 53,
   "metadata": {
    "execution": {
     "iopub.execute_input": "2020-11-09T05:48:04.031646Z",
     "iopub.status.busy": "2020-11-09T05:48:04.030947Z",
     "iopub.status.idle": "2020-11-09T05:48:04.444557Z",
     "shell.execute_reply": "2020-11-09T05:48:04.445037Z"
    },
    "papermill": {
     "duration": 0.535684,
     "end_time": "2020-11-09T05:48:04.445189",
     "exception": false,
     "start_time": "2020-11-09T05:48:03.909505",
     "status": "completed"
    },
    "tags": []
   },
   "outputs": [
    {
     "data": {
      "image/png": "[encoded data removed]",
      "text/plain": [
       "<Figure size 864x432 with 2 Axes>"
      ]
     },
     "metadata": {
      "needs_background": "light"
     },
     "output_type": "display_data"
    }
   ],
   "source": [
    "univariate_categorical('home_address', True,False,True)"
   ]
  },
  {
   "cell_type": "markdown",
   "metadata": {
    "papermill": {
     "duration": 0.116326,
     "end_time": "2020-11-09T05:48:04.678259",
     "exception": false,
     "start_time": "2020-11-09T05:48:04.561933",
     "status": "completed"
    },
    "tags": []
   },
   "source": [
    "# 11. work_address - категоризатор рабочего адреса (1, 2, 3)"
   ]
  },
  {
   "cell_type": "code",
   "execution_count": 54,
   "metadata": {
    "execution": {
     "iopub.execute_input": "2020-11-09T05:48:04.916827Z",
     "iopub.status.busy": "2020-11-09T05:48:04.916169Z",
     "iopub.status.idle": "2020-11-09T05:48:04.973675Z",
     "shell.execute_reply": "2020-11-09T05:48:04.973038Z"
    },
    "papermill": {
     "duration": 0.179706,
     "end_time": "2020-11-09T05:48:04.973807",
     "exception": false,
     "start_time": "2020-11-09T05:48:04.794101",
     "status": "completed"
    },
    "tags": []
   },
   "outputs": [
    {
     "data": {
      "text/html": [
       "<div>\n",
       "<style scoped>\n",
       "    .dataframe tbody tr th:only-of-type {\n",
       "        vertical-align: middle;\n",
       "    }\n",
       "\n",
       "    .dataframe tbody tr th {\n",
       "        vertical-align: top;\n",
       "    }\n",
       "\n",
       "    .dataframe thead th {\n",
       "        text-align: right;\n",
       "    }\n",
       "</style>\n",
       "<table border=\"1\" class=\"dataframe\">\n",
       "  <thead>\n",
       "    <tr style=\"text-align: right;\">\n",
       "      <th></th>\n",
       "      <th>work_address</th>\n",
       "    </tr>\n",
       "  </thead>\n",
       "  <tbody>\n",
       "    <tr>\n",
       "      <th>3</th>\n",
       "      <td>0.609298</td>\n",
       "    </tr>\n",
       "    <tr>\n",
       "      <th>2</th>\n",
       "      <td>0.279270</td>\n",
       "    </tr>\n",
       "    <tr>\n",
       "      <th>1</th>\n",
       "      <td>0.111432</td>\n",
       "    </tr>\n",
       "  </tbody>\n",
       "</table>\n",
       "</div>"
      ],
      "text/plain": [
       "   work_address\n",
       "3      0.609298\n",
       "2      0.279270\n",
       "1      0.111432"
      ]
     },
     "execution_count": 54,
     "metadata": {},
     "output_type": "execute_result"
    },
    {
     "data": {
      "image/png": "[encoded data removed]",
      "text/plain": [
       "<Figure size 432x288 with 1 Axes>"
      ]
     },
     "metadata": {},
     "output_type": "display_data"
    }
   ],
   "source": [
    "train['work_address'].value_counts().plot(kind='pie')\n",
    "pd.DataFrame(train.work_address.value_counts(1))"
   ]
  },
  {
   "cell_type": "code",
   "execution_count": 55,
   "metadata": {
    "execution": {
     "iopub.execute_input": "2020-11-09T05:48:05.215552Z",
     "iopub.status.busy": "2020-11-09T05:48:05.214876Z",
     "iopub.status.idle": "2020-11-09T05:48:05.491818Z",
     "shell.execute_reply": "2020-11-09T05:48:05.491130Z"
    },
    "papermill": {
     "duration": 0.398892,
     "end_time": "2020-11-09T05:48:05.491946",
     "exception": false,
     "start_time": "2020-11-09T05:48:05.093054",
     "status": "completed"
    },
    "tags": []
   },
   "outputs": [
    {
     "data": {
      "image/png": "[encoded data removed]",
      "text/plain": [
       "<Figure size 864x432 with 2 Axes>"
      ]
     },
     "metadata": {
      "needs_background": "light"
     },
     "output_type": "display_data"
    }
   ],
   "source": [
    "univariate_categorical('work_address', False,False,True)"
   ]
  },
  {
   "cell_type": "markdown",
   "metadata": {
    "papermill": {
     "duration": 0.119111,
     "end_time": "2020-11-09T05:48:05.728501",
     "exception": false,
     "start_time": "2020-11-09T05:48:05.609390",
     "status": "completed"
    },
    "tags": []
   },
   "source": [
    "Чем лучше работа, тем меньше вероятность дефолта. Что естественно"
   ]
  },
  {
   "cell_type": "markdown",
   "metadata": {
    "papermill": {
     "duration": 0.11766,
     "end_time": "2020-11-09T05:48:05.967817",
     "exception": false,
     "start_time": "2020-11-09T05:48:05.850157",
     "status": "completed"
    },
    "tags": []
   },
   "source": [
    "# 12. region_rating - рейтинг региона"
   ]
  },
  {
   "cell_type": "code",
   "execution_count": 56,
   "metadata": {
    "execution": {
     "iopub.execute_input": "2020-11-09T05:48:06.209065Z",
     "iopub.status.busy": "2020-11-09T05:48:06.207925Z",
     "iopub.status.idle": "2020-11-09T05:48:06.218054Z",
     "shell.execute_reply": "2020-11-09T05:48:06.217412Z"
    },
    "papermill": {
     "duration": 0.133349,
     "end_time": "2020-11-09T05:48:06.218170",
     "exception": false,
     "start_time": "2020-11-09T05:48:06.084821",
     "status": "completed"
    },
    "tags": []
   },
   "outputs": [
    {
     "data": {
      "text/plain": [
       "count    110148.000000\n",
       "mean         56.751189\n",
       "std          13.065923\n",
       "min          20.000000\n",
       "25%          50.000000\n",
       "50%          50.000000\n",
       "75%          60.000000\n",
       "max          80.000000\n",
       "Name: region_rating, dtype: float64"
      ]
     },
     "execution_count": 56,
     "metadata": {},
     "output_type": "execute_result"
    }
   ],
   "source": [
    "train.region_rating.describe()"
   ]
  },
  {
   "cell_type": "code",
   "execution_count": 57,
   "metadata": {
    "execution": {
     "iopub.execute_input": "2020-11-09T05:48:06.467264Z",
     "iopub.status.busy": "2020-11-09T05:48:06.466295Z",
     "iopub.status.idle": "2020-11-09T05:48:06.724559Z",
     "shell.execute_reply": "2020-11-09T05:48:06.723927Z"
    },
    "papermill": {
     "duration": 0.389305,
     "end_time": "2020-11-09T05:48:06.724674",
     "exception": false,
     "start_time": "2020-11-09T05:48:06.335369",
     "status": "completed"
    },
    "tags": []
   },
   "outputs": [
    {
     "data": {
      "text/plain": [
       "<matplotlib.axes._subplots.AxesSubplot at 0x7f05564ab890>"
      ]
     },
     "execution_count": 57,
     "metadata": {},
     "output_type": "execute_result"
    },
    {
     "data": {
      "image/png": "[encoded data removed]",
      "text/plain": [
       "<Figure size 432x288 with 1 Axes>"
      ]
     },
     "metadata": {
      "needs_background": "light"
     },
     "output_type": "display_data"
    }
   ],
   "source": [
    "train.region_rating.hist(bins=77)"
   ]
  },
  {
   "cell_type": "code",
   "execution_count": 58,
   "metadata": {
    "execution": {
     "iopub.execute_input": "2020-11-09T05:48:06.969789Z",
     "iopub.status.busy": "2020-11-09T05:48:06.969143Z",
     "iopub.status.idle": "2020-11-09T05:48:06.978054Z",
     "shell.execute_reply": "2020-11-09T05:48:06.977444Z"
    },
    "papermill": {
     "duration": 0.133016,
     "end_time": "2020-11-09T05:48:06.978161",
     "exception": false,
     "start_time": "2020-11-09T05:48:06.845145",
     "status": "completed"
    },
    "tags": []
   },
   "outputs": [
    {
     "data": {
      "text/html": [
       "<div>\n",
       "<style scoped>\n",
       "    .dataframe tbody tr th:only-of-type {\n",
       "        vertical-align: middle;\n",
       "    }\n",
       "\n",
       "    .dataframe tbody tr th {\n",
       "        vertical-align: top;\n",
       "    }\n",
       "\n",
       "    .dataframe thead th {\n",
       "        text-align: right;\n",
       "    }\n",
       "</style>\n",
       "<table border=\"1\" class=\"dataframe\">\n",
       "  <thead>\n",
       "    <tr style=\"text-align: right;\">\n",
       "      <th></th>\n",
       "      <th>region_rating</th>\n",
       "    </tr>\n",
       "  </thead>\n",
       "  <tbody>\n",
       "    <tr>\n",
       "      <th>50</th>\n",
       "      <td>40981</td>\n",
       "    </tr>\n",
       "    <tr>\n",
       "      <th>60</th>\n",
       "      <td>23999</td>\n",
       "    </tr>\n",
       "    <tr>\n",
       "      <th>40</th>\n",
       "      <td>17947</td>\n",
       "    </tr>\n",
       "    <tr>\n",
       "      <th>80</th>\n",
       "      <td>17170</td>\n",
       "    </tr>\n",
       "    <tr>\n",
       "      <th>70</th>\n",
       "      <td>9304</td>\n",
       "    </tr>\n",
       "    <tr>\n",
       "      <th>30</th>\n",
       "      <td>434</td>\n",
       "    </tr>\n",
       "    <tr>\n",
       "      <th>20</th>\n",
       "      <td>313</td>\n",
       "    </tr>\n",
       "  </tbody>\n",
       "</table>\n",
       "</div>"
      ],
      "text/plain": [
       "    region_rating\n",
       "50          40981\n",
       "60          23999\n",
       "40          17947\n",
       "80          17170\n",
       "70           9304\n",
       "30            434\n",
       "20            313"
      ]
     },
     "execution_count": 58,
     "metadata": {},
     "output_type": "execute_result"
    }
   ],
   "source": [
    "pd.DataFrame(train.region_rating.value_counts())"
   ]
  },
  {
   "cell_type": "code",
   "execution_count": 59,
   "metadata": {
    "execution": {
     "iopub.execute_input": "2020-11-09T05:48:07.223833Z",
     "iopub.status.busy": "2020-11-09T05:48:07.223151Z",
     "iopub.status.idle": "2020-11-09T05:48:07.258890Z",
     "shell.execute_reply": "2020-11-09T05:48:07.258206Z"
    },
    "papermill": {
     "duration": 0.160925,
     "end_time": "2020-11-09T05:48:07.259013",
     "exception": false,
     "start_time": "2020-11-09T05:48:07.098088",
     "status": "completed"
    },
    "tags": []
   },
   "outputs": [
    {
     "data": {
      "text/html": [
       "<div>\n",
       "<style scoped>\n",
       "    .dataframe tbody tr th:only-of-type {\n",
       "        vertical-align: middle;\n",
       "    }\n",
       "\n",
       "    .dataframe tbody tr th {\n",
       "        vertical-align: top;\n",
       "    }\n",
       "\n",
       "    .dataframe thead th {\n",
       "        text-align: right;\n",
       "    }\n",
       "</style>\n",
       "<table border=\"1\" class=\"dataframe\">\n",
       "  <thead>\n",
       "    <tr style=\"text-align: right;\">\n",
       "      <th></th>\n",
       "      <th>count</th>\n",
       "      <th>mean</th>\n",
       "      <th>std</th>\n",
       "      <th>min</th>\n",
       "      <th>25%</th>\n",
       "      <th>50%</th>\n",
       "      <th>75%</th>\n",
       "      <th>max</th>\n",
       "    </tr>\n",
       "    <tr>\n",
       "      <th>region_rating</th>\n",
       "      <th></th>\n",
       "      <th></th>\n",
       "      <th></th>\n",
       "      <th></th>\n",
       "      <th></th>\n",
       "      <th></th>\n",
       "      <th></th>\n",
       "      <th></th>\n",
       "    </tr>\n",
       "  </thead>\n",
       "  <tbody>\n",
       "    <tr>\n",
       "      <th>20</th>\n",
       "      <td>313.0</td>\n",
       "      <td>33854.747604</td>\n",
       "      <td>44654.259253</td>\n",
       "      <td>4600.0</td>\n",
       "      <td>15000.0</td>\n",
       "      <td>23679.0</td>\n",
       "      <td>35000.0</td>\n",
       "      <td>500000.0</td>\n",
       "    </tr>\n",
       "    <tr>\n",
       "      <th>30</th>\n",
       "      <td>434.0</td>\n",
       "      <td>30457.995392</td>\n",
       "      <td>37711.851690</td>\n",
       "      <td>5000.0</td>\n",
       "      <td>15000.0</td>\n",
       "      <td>22000.0</td>\n",
       "      <td>35000.0</td>\n",
       "      <td>600000.0</td>\n",
       "    </tr>\n",
       "    <tr>\n",
       "      <th>40</th>\n",
       "      <td>17947.0</td>\n",
       "      <td>33438.350811</td>\n",
       "      <td>38526.331855</td>\n",
       "      <td>1000.0</td>\n",
       "      <td>17000.0</td>\n",
       "      <td>25000.0</td>\n",
       "      <td>38950.0</td>\n",
       "      <td>1000000.0</td>\n",
       "    </tr>\n",
       "    <tr>\n",
       "      <th>50</th>\n",
       "      <td>40981.0</td>\n",
       "      <td>35042.573583</td>\n",
       "      <td>40121.588701</td>\n",
       "      <td>1000.0</td>\n",
       "      <td>18000.0</td>\n",
       "      <td>25000.0</td>\n",
       "      <td>40000.0</td>\n",
       "      <td>1000000.0</td>\n",
       "    </tr>\n",
       "    <tr>\n",
       "      <th>60</th>\n",
       "      <td>23999.0</td>\n",
       "      <td>37294.956457</td>\n",
       "      <td>41670.222866</td>\n",
       "      <td>1000.0</td>\n",
       "      <td>20000.0</td>\n",
       "      <td>30000.0</td>\n",
       "      <td>40000.0</td>\n",
       "      <td>1000000.0</td>\n",
       "    </tr>\n",
       "    <tr>\n",
       "      <th>70</th>\n",
       "      <td>9304.0</td>\n",
       "      <td>55714.572657</td>\n",
       "      <td>53430.807030</td>\n",
       "      <td>2400.0</td>\n",
       "      <td>30000.0</td>\n",
       "      <td>43000.0</td>\n",
       "      <td>60000.0</td>\n",
       "      <td>999999.0</td>\n",
       "    </tr>\n",
       "    <tr>\n",
       "      <th>80</th>\n",
       "      <td>17170.0</td>\n",
       "      <td>60805.944729</td>\n",
       "      <td>55734.578314</td>\n",
       "      <td>1700.0</td>\n",
       "      <td>35000.0</td>\n",
       "      <td>48000.0</td>\n",
       "      <td>70000.0</td>\n",
       "      <td>1000000.0</td>\n",
       "    </tr>\n",
       "  </tbody>\n",
       "</table>\n",
       "</div>"
      ],
      "text/plain": [
       "                 count          mean           std     min      25%      50%  \\\n",
       "region_rating                                                                  \n",
       "20               313.0  33854.747604  44654.259253  4600.0  15000.0  23679.0   \n",
       "30               434.0  30457.995392  37711.851690  5000.0  15000.0  22000.0   \n",
       "40             17947.0  33438.350811  38526.331855  1000.0  17000.0  25000.0   \n",
       "50             40981.0  35042.573583  40121.588701  1000.0  18000.0  25000.0   \n",
       "60             23999.0  37294.956457  41670.222866  1000.0  20000.0  30000.0   \n",
       "70              9304.0  55714.572657  53430.807030  2400.0  30000.0  43000.0   \n",
       "80             17170.0  60805.944729  55734.578314  1700.0  35000.0  48000.0   \n",
       "\n",
       "                   75%        max  \n",
       "region_rating                      \n",
       "20             35000.0   500000.0  \n",
       "30             35000.0   600000.0  \n",
       "40             38950.0  1000000.0  \n",
       "50             40000.0  1000000.0  \n",
       "60             40000.0  1000000.0  \n",
       "70             60000.0   999999.0  \n",
       "80             70000.0  1000000.0  "
      ]
     },
     "execution_count": 59,
     "metadata": {},
     "output_type": "execute_result"
    }
   ],
   "source": [
    "train.groupby('region_rating').income.describe()"
   ]
  },
  {
   "cell_type": "markdown",
   "metadata": {
    "papermill": {
     "duration": 0.119201,
     "end_time": "2020-11-09T05:48:07.498418",
     "exception": false,
     "start_time": "2020-11-09T05:48:07.379217",
     "status": "completed"
    },
    "tags": []
   },
   "source": [
    "Чем выше рейтинг региона, тем выше доход. А значит и ниже вероятность дефолта"
   ]
  },
  {
   "cell_type": "markdown",
   "metadata": {
    "papermill": {
     "duration": 0.119681,
     "end_time": "2020-11-09T05:48:07.737425",
     "exception": false,
     "start_time": "2020-11-09T05:48:07.617744",
     "status": "completed"
    },
    "tags": []
   },
   "source": [
    "# 13. decline_app_cnt - количество отказанных прошлых заявок (от 0 до 33)"
   ]
  },
  {
   "cell_type": "code",
   "execution_count": 60,
   "metadata": {
    "execution": {
     "iopub.execute_input": "2020-11-09T05:48:07.981435Z",
     "iopub.status.busy": "2020-11-09T05:48:07.980738Z",
     "iopub.status.idle": "2020-11-09T05:48:07.990302Z",
     "shell.execute_reply": "2020-11-09T05:48:07.989789Z"
    },
    "papermill": {
     "duration": 0.133611,
     "end_time": "2020-11-09T05:48:07.990417",
     "exception": false,
     "start_time": "2020-11-09T05:48:07.856806",
     "status": "completed"
    },
    "tags": []
   },
   "outputs": [
    {
     "data": {
      "text/plain": [
       "count    110148.000000\n",
       "mean          0.273205\n",
       "std           0.799099\n",
       "min           0.000000\n",
       "25%           0.000000\n",
       "50%           0.000000\n",
       "75%           0.000000\n",
       "max          33.000000\n",
       "Name: decline_app_cnt, dtype: float64"
      ]
     },
     "execution_count": 60,
     "metadata": {},
     "output_type": "execute_result"
    }
   ],
   "source": [
    "train.decline_app_cnt.describe()"
   ]
  },
  {
   "cell_type": "code",
   "execution_count": 61,
   "metadata": {
    "execution": {
     "iopub.execute_input": "2020-11-09T05:48:08.239321Z",
     "iopub.status.busy": "2020-11-09T05:48:08.238656Z",
     "iopub.status.idle": "2020-11-09T05:48:08.248916Z",
     "shell.execute_reply": "2020-11-09T05:48:08.248382Z"
    },
    "papermill": {
     "duration": 0.136759,
     "end_time": "2020-11-09T05:48:08.249027",
     "exception": false,
     "start_time": "2020-11-09T05:48:08.112268",
     "status": "completed"
    },
    "tags": []
   },
   "outputs": [
    {
     "data": {
      "text/html": [
       "<div>\n",
       "<style scoped>\n",
       "    .dataframe tbody tr th:only-of-type {\n",
       "        vertical-align: middle;\n",
       "    }\n",
       "\n",
       "    .dataframe tbody tr th {\n",
       "        vertical-align: top;\n",
       "    }\n",
       "\n",
       "    .dataframe thead th {\n",
       "        text-align: right;\n",
       "    }\n",
       "</style>\n",
       "<table border=\"1\" class=\"dataframe\">\n",
       "  <thead>\n",
       "    <tr style=\"text-align: right;\">\n",
       "      <th></th>\n",
       "      <th>decline_app_cnt</th>\n",
       "    </tr>\n",
       "  </thead>\n",
       "  <tbody>\n",
       "    <tr>\n",
       "      <th>0</th>\n",
       "      <td>91471</td>\n",
       "    </tr>\n",
       "    <tr>\n",
       "      <th>1</th>\n",
       "      <td>12500</td>\n",
       "    </tr>\n",
       "    <tr>\n",
       "      <th>2</th>\n",
       "      <td>3622</td>\n",
       "    </tr>\n",
       "    <tr>\n",
       "      <th>3</th>\n",
       "      <td>1365</td>\n",
       "    </tr>\n",
       "    <tr>\n",
       "      <th>4</th>\n",
       "      <td>606</td>\n",
       "    </tr>\n",
       "    <tr>\n",
       "      <th>5</th>\n",
       "      <td>255</td>\n",
       "    </tr>\n",
       "    <tr>\n",
       "      <th>6</th>\n",
       "      <td>156</td>\n",
       "    </tr>\n",
       "    <tr>\n",
       "      <th>7</th>\n",
       "      <td>58</td>\n",
       "    </tr>\n",
       "    <tr>\n",
       "      <th>8</th>\n",
       "      <td>37</td>\n",
       "    </tr>\n",
       "    <tr>\n",
       "      <th>9</th>\n",
       "      <td>29</td>\n",
       "    </tr>\n",
       "    <tr>\n",
       "      <th>10</th>\n",
       "      <td>16</td>\n",
       "    </tr>\n",
       "    <tr>\n",
       "      <th>11</th>\n",
       "      <td>10</td>\n",
       "    </tr>\n",
       "    <tr>\n",
       "      <th>12</th>\n",
       "      <td>5</td>\n",
       "    </tr>\n",
       "    <tr>\n",
       "      <th>13</th>\n",
       "      <td>4</td>\n",
       "    </tr>\n",
       "    <tr>\n",
       "      <th>14</th>\n",
       "      <td>3</td>\n",
       "    </tr>\n",
       "    <tr>\n",
       "      <th>16</th>\n",
       "      <td>3</td>\n",
       "    </tr>\n",
       "    <tr>\n",
       "      <th>30</th>\n",
       "      <td>1</td>\n",
       "    </tr>\n",
       "    <tr>\n",
       "      <th>15</th>\n",
       "      <td>1</td>\n",
       "    </tr>\n",
       "    <tr>\n",
       "      <th>19</th>\n",
       "      <td>1</td>\n",
       "    </tr>\n",
       "    <tr>\n",
       "      <th>20</th>\n",
       "      <td>1</td>\n",
       "    </tr>\n",
       "    <tr>\n",
       "      <th>21</th>\n",
       "      <td>1</td>\n",
       "    </tr>\n",
       "    <tr>\n",
       "      <th>22</th>\n",
       "      <td>1</td>\n",
       "    </tr>\n",
       "    <tr>\n",
       "      <th>24</th>\n",
       "      <td>1</td>\n",
       "    </tr>\n",
       "    <tr>\n",
       "      <th>33</th>\n",
       "      <td>1</td>\n",
       "    </tr>\n",
       "  </tbody>\n",
       "</table>\n",
       "</div>"
      ],
      "text/plain": [
       "    decline_app_cnt\n",
       "0             91471\n",
       "1             12500\n",
       "2              3622\n",
       "3              1365\n",
       "4               606\n",
       "5               255\n",
       "6               156\n",
       "7                58\n",
       "8                37\n",
       "9                29\n",
       "10               16\n",
       "11               10\n",
       "12                5\n",
       "13                4\n",
       "14                3\n",
       "16                3\n",
       "30                1\n",
       "15                1\n",
       "19                1\n",
       "20                1\n",
       "21                1\n",
       "22                1\n",
       "24                1\n",
       "33                1"
      ]
     },
     "execution_count": 61,
     "metadata": {},
     "output_type": "execute_result"
    }
   ],
   "source": [
    "# Посмотрим на количество отказанных завок \n",
    "pd.DataFrame(train.decline_app_cnt.value_counts())"
   ]
  },
  {
   "cell_type": "code",
   "execution_count": 62,
   "metadata": {
    "execution": {
     "iopub.execute_input": "2020-11-09T05:48:08.495077Z",
     "iopub.status.busy": "2020-11-09T05:48:08.494383Z",
     "iopub.status.idle": "2020-11-09T05:48:09.427870Z",
     "shell.execute_reply": "2020-11-09T05:48:09.427192Z"
    },
    "papermill": {
     "duration": 1.058482,
     "end_time": "2020-11-09T05:48:09.427983",
     "exception": false,
     "start_time": "2020-11-09T05:48:08.369501",
     "status": "completed"
    },
    "tags": []
   },
   "outputs": [
    {
     "data": {
      "image/png": "[encoded data removed]",
      "text/plain": [
       "<Figure size 864x432 with 2 Axes>"
      ]
     },
     "metadata": {
      "needs_background": "light"
     },
     "output_type": "display_data"
    }
   ],
   "source": [
    "univariate_categorical('decline_app_cnt', True,False,True)"
   ]
  },
  {
   "cell_type": "code",
   "execution_count": 63,
   "metadata": {
    "execution": {
     "iopub.execute_input": "2020-11-09T05:48:09.676687Z",
     "iopub.status.busy": "2020-11-09T05:48:09.676070Z",
     "iopub.status.idle": "2020-11-09T05:48:09.678606Z",
     "shell.execute_reply": "2020-11-09T05:48:09.678016Z"
    },
    "papermill": {
     "duration": 0.128719,
     "end_time": "2020-11-09T05:48:09.678713",
     "exception": false,
     "start_time": "2020-11-09T05:48:09.549994",
     "status": "completed"
    },
    "tags": []
   },
   "outputs": [],
   "source": [
    "#ограничение выбросов не помогло\n",
    "#train.decline_app_cnt = train.decline_app_cnt.apply(lambda x: 0 if x >= 5 else x)"
   ]
  },
  {
   "cell_type": "code",
   "execution_count": 64,
   "metadata": {
    "execution": {
     "iopub.execute_input": "2020-11-09T05:48:09.932715Z",
     "iopub.status.busy": "2020-11-09T05:48:09.932096Z",
     "iopub.status.idle": "2020-11-09T05:48:10.745243Z",
     "shell.execute_reply": "2020-11-09T05:48:10.744592Z"
    },
    "papermill": {
     "duration": 0.944778,
     "end_time": "2020-11-09T05:48:10.745351",
     "exception": false,
     "start_time": "2020-11-09T05:48:09.800573",
     "status": "completed"
    },
    "tags": []
   },
   "outputs": [
    {
     "data": {
      "image/png": "[encoded data removed]",
      "text/plain": [
       "<Figure size 864x432 with 2 Axes>"
      ]
     },
     "metadata": {
      "needs_background": "light"
     },
     "output_type": "display_data"
    }
   ],
   "source": [
    "univariate_categorical('decline_app_cnt', True,False,True)"
   ]
  },
  {
   "cell_type": "code",
   "execution_count": 65,
   "metadata": {
    "execution": {
     "iopub.execute_input": "2020-11-09T05:48:11.030155Z",
     "iopub.status.busy": "2020-11-09T05:48:11.029479Z",
     "iopub.status.idle": "2020-11-09T05:48:11.241545Z",
     "shell.execute_reply": "2020-11-09T05:48:11.240835Z"
    },
    "papermill": {
     "duration": 0.359588,
     "end_time": "2020-11-09T05:48:11.241673",
     "exception": false,
     "start_time": "2020-11-09T05:48:10.882085",
     "status": "completed"
    },
    "tags": []
   },
   "outputs": [
    {
     "data": {
      "image/png": "[encoded data removed]",
      "text/plain": [
       "<Figure size 432x288 with 1 Axes>"
      ]
     },
     "metadata": {
      "needs_background": "light"
     },
     "output_type": "display_data"
    }
   ],
   "source": [
    "sns.countplot(x = 'decline_app_cnt', data = train);"
   ]
  },
  {
   "cell_type": "markdown",
   "metadata": {
    "papermill": {
     "duration": 0.126081,
     "end_time": "2020-11-09T05:48:11.494062",
     "exception": false,
     "start_time": "2020-11-09T05:48:11.367981",
     "status": "completed"
    },
    "tags": []
   },
   "source": [
    "# 14. bki_request_cnt - количество запросов в БКИ"
   ]
  },
  {
   "cell_type": "code",
   "execution_count": 66,
   "metadata": {
    "execution": {
     "iopub.execute_input": "2020-11-09T05:48:11.753146Z",
     "iopub.status.busy": "2020-11-09T05:48:11.752078Z",
     "iopub.status.idle": "2020-11-09T05:48:11.763119Z",
     "shell.execute_reply": "2020-11-09T05:48:11.762506Z"
    },
    "papermill": {
     "duration": 0.143311,
     "end_time": "2020-11-09T05:48:11.763229",
     "exception": false,
     "start_time": "2020-11-09T05:48:11.619918",
     "status": "completed"
    },
    "tags": []
   },
   "outputs": [
    {
     "data": {
      "text/plain": [
       "count    110148.000000\n",
       "mean          2.005002\n",
       "std           2.266926\n",
       "min           0.000000\n",
       "25%           0.000000\n",
       "50%           1.000000\n",
       "75%           3.000000\n",
       "max          53.000000\n",
       "Name: bki_request_cnt, dtype: float64"
      ]
     },
     "execution_count": 66,
     "metadata": {},
     "output_type": "execute_result"
    }
   ],
   "source": [
    "train.bki_request_cnt.describe()"
   ]
  },
  {
   "cell_type": "code",
   "execution_count": 67,
   "metadata": {
    "execution": {
     "iopub.execute_input": "2020-11-09T05:48:12.023279Z",
     "iopub.status.busy": "2020-11-09T05:48:12.022595Z",
     "iopub.status.idle": "2020-11-09T05:48:12.040330Z",
     "shell.execute_reply": "2020-11-09T05:48:12.039796Z"
    },
    "papermill": {
     "duration": 0.148574,
     "end_time": "2020-11-09T05:48:12.040450",
     "exception": false,
     "start_time": "2020-11-09T05:48:11.891876",
     "status": "completed"
    },
    "tags": []
   },
   "outputs": [
    {
     "name": "stdout",
     "output_type": "stream",
     "text": [
      "25-й перцентиль: 0.0, 75-й перцентиль: 3.0, IQR: 3.0,  Границы выбросов: [7.5].\n"
     ]
    }
   ],
   "source": [
    "median = train.bki_request_cnt.median()\n",
    "IQR = train.bki_request_cnt.quantile(0.75) - train.bki_request_cnt.quantile(0.25)\n",
    "perc25 = train.bki_request_cnt.quantile(0.25)\n",
    "perc75 = train.bki_request_cnt.quantile(0.75)\n",
    "print('25-й перцентиль: {},'.format(perc25), '75-й перцентиль: {},'.format(perc75)\n",
    "      , \"IQR: {}, \".format(IQR),\"Границы выбросов: [{l}].\".format(l=perc75 + 1.5*IQR))"
   ]
  },
  {
   "cell_type": "code",
   "execution_count": 68,
   "metadata": {
    "execution": {
     "iopub.execute_input": "2020-11-09T05:48:12.294615Z",
     "iopub.status.busy": "2020-11-09T05:48:12.293779Z",
     "iopub.status.idle": "2020-11-09T05:48:12.296660Z",
     "shell.execute_reply": "2020-11-09T05:48:12.296125Z"
    },
    "papermill": {
     "duration": 0.13213,
     "end_time": "2020-11-09T05:48:12.296785",
     "exception": false,
     "start_time": "2020-11-09T05:48:12.164655",
     "status": "completed"
    },
    "tags": []
   },
   "outputs": [],
   "source": [
    "#train.bki_request_cnt = train.bki_request_cnt.apply(lambda x: 0 if x > 8 else x)\n"
   ]
  },
  {
   "cell_type": "code",
   "execution_count": 69,
   "metadata": {
    "execution": {
     "iopub.execute_input": "2020-11-09T05:48:12.552817Z",
     "iopub.status.busy": "2020-11-09T05:48:12.552125Z",
     "iopub.status.idle": "2020-11-09T05:48:13.803035Z",
     "shell.execute_reply": "2020-11-09T05:48:13.802411Z"
    },
    "papermill": {
     "duration": 1.381913,
     "end_time": "2020-11-09T05:48:13.803146",
     "exception": false,
     "start_time": "2020-11-09T05:48:12.421233",
     "status": "completed"
    },
    "tags": []
   },
   "outputs": [
    {
     "data": {
      "image/png": "[encoded data removed]",
      "text/plain": [
       "<Figure size 864x432 with 2 Axes>"
      ]
     },
     "metadata": {
      "needs_background": "light"
     },
     "output_type": "display_data"
    }
   ],
   "source": [
    "univariate_categorical('bki_request_cnt', True,False,True) "
   ]
  },
  {
   "cell_type": "markdown",
   "metadata": {
    "papermill": {
     "duration": 0.125155,
     "end_time": "2020-11-09T05:48:14.053706",
     "exception": false,
     "start_time": "2020-11-09T05:48:13.928551",
     "status": "completed"
    },
    "tags": []
   },
   "source": [
    "Немного удивительно что люди с достаточно большими отказами все вернули."
   ]
  },
  {
   "cell_type": "markdown",
   "metadata": {
    "papermill": {
     "duration": 0.125773,
     "end_time": "2020-11-09T05:48:14.305141",
     "exception": false,
     "start_time": "2020-11-09T05:48:14.179368",
     "status": "completed"
    },
    "tags": []
   },
   "source": [
    "# 15. score_bki - баллы в БКИ"
   ]
  },
  {
   "cell_type": "code",
   "execution_count": 70,
   "metadata": {
    "execution": {
     "iopub.execute_input": "2020-11-09T05:48:14.561040Z",
     "iopub.status.busy": "2020-11-09T05:48:14.560362Z",
     "iopub.status.idle": "2020-11-09T05:48:14.571525Z",
     "shell.execute_reply": "2020-11-09T05:48:14.570929Z"
    },
    "papermill": {
     "duration": 0.141309,
     "end_time": "2020-11-09T05:48:14.571637",
     "exception": false,
     "start_time": "2020-11-09T05:48:14.430328",
     "status": "completed"
    },
    "tags": []
   },
   "outputs": [
    {
     "data": {
      "text/plain": [
       "count    110148.000000\n",
       "mean         -1.904535\n",
       "std           0.499397\n",
       "min          -3.624586\n",
       "25%          -2.260434\n",
       "50%          -1.920823\n",
       "75%          -1.567888\n",
       "max           0.199773\n",
       "Name: score_bki, dtype: float64"
      ]
     },
     "execution_count": 70,
     "metadata": {},
     "output_type": "execute_result"
    }
   ],
   "source": [
    "train.score_bki.describe()"
   ]
  },
  {
   "cell_type": "code",
   "execution_count": 71,
   "metadata": {
    "execution": {
     "iopub.execute_input": "2020-11-09T05:48:14.829448Z",
     "iopub.status.busy": "2020-11-09T05:48:14.828735Z",
     "iopub.status.idle": "2020-11-09T05:48:14.855680Z",
     "shell.execute_reply": "2020-11-09T05:48:14.856178Z"
    },
    "papermill": {
     "duration": 0.158218,
     "end_time": "2020-11-09T05:48:14.856343",
     "exception": false,
     "start_time": "2020-11-09T05:48:14.698125",
     "status": "completed"
    },
    "tags": []
   },
   "outputs": [
    {
     "data": {
      "text/html": [
       "<div>\n",
       "<style scoped>\n",
       "    .dataframe tbody tr th:only-of-type {\n",
       "        vertical-align: middle;\n",
       "    }\n",
       "\n",
       "    .dataframe tbody tr th {\n",
       "        vertical-align: top;\n",
       "    }\n",
       "\n",
       "    .dataframe thead th {\n",
       "        text-align: right;\n",
       "    }\n",
       "</style>\n",
       "<table border=\"1\" class=\"dataframe\">\n",
       "  <thead>\n",
       "    <tr style=\"text-align: right;\">\n",
       "      <th></th>\n",
       "      <th>count</th>\n",
       "      <th>mean</th>\n",
       "      <th>std</th>\n",
       "      <th>min</th>\n",
       "      <th>25%</th>\n",
       "      <th>50%</th>\n",
       "      <th>75%</th>\n",
       "      <th>max</th>\n",
       "    </tr>\n",
       "    <tr>\n",
       "      <th>default</th>\n",
       "      <th></th>\n",
       "      <th></th>\n",
       "      <th></th>\n",
       "      <th></th>\n",
       "      <th></th>\n",
       "      <th></th>\n",
       "      <th></th>\n",
       "      <th></th>\n",
       "    </tr>\n",
       "  </thead>\n",
       "  <tbody>\n",
       "    <tr>\n",
       "      <th>0.0</th>\n",
       "      <td>64427.0</td>\n",
       "      <td>-1.938048</td>\n",
       "      <td>0.489903</td>\n",
       "      <td>-3.624586</td>\n",
       "      <td>-2.284749</td>\n",
       "      <td>-1.956982</td>\n",
       "      <td>-1.609687</td>\n",
       "      <td>0.199773</td>\n",
       "    </tr>\n",
       "    <tr>\n",
       "      <th>1.0</th>\n",
       "      <td>9372.0</td>\n",
       "      <td>-1.675637</td>\n",
       "      <td>0.494691</td>\n",
       "      <td>-3.456086</td>\n",
       "      <td>-2.015871</td>\n",
       "      <td>-1.683857</td>\n",
       "      <td>-1.337922</td>\n",
       "      <td>0.199773</td>\n",
       "    </tr>\n",
       "  </tbody>\n",
       "</table>\n",
       "</div>"
      ],
      "text/plain": [
       "           count      mean       std       min       25%       50%       75%  \\\n",
       "default                                                                        \n",
       "0.0      64427.0 -1.938048  0.489903 -3.624586 -2.284749 -1.956982 -1.609687   \n",
       "1.0       9372.0 -1.675637  0.494691 -3.456086 -2.015871 -1.683857 -1.337922   \n",
       "\n",
       "              max  \n",
       "default            \n",
       "0.0      0.199773  \n",
       "1.0      0.199773  "
      ]
     },
     "execution_count": 71,
     "metadata": {},
     "output_type": "execute_result"
    }
   ],
   "source": [
    "train.groupby('default').score_bki.describe()"
   ]
  },
  {
   "cell_type": "markdown",
   "metadata": {
    "papermill": {
     "duration": 0.125753,
     "end_time": "2020-11-09T05:48:15.109147",
     "exception": false,
     "start_time": "2020-11-09T05:48:14.983394",
     "status": "completed"
    },
    "tags": []
   },
   "source": [
    "Напрямую разницы не видно"
   ]
  },
  {
   "cell_type": "markdown",
   "metadata": {
    "papermill": {
     "duration": 0.12618,
     "end_time": "2020-11-09T05:48:15.362746",
     "exception": false,
     "start_time": "2020-11-09T05:48:15.236566",
     "status": "completed"
    },
    "tags": []
   },
   "source": [
    "# 16. income - доход заёмщика"
   ]
  },
  {
   "cell_type": "code",
   "execution_count": 72,
   "metadata": {
    "execution": {
     "iopub.execute_input": "2020-11-09T05:48:15.620331Z",
     "iopub.status.busy": "2020-11-09T05:48:15.619637Z",
     "iopub.status.idle": "2020-11-09T05:48:15.630276Z",
     "shell.execute_reply": "2020-11-09T05:48:15.629718Z"
    },
    "papermill": {
     "duration": 0.141558,
     "end_time": "2020-11-09T05:48:15.630390",
     "exception": false,
     "start_time": "2020-11-09T05:48:15.488832",
     "status": "completed"
    },
    "tags": []
   },
   "outputs": [
    {
     "data": {
      "text/plain": [
       "count     110148.000000\n",
       "mean       41012.648537\n",
       "std        45399.735051\n",
       "min         1000.000000\n",
       "25%        20000.000000\n",
       "50%        30000.000000\n",
       "75%        48000.000000\n",
       "max      1000000.000000\n",
       "Name: income, dtype: float64"
      ]
     },
     "execution_count": 72,
     "metadata": {},
     "output_type": "execute_result"
    }
   ],
   "source": [
    "train.income.describe()"
   ]
  },
  {
   "cell_type": "markdown",
   "metadata": {
    "papermill": {
     "duration": 0.131454,
     "end_time": "2020-11-09T05:48:15.889772",
     "exception": false,
     "start_time": "2020-11-09T05:48:15.758318",
     "status": "completed"
    },
    "tags": []
   },
   "source": [
    "Довольно большой разброс"
   ]
  },
  {
   "cell_type": "code",
   "execution_count": 73,
   "metadata": {
    "execution": {
     "iopub.execute_input": "2020-11-09T05:48:16.148379Z",
     "iopub.status.busy": "2020-11-09T05:48:16.147672Z",
     "iopub.status.idle": "2020-11-09T05:48:16.150965Z",
     "shell.execute_reply": "2020-11-09T05:48:16.150338Z"
    },
    "papermill": {
     "duration": 0.134088,
     "end_time": "2020-11-09T05:48:16.151079",
     "exception": false,
     "start_time": "2020-11-09T05:48:16.016991",
     "status": "completed"
    },
    "tags": []
   },
   "outputs": [],
   "source": [
    "# Разобьем возраст на интервалы\n",
    "\n",
    "#bins = [0, 20000, 38000, 90000, 135000, 1000000]\n",
    "#numbers = ['a','b','c', 'd', 'e']\n",
    "#train['income_intervals']=pd.cut(train['income'],bins,labels=numbers)"
   ]
  },
  {
   "cell_type": "code",
   "execution_count": 74,
   "metadata": {
    "execution": {
     "iopub.execute_input": "2020-11-09T05:48:16.410315Z",
     "iopub.status.busy": "2020-11-09T05:48:16.409465Z",
     "iopub.status.idle": "2020-11-09T05:48:16.412810Z",
     "shell.execute_reply": "2020-11-09T05:48:16.412144Z"
    },
    "papermill": {
     "duration": 0.134314,
     "end_time": "2020-11-09T05:48:16.412935",
     "exception": false,
     "start_time": "2020-11-09T05:48:16.278621",
     "status": "completed"
    },
    "tags": []
   },
   "outputs": [],
   "source": [
    "#train['income_intervals'] = train['income_intervals'].apply(lambda x: x.replace(\"a\", '1').replace(\"b\", '2').replace('c', '3').replace(\"d\", '4').replace(\"e\", '4'))\n",
    "#train['income_intervals'] = train['income_intervals'].apply(lambda x: int(x))\n",
    "#train['income_intervals_per_edu'] = train.income_intervals / (train.education +1)"
   ]
  },
  {
   "cell_type": "markdown",
   "metadata": {
    "papermill": {
     "duration": 0.126794,
     "end_time": "2020-11-09T05:48:16.666665",
     "exception": false,
     "start_time": "2020-11-09T05:48:16.539871",
     "status": "completed"
    },
    "tags": []
   },
   "source": [
    "Это не дало результата"
   ]
  },
  {
   "cell_type": "markdown",
   "metadata": {
    "papermill": {
     "duration": 0.128761,
     "end_time": "2020-11-09T05:48:16.922413",
     "exception": false,
     "start_time": "2020-11-09T05:48:16.793652",
     "status": "completed"
    },
    "tags": []
   },
   "source": [
    "Учитывая что 75% людей имеет доход 48 000, 1 млн похож на выброс. Проверим"
   ]
  },
  {
   "cell_type": "code",
   "execution_count": 75,
   "metadata": {
    "execution": {
     "iopub.execute_input": "2020-11-09T05:48:17.185902Z",
     "iopub.status.busy": "2020-11-09T05:48:17.185229Z",
     "iopub.status.idle": "2020-11-09T05:48:17.200790Z",
     "shell.execute_reply": "2020-11-09T05:48:17.200141Z"
    },
    "papermill": {
     "duration": 0.14976,
     "end_time": "2020-11-09T05:48:17.200945",
     "exception": false,
     "start_time": "2020-11-09T05:48:17.051185",
     "status": "completed"
    },
    "tags": []
   },
   "outputs": [
    {
     "name": "stdout",
     "output_type": "stream",
     "text": [
      "25-й перцентиль: 20000.0, 75-й перцентиль: 48000.0, IQR: 28000.0,  Границы выбросов: [90000.0].\n"
     ]
    }
   ],
   "source": [
    "median = train.income.median()\n",
    "IQR = train.income.quantile(0.75) - train.income.quantile(0.25)\n",
    "perc25 = train.income.quantile(0.25)\n",
    "perc75 = train.income.quantile(0.75)\n",
    "print('25-й перцентиль: {},'.format(perc25), '75-й перцентиль: {},'.format(perc75)\n",
    "      , \"IQR: {}, \".format(IQR),\"Границы выбросов: [{l}].\".format(l=perc75 + 1.5*IQR))"
   ]
  },
  {
   "cell_type": "code",
   "execution_count": 76,
   "metadata": {
    "execution": {
     "iopub.execute_input": "2020-11-09T05:48:17.461931Z",
     "iopub.status.busy": "2020-11-09T05:48:17.461276Z",
     "iopub.status.idle": "2020-11-09T05:48:17.464269Z",
     "shell.execute_reply": "2020-11-09T05:48:17.463735Z"
    },
    "papermill": {
     "duration": 0.135194,
     "end_time": "2020-11-09T05:48:17.464377",
     "exception": false,
     "start_time": "2020-11-09T05:48:17.329183",
     "status": "completed"
    },
    "tags": []
   },
   "outputs": [],
   "source": [
    "#train.income = train.income.apply(lambda x: 30000 if x > 90000 else x)"
   ]
  },
  {
   "cell_type": "markdown",
   "metadata": {
    "papermill": {
     "duration": 0.128541,
     "end_time": "2020-11-09T05:48:17.720667",
     "exception": false,
     "start_time": "2020-11-09T05:48:17.592126",
     "status": "completed"
    },
    "tags": []
   },
   "source": [
    "# 17. sna - связь заемщика с клиентами банка"
   ]
  },
  {
   "cell_type": "code",
   "execution_count": 77,
   "metadata": {
    "execution": {
     "iopub.execute_input": "2020-11-09T05:48:17.980551Z",
     "iopub.status.busy": "2020-11-09T05:48:17.979904Z",
     "iopub.status.idle": "2020-11-09T05:48:17.984457Z",
     "shell.execute_reply": "2020-11-09T05:48:17.984999Z"
    },
    "papermill": {
     "duration": 0.137011,
     "end_time": "2020-11-09T05:48:17.985148",
     "exception": false,
     "start_time": "2020-11-09T05:48:17.848137",
     "status": "completed"
    },
    "tags": []
   },
   "outputs": [
    {
     "data": {
      "text/plain": [
       "array([4, 1, 2, 3])"
      ]
     },
     "execution_count": 77,
     "metadata": {},
     "output_type": "execute_result"
    }
   ],
   "source": [
    "train.sna.unique()"
   ]
  },
  {
   "cell_type": "code",
   "execution_count": 78,
   "metadata": {
    "execution": {
     "iopub.execute_input": "2020-11-09T05:48:18.248899Z",
     "iopub.status.busy": "2020-11-09T05:48:18.248262Z",
     "iopub.status.idle": "2020-11-09T05:48:18.306201Z",
     "shell.execute_reply": "2020-11-09T05:48:18.305560Z"
    },
    "papermill": {
     "duration": 0.192733,
     "end_time": "2020-11-09T05:48:18.306313",
     "exception": false,
     "start_time": "2020-11-09T05:48:18.113580",
     "status": "completed"
    },
    "tags": []
   },
   "outputs": [
    {
     "data": {
      "text/html": [
       "<div>\n",
       "<style scoped>\n",
       "    .dataframe tbody tr th:only-of-type {\n",
       "        vertical-align: middle;\n",
       "    }\n",
       "\n",
       "    .dataframe tbody tr th {\n",
       "        vertical-align: top;\n",
       "    }\n",
       "\n",
       "    .dataframe thead th {\n",
       "        text-align: right;\n",
       "    }\n",
       "</style>\n",
       "<table border=\"1\" class=\"dataframe\">\n",
       "  <thead>\n",
       "    <tr style=\"text-align: right;\">\n",
       "      <th></th>\n",
       "      <th>sna</th>\n",
       "    </tr>\n",
       "  </thead>\n",
       "  <tbody>\n",
       "    <tr>\n",
       "      <th>1</th>\n",
       "      <td>0.641691</td>\n",
       "    </tr>\n",
       "    <tr>\n",
       "      <th>4</th>\n",
       "      <td>0.158705</td>\n",
       "    </tr>\n",
       "    <tr>\n",
       "      <th>2</th>\n",
       "      <td>0.143734</td>\n",
       "    </tr>\n",
       "    <tr>\n",
       "      <th>3</th>\n",
       "      <td>0.055870</td>\n",
       "    </tr>\n",
       "  </tbody>\n",
       "</table>\n",
       "</div>"
      ],
      "text/plain": [
       "        sna\n",
       "1  0.641691\n",
       "4  0.158705\n",
       "2  0.143734\n",
       "3  0.055870"
      ]
     },
     "metadata": {},
     "output_type": "display_data"
    },
    {
     "data": {
      "image/png": "[encoded data removed]",
      "text/plain": [
       "<Figure size 432x288 with 1 Axes>"
      ]
     },
     "metadata": {},
     "output_type": "display_data"
    }
   ],
   "source": [
    "train['sna'].value_counts().plot(kind='pie')\n",
    "display(pd.DataFrame(train.sna.value_counts(1)))"
   ]
  },
  {
   "cell_type": "code",
   "execution_count": 79,
   "metadata": {
    "execution": {
     "iopub.execute_input": "2020-11-09T05:48:18.569439Z",
     "iopub.status.busy": "2020-11-09T05:48:18.568740Z",
     "iopub.status.idle": "2020-11-09T05:48:18.864195Z",
     "shell.execute_reply": "2020-11-09T05:48:18.863531Z"
    },
    "papermill": {
     "duration": 0.429183,
     "end_time": "2020-11-09T05:48:18.864310",
     "exception": false,
     "start_time": "2020-11-09T05:48:18.435127",
     "status": "completed"
    },
    "tags": []
   },
   "outputs": [
    {
     "data": {
      "image/png": "[encoded data removed]",
      "text/plain": [
       "<Figure size 864x432 with 2 Axes>"
      ]
     },
     "metadata": {
      "needs_background": "light"
     },
     "output_type": "display_data"
    }
   ],
   "source": [
    "univariate_categorical('sna', False,False,True)"
   ]
  },
  {
   "cell_type": "markdown",
   "metadata": {
    "papermill": {
     "duration": 0.130444,
     "end_time": "2020-11-09T05:48:19.125347",
     "exception": false,
     "start_time": "2020-11-09T05:48:18.994903",
     "status": "completed"
    },
    "tags": []
   },
   "source": [
    "# 18. first_time - давность наличия информации о заемщике"
   ]
  },
  {
   "cell_type": "code",
   "execution_count": 80,
   "metadata": {
    "execution": {
     "iopub.execute_input": "2020-11-09T05:48:19.420287Z",
     "iopub.status.busy": "2020-11-09T05:48:19.419507Z",
     "iopub.status.idle": "2020-11-09T05:48:19.490818Z",
     "shell.execute_reply": "2020-11-09T05:48:19.490271Z"
    },
    "papermill": {
     "duration": 0.230481,
     "end_time": "2020-11-09T05:48:19.490934",
     "exception": false,
     "start_time": "2020-11-09T05:48:19.260453",
     "status": "completed"
    },
    "tags": []
   },
   "outputs": [
    {
     "data": {
      "text/html": [
       "<div>\n",
       "<style scoped>\n",
       "    .dataframe tbody tr th:only-of-type {\n",
       "        vertical-align: middle;\n",
       "    }\n",
       "\n",
       "    .dataframe tbody tr th {\n",
       "        vertical-align: top;\n",
       "    }\n",
       "\n",
       "    .dataframe thead th {\n",
       "        text-align: right;\n",
       "    }\n",
       "</style>\n",
       "<table border=\"1\" class=\"dataframe\">\n",
       "  <thead>\n",
       "    <tr style=\"text-align: right;\">\n",
       "      <th></th>\n",
       "      <th>first_time</th>\n",
       "    </tr>\n",
       "  </thead>\n",
       "  <tbody>\n",
       "    <tr>\n",
       "      <th>3</th>\n",
       "      <td>0.422958</td>\n",
       "    </tr>\n",
       "    <tr>\n",
       "      <th>4</th>\n",
       "      <td>0.254358</td>\n",
       "    </tr>\n",
       "    <tr>\n",
       "      <th>1</th>\n",
       "      <td>0.166104</td>\n",
       "    </tr>\n",
       "    <tr>\n",
       "      <th>2</th>\n",
       "      <td>0.156580</td>\n",
       "    </tr>\n",
       "  </tbody>\n",
       "</table>\n",
       "</div>"
      ],
      "text/plain": [
       "   first_time\n",
       "3    0.422958\n",
       "4    0.254358\n",
       "1    0.166104\n",
       "2    0.156580"
      ]
     },
     "metadata": {},
     "output_type": "display_data"
    },
    {
     "data": {
      "image/png": "[encoded data removed]",
      "text/plain": [
       "<Figure size 432x288 with 1 Axes>"
      ]
     },
     "metadata": {},
     "output_type": "display_data"
    }
   ],
   "source": [
    "train['first_time'].value_counts().plot(kind='pie')\n",
    "display(pd.DataFrame(train.first_time.value_counts(1)))"
   ]
  },
  {
   "cell_type": "code",
   "execution_count": 81,
   "metadata": {
    "execution": {
     "iopub.execute_input": "2020-11-09T05:48:19.784175Z",
     "iopub.status.busy": "2020-11-09T05:48:19.783268Z",
     "iopub.status.idle": "2020-11-09T05:48:20.071507Z",
     "shell.execute_reply": "2020-11-09T05:48:20.070909Z"
    },
    "papermill": {
     "duration": 0.430554,
     "end_time": "2020-11-09T05:48:20.071615",
     "exception": false,
     "start_time": "2020-11-09T05:48:19.641061",
     "status": "completed"
    },
    "tags": []
   },
   "outputs": [
    {
     "data": {
      "image/png": "[encoded data removed]",
      "text/plain": [
       "<Figure size 864x432 with 2 Axes>"
      ]
     },
     "metadata": {
      "needs_background": "light"
     },
     "output_type": "display_data"
    }
   ],
   "source": [
    "univariate_categorical('first_time', False,False,True)"
   ]
  },
  {
   "cell_type": "markdown",
   "metadata": {
    "papermill": {
     "duration": 0.135461,
     "end_time": "2020-11-09T05:48:20.340411",
     "exception": false,
     "start_time": "2020-11-09T05:48:20.204950",
     "status": "completed"
    },
    "tags": []
   },
   "source": [
    "Хорошая зависимость дефолта от признака"
   ]
  },
  {
   "cell_type": "markdown",
   "metadata": {
    "papermill": {
     "duration": 0.13157,
     "end_time": "2020-11-09T05:48:20.604370",
     "exception": false,
     "start_time": "2020-11-09T05:48:20.472800",
     "status": "completed"
    },
    "tags": []
   },
   "source": [
    "# 19. default - наличие дефолта ('1' - да, '0' - нет)"
   ]
  },
  {
   "cell_type": "code",
   "execution_count": 82,
   "metadata": {
    "execution": {
     "iopub.execute_input": "2020-11-09T05:48:20.879581Z",
     "iopub.status.busy": "2020-11-09T05:48:20.875827Z",
     "iopub.status.idle": "2020-11-09T05:48:21.126438Z",
     "shell.execute_reply": "2020-11-09T05:48:21.125897Z"
    },
    "papermill": {
     "duration": 0.389575,
     "end_time": "2020-11-09T05:48:21.126550",
     "exception": false,
     "start_time": "2020-11-09T05:48:20.736975",
     "status": "completed"
    },
    "tags": []
   },
   "outputs": [
    {
     "data": {
      "text/plain": [
       "<matplotlib.axes._subplots.AxesSubplot at 0x7f05562aa1d0>"
      ]
     },
     "execution_count": 82,
     "metadata": {},
     "output_type": "execute_result"
    },
    {
     "data": {
      "image/png": "[encoded data removed]",
      "text/plain": [
       "<Figure size 432x288 with 1 Axes>"
      ]
     },
     "metadata": {
      "needs_background": "light"
     },
     "output_type": "display_data"
    }
   ],
   "source": [
    "train['default'].hist(bins=77)"
   ]
  },
  {
   "cell_type": "code",
   "execution_count": 83,
   "metadata": {
    "execution": {
     "iopub.execute_input": "2020-11-09T05:48:21.398588Z",
     "iopub.status.busy": "2020-11-09T05:48:21.397780Z",
     "iopub.status.idle": "2020-11-09T05:48:21.401806Z",
     "shell.execute_reply": "2020-11-09T05:48:21.401182Z"
    },
    "papermill": {
     "duration": 0.141691,
     "end_time": "2020-11-09T05:48:21.401927",
     "exception": false,
     "start_time": "2020-11-09T05:48:21.260236",
     "status": "completed"
    },
    "tags": []
   },
   "outputs": [
    {
     "ename": "SyntaxError",
     "evalue": "invalid syntax (<ipython-input-83-6f824e2e6cdd>, line 1)",
     "output_type": "error",
     "traceback": [
      "\u001b[0;36m  File \u001b[0;32m\"<ipython-input-83-6f824e2e6cdd>\"\u001b[0;36m, line \u001b[0;32m1\u001b[0m\n\u001b[0;31m    Имеем дело с несбалансированными данными\u001b[0m\n\u001b[0m             ^\u001b[0m\n\u001b[0;31mSyntaxError\u001b[0m\u001b[0;31m:\u001b[0m invalid syntax\n"
     ]
    }
   ],
   "source": [
    "Имеем дело с несбалансированными данными"
   ]
  },
  {
   "cell_type": "code",
   "execution_count": 84,
   "metadata": {
    "execution": {
     "iopub.execute_input": "2020-11-09T05:48:21.682643Z",
     "iopub.status.busy": "2020-11-09T05:48:21.682003Z",
     "iopub.status.idle": "2020-11-09T05:48:21.722096Z",
     "shell.execute_reply": "2020-11-09T05:48:21.721362Z"
    },
    "papermill": {
     "duration": 0.18534,
     "end_time": "2020-11-09T05:48:21.722216",
     "exception": false,
     "start_time": "2020-11-09T05:48:21.536876",
     "status": "completed"
    },
    "tags": []
   },
   "outputs": [
    {
     "data": {
      "text/html": [
       "<div>\n",
       "<style scoped>\n",
       "    .dataframe tbody tr th:only-of-type {\n",
       "        vertical-align: middle;\n",
       "    }\n",
       "\n",
       "    .dataframe tbody tr th {\n",
       "        vertical-align: top;\n",
       "    }\n",
       "\n",
       "    .dataframe thead th {\n",
       "        text-align: right;\n",
       "    }\n",
       "</style>\n",
       "<table border=\"1\" class=\"dataframe\">\n",
       "  <thead>\n",
       "    <tr style=\"text-align: right;\">\n",
       "      <th></th>\n",
       "      <th>education</th>\n",
       "      <th>age</th>\n",
       "      <th>decline_app_cnt</th>\n",
       "      <th>good_work</th>\n",
       "      <th>score_bki</th>\n",
       "      <th>bki_request_cnt</th>\n",
       "      <th>region_rating</th>\n",
       "      <th>home_address</th>\n",
       "      <th>work_address</th>\n",
       "      <th>income</th>\n",
       "      <th>sna</th>\n",
       "      <th>first_time</th>\n",
       "      <th>sample</th>\n",
       "      <th>education_is_nan</th>\n",
       "      <th>date_diff</th>\n",
       "      <th>month</th>\n",
       "      <th>car_type2</th>\n",
       "    </tr>\n",
       "    <tr>\n",
       "      <th>default</th>\n",
       "      <th></th>\n",
       "      <th></th>\n",
       "      <th></th>\n",
       "      <th></th>\n",
       "      <th></th>\n",
       "      <th></th>\n",
       "      <th></th>\n",
       "      <th></th>\n",
       "      <th></th>\n",
       "      <th></th>\n",
       "      <th></th>\n",
       "      <th></th>\n",
       "      <th></th>\n",
       "      <th></th>\n",
       "      <th></th>\n",
       "      <th></th>\n",
       "      <th></th>\n",
       "    </tr>\n",
       "  </thead>\n",
       "  <tbody>\n",
       "    <tr>\n",
       "      <th>0.0</th>\n",
       "      <td>0.665963</td>\n",
       "      <td>39.390504</td>\n",
       "      <td>0.240877</td>\n",
       "      <td>0.171031</td>\n",
       "      <td>-1.938048</td>\n",
       "      <td>1.933134</td>\n",
       "      <td>57.169044</td>\n",
       "      <td>1.558477</td>\n",
       "      <td>2.474816</td>\n",
       "      <td>41799.713288</td>\n",
       "      <td>1.679405</td>\n",
       "      <td>2.806106</td>\n",
       "      <td>1.0</td>\n",
       "      <td>0.004222</td>\n",
       "      <td>61.517795</td>\n",
       "      <td>2.552470</td>\n",
       "      <td>0.530880</td>\n",
       "    </tr>\n",
       "    <tr>\n",
       "      <th>1.0</th>\n",
       "      <td>0.531797</td>\n",
       "      <td>38.525395</td>\n",
       "      <td>0.515472</td>\n",
       "      <td>0.122706</td>\n",
       "      <td>-1.675637</td>\n",
       "      <td>2.462335</td>\n",
       "      <td>53.677977</td>\n",
       "      <td>1.692595</td>\n",
       "      <td>2.643833</td>\n",
       "      <td>36288.113316</td>\n",
       "      <td>2.104033</td>\n",
       "      <td>2.486022</td>\n",
       "      <td>1.0</td>\n",
       "      <td>0.003735</td>\n",
       "      <td>57.719484</td>\n",
       "      <td>2.431071</td>\n",
       "      <td>0.402475</td>\n",
       "    </tr>\n",
       "  </tbody>\n",
       "</table>\n",
       "</div>"
      ],
      "text/plain": [
       "         education        age  decline_app_cnt  good_work  score_bki  \\\n",
       "default                                                                \n",
       "0.0       0.665963  39.390504         0.240877   0.171031  -1.938048   \n",
       "1.0       0.531797  38.525395         0.515472   0.122706  -1.675637   \n",
       "\n",
       "         bki_request_cnt  region_rating  home_address  work_address  \\\n",
       "default                                                               \n",
       "0.0             1.933134      57.169044      1.558477      2.474816   \n",
       "1.0             2.462335      53.677977      1.692595      2.643833   \n",
       "\n",
       "               income       sna  first_time  sample  education_is_nan  \\\n",
       "default                                                                 \n",
       "0.0      41799.713288  1.679405    2.806106     1.0          0.004222   \n",
       "1.0      36288.113316  2.104033    2.486022     1.0          0.003735   \n",
       "\n",
       "         date_diff     month  car_type2  \n",
       "default                                  \n",
       "0.0      61.517795  2.552470   0.530880  \n",
       "1.0      57.719484  2.431071   0.402475  "
      ]
     },
     "execution_count": 84,
     "metadata": {},
     "output_type": "execute_result"
    }
   ],
   "source": [
    "pd.DataFrame(train.groupby('default').agg('mean'))"
   ]
  },
  {
   "cell_type": "markdown",
   "metadata": {
    "papermill": {
     "duration": 0.160305,
     "end_time": "2020-11-09T05:48:22.025046",
     "exception": false,
     "start_time": "2020-11-09T05:48:21.864741",
     "status": "completed"
    },
    "tags": []
   },
   "source": [
    "#  Подготовка признаков"
   ]
  },
  {
   "cell_type": "code",
   "execution_count": 85,
   "metadata": {
    "execution": {
     "iopub.execute_input": "2020-11-09T05:48:22.345625Z",
     "iopub.status.busy": "2020-11-09T05:48:22.344737Z",
     "iopub.status.idle": "2020-11-09T05:48:22.373461Z",
     "shell.execute_reply": "2020-11-09T05:48:22.372866Z"
    },
    "papermill": {
     "duration": 0.170733,
     "end_time": "2020-11-09T05:48:22.373577",
     "exception": false,
     "start_time": "2020-11-09T05:48:22.202844",
     "status": "completed"
    },
    "tags": []
   },
   "outputs": [],
   "source": [
    "train['bki_request_cnt'] = np.log(train['bki_request_cnt']+1)\n",
    "train['decline_app_cnt'] = np.log(train['decline_app_cnt']+1)\n",
    "train['income'] = np.log(train['income']+1)\n",
    "train['age'] = np.log(train['age']+1)\n",
    "#train['summ'] = train['good_work'] + train ['home_address'] + train ['region_rating'] + train['work_address']"
   ]
  },
  {
   "cell_type": "code",
   "execution_count": 86,
   "metadata": {
    "execution": {
     "iopub.execute_input": "2020-11-09T05:48:22.650956Z",
     "iopub.status.busy": "2020-11-09T05:48:22.650053Z",
     "iopub.status.idle": "2020-11-09T05:48:22.653285Z",
     "shell.execute_reply": "2020-11-09T05:48:22.652662Z"
    },
    "papermill": {
     "duration": 0.143427,
     "end_time": "2020-11-09T05:48:22.653393",
     "exception": false,
     "start_time": "2020-11-09T05:48:22.509966",
     "status": "completed"
    },
    "tags": []
   },
   "outputs": [],
   "source": [
    "# Групировка признаков\n",
    "time_col = ['app_date']\n",
    "cat_cols = ['education', 'region_rating', 'home_address', 'work_address', 'sna', 'first_time', 'age_intervals', 'car_type2'] #, 'age_intervals']'car_type2',\n",
    "bin_cols = ['sex', 'good_work', 'foreign_passport']# 'car', 'car_type',\n",
    "\n",
    "num_cols = ['decline_app_cnt','score_bki','bki_request_cnt','income', 'date_diff', 'age'] # 'poly138', 'poly37', 'poly6', 'poly50', 'poly5'\n"
   ]
  },
  {
   "cell_type": "markdown",
   "metadata": {
    "papermill": {
     "duration": 0.144577,
     "end_time": "2020-11-09T05:48:22.934640",
     "exception": false,
     "start_time": "2020-11-09T05:48:22.790063",
     "status": "completed"
    },
    "tags": []
   },
   "source": [
    "Полиномиальные признаки н дали результата\n"
   ]
  },
  {
   "cell_type": "markdown",
   "metadata": {
    "papermill": {
     "duration": 0.156528,
     "end_time": "2020-11-09T05:48:23.258517",
     "exception": false,
     "start_time": "2020-11-09T05:48:23.101989",
     "status": "completed"
    },
    "tags": []
   },
   "source": [
    "pf = PolynomialFeatures(2)\n",
    "poly_df = pf.fit_transform(train[['education', 'region_rating', 'home_address', 'work_address', \n",
    "                                 'sna', 'first_time', 'age_intervals', 'car_type2', 'good_work', 'foreign_passport', 'decline_app_cnt','score_bki',\n",
    "                                 'bki_request_cnt','income', 'date_diff']])\n",
    "poly_df1 = pd.DataFrame(poly_df)\n",
    "poly_df1 = poly_df1.drop(0, axis=1)\n",
    "#data['poly158'] = poly_df1[158]\n",
    "#data['poly160'] = poly_df1[160]\n",
    "#data['poly162'] = poly_df1[162]\n",
    "poly_df1['default'] = train.default\n",
    "poly_df1"
   ]
  },
  {
   "cell_type": "markdown",
   "metadata": {
    "papermill": {
     "duration": 0.135127,
     "end_time": "2020-11-09T05:48:23.529020",
     "exception": false,
     "start_time": "2020-11-09T05:48:23.393893",
     "status": "completed"
    },
    "tags": []
   },
   "source": [
    "train['poly138'] = poly_df1[138]\n",
    "train['poly37'] = poly_df1[37]\n",
    "train['poly6'] = poly_df1[6]\n",
    "#train['poly43'] = poly_df[43]\n",
    "train['poly12'] = poly_df1[12]\n",
    "train['poly50'] = poly_df1[50]\n",
    "train['poly5'] = poly_df1[5]\n"
   ]
  },
  {
   "cell_type": "markdown",
   "metadata": {
    "papermill": {
     "duration": 0.135545,
     "end_time": "2020-11-09T05:48:23.799614",
     "exception": false,
     "start_time": "2020-11-09T05:48:23.664069",
     "status": "completed"
    },
    "tags": []
   },
   "source": [
    "poly_df1.corr()['default'].sort_values().head(10)"
   ]
  },
  {
   "cell_type": "markdown",
   "metadata": {
    "papermill": {
     "duration": 0.13739,
     "end_time": "2020-11-09T05:48:24.075653",
     "exception": false,
     "start_time": "2020-11-09T05:48:23.938263",
     "status": "completed"
    },
    "tags": []
   },
   "source": [
    "poly_df1.corr()['default'].sort_values().tail(10)"
   ]
  },
  {
   "cell_type": "markdown",
   "metadata": {
    "papermill": {
     "duration": 0.135252,
     "end_time": "2020-11-09T05:48:24.348336",
     "exception": false,
     "start_time": "2020-11-09T05:48:24.213084",
     "status": "completed"
    },
    "tags": []
   },
   "source": [
    "# Корреляция"
   ]
  },
  {
   "cell_type": "code",
   "execution_count": 87,
   "metadata": {
    "execution": {
     "iopub.execute_input": "2020-11-09T05:48:24.625471Z",
     "iopub.status.busy": "2020-11-09T05:48:24.624748Z",
     "iopub.status.idle": "2020-11-09T05:48:24.923995Z",
     "shell.execute_reply": "2020-11-09T05:48:24.923313Z"
    },
    "papermill": {
     "duration": 0.440715,
     "end_time": "2020-11-09T05:48:24.924118",
     "exception": false,
     "start_time": "2020-11-09T05:48:24.483403",
     "status": "completed"
    },
    "tags": []
   },
   "outputs": [
    {
     "data": {
      "text/plain": [
       "<matplotlib.axes._subplots.AxesSubplot at 0x7f055666a890>"
      ]
     },
     "execution_count": 87,
     "metadata": {},
     "output_type": "execute_result"
    },
    {
     "data": {
      "image/png": "[encoded data removed]",
      "text/plain": [
       "<Figure size 432x288 with 2 Axes>"
      ]
     },
     "metadata": {
      "needs_background": "light"
     },
     "output_type": "display_data"
    }
   ],
   "source": [
    "sns.heatmap(train[num_cols].corr().abs(), vmin=0, vmax=1, annot = True, cmap=\"YlGnBu\")"
   ]
  },
  {
   "cell_type": "markdown",
   "metadata": {
    "papermill": {
     "duration": 0.138933,
     "end_time": "2020-11-09T05:48:25.201905",
     "exception": false,
     "start_time": "2020-11-09T05:48:25.062972",
     "status": "completed"
    },
    "tags": []
   },
   "source": [
    "Сильная корреляция, вредная для линейных моделей, в нашем случае только у признаков из дат. "
   ]
  },
  {
   "cell_type": "code",
   "execution_count": 88,
   "metadata": {
    "execution": {
     "iopub.execute_input": "2020-11-09T05:48:25.480948Z",
     "iopub.status.busy": "2020-11-09T05:48:25.480276Z",
     "iopub.status.idle": "2020-11-09T05:48:25.561289Z",
     "shell.execute_reply": "2020-11-09T05:48:25.560796Z"
    },
    "papermill": {
     "duration": 0.222339,
     "end_time": "2020-11-09T05:48:25.561402",
     "exception": false,
     "start_time": "2020-11-09T05:48:25.339063",
     "status": "completed"
    },
    "tags": []
   },
   "outputs": [
    {
     "data": {
      "text/plain": [
       "education          -0.056181\n",
       "age                -0.026119\n",
       "decline_app_cnt     0.124027\n",
       "good_work          -0.043361\n",
       "score_bki           0.175369\n",
       "bki_request_cnt     0.078501\n",
       "region_rating      -0.089035\n",
       "home_address        0.084637\n",
       "work_address        0.081582\n",
       "income             -0.053871\n",
       "sna                 0.125832\n",
       "first_time         -0.105579\n",
       "default             1.000000\n",
       "sample                   NaN\n",
       "education_is_nan   -0.002521\n",
       "date_diff          -0.039372\n",
       "month              -0.037115\n",
       "car_type2          -0.053890\n",
       "Name: default, dtype: float64"
      ]
     },
     "execution_count": 88,
     "metadata": {},
     "output_type": "execute_result"
    }
   ],
   "source": [
    "train.corr()['default']"
   ]
  },
  {
   "cell_type": "code",
   "execution_count": 89,
   "metadata": {
    "execution": {
     "iopub.execute_input": "2020-11-09T05:48:25.849985Z",
     "iopub.status.busy": "2020-11-09T05:48:25.849280Z",
     "iopub.status.idle": "2020-11-09T05:48:25.858662Z",
     "shell.execute_reply": "2020-11-09T05:48:25.858045Z"
    },
    "papermill": {
     "duration": 0.160725,
     "end_time": "2020-11-09T05:48:25.858791",
     "exception": false,
     "start_time": "2020-11-09T05:48:25.698066",
     "status": "completed"
    },
    "tags": []
   },
   "outputs": [],
   "source": [
    "# Удалим с меньшей корреляцией с целевой переменной\n",
    "train = train.drop('month', axis=1)"
   ]
  },
  {
   "cell_type": "markdown",
   "metadata": {
    "papermill": {
     "duration": 0.137914,
     "end_time": "2020-11-09T05:48:26.142539",
     "exception": false,
     "start_time": "2020-11-09T05:48:26.004625",
     "status": "completed"
    },
    "tags": []
   },
   "source": [
    "# кодирование признаков"
   ]
  },
  {
   "cell_type": "code",
   "execution_count": 90,
   "metadata": {
    "execution": {
     "iopub.execute_input": "2020-11-09T05:48:26.446570Z",
     "iopub.status.busy": "2020-11-09T05:48:26.445678Z",
     "iopub.status.idle": "2020-11-09T05:48:26.449456Z",
     "shell.execute_reply": "2020-11-09T05:48:26.448835Z"
    },
    "papermill": {
     "duration": 0.167615,
     "end_time": "2020-11-09T05:48:26.449570",
     "exception": false,
     "start_time": "2020-11-09T05:48:26.281955",
     "status": "completed"
    },
    "tags": []
   },
   "outputs": [
    {
     "name": "stdout",
     "output_type": "stream",
     "text": [
      "{0: 'F', 1: 'M'}\n"
     ]
    }
   ],
   "source": [
    "label_encoder = LabelEncoder()\n",
    "\n",
    "mapped_education = pd.Series(label_encoder.fit_transform(train['sex']))\n",
    "print(dict(enumerate(label_encoder.classes_)))"
   ]
  },
  {
   "cell_type": "code",
   "execution_count": 91,
   "metadata": {
    "execution": {
     "iopub.execute_input": "2020-11-09T05:48:26.750334Z",
     "iopub.status.busy": "2020-11-09T05:48:26.749602Z",
     "iopub.status.idle": "2020-11-09T05:48:26.805156Z",
     "shell.execute_reply": "2020-11-09T05:48:26.804509Z"
    },
    "papermill": {
     "duration": 0.218188,
     "end_time": "2020-11-09T05:48:26.805281",
     "exception": false,
     "start_time": "2020-11-09T05:48:26.587093",
     "status": "completed"
    },
    "tags": []
   },
   "outputs": [
    {
     "data": {
      "text/html": [
       "<div>\n",
       "<style scoped>\n",
       "    .dataframe tbody tr th:only-of-type {\n",
       "        vertical-align: middle;\n",
       "    }\n",
       "\n",
       "    .dataframe tbody tr th {\n",
       "        vertical-align: top;\n",
       "    }\n",
       "\n",
       "    .dataframe thead th {\n",
       "        text-align: right;\n",
       "    }\n",
       "</style>\n",
       "<table border=\"1\" class=\"dataframe\">\n",
       "  <thead>\n",
       "    <tr style=\"text-align: right;\">\n",
       "      <th></th>\n",
       "      <th>app_date</th>\n",
       "      <th>education</th>\n",
       "      <th>sex</th>\n",
       "      <th>age</th>\n",
       "      <th>car</th>\n",
       "      <th>car_type</th>\n",
       "      <th>decline_app_cnt</th>\n",
       "      <th>good_work</th>\n",
       "      <th>score_bki</th>\n",
       "      <th>bki_request_cnt</th>\n",
       "      <th>...</th>\n",
       "      <th>income</th>\n",
       "      <th>sna</th>\n",
       "      <th>first_time</th>\n",
       "      <th>foreign_passport</th>\n",
       "      <th>default</th>\n",
       "      <th>sample</th>\n",
       "      <th>education_is_nan</th>\n",
       "      <th>date_diff</th>\n",
       "      <th>age_intervals</th>\n",
       "      <th>car_type2</th>\n",
       "    </tr>\n",
       "  </thead>\n",
       "  <tbody>\n",
       "    <tr>\n",
       "      <th>0</th>\n",
       "      <td>2014-02-01</td>\n",
       "      <td>0</td>\n",
       "      <td>1</td>\n",
       "      <td>4.143135</td>\n",
       "      <td>Y</td>\n",
       "      <td>Y</td>\n",
       "      <td>0.000000</td>\n",
       "      <td>0</td>\n",
       "      <td>-2.008753</td>\n",
       "      <td>0.693147</td>\n",
       "      <td>...</td>\n",
       "      <td>9.798183</td>\n",
       "      <td>4</td>\n",
       "      <td>1</td>\n",
       "      <td>0</td>\n",
       "      <td>0.0</td>\n",
       "      <td>1</td>\n",
       "      <td>0</td>\n",
       "      <td>31</td>\n",
       "      <td>4</td>\n",
       "      <td>2</td>\n",
       "    </tr>\n",
       "    <tr>\n",
       "      <th>1</th>\n",
       "      <td>2014-03-12</td>\n",
       "      <td>0</td>\n",
       "      <td>0</td>\n",
       "      <td>4.094345</td>\n",
       "      <td>N</td>\n",
       "      <td>N</td>\n",
       "      <td>0.000000</td>\n",
       "      <td>0</td>\n",
       "      <td>-1.532276</td>\n",
       "      <td>1.386294</td>\n",
       "      <td>...</td>\n",
       "      <td>9.852247</td>\n",
       "      <td>4</td>\n",
       "      <td>1</td>\n",
       "      <td>0</td>\n",
       "      <td>0.0</td>\n",
       "      <td>1</td>\n",
       "      <td>0</td>\n",
       "      <td>70</td>\n",
       "      <td>4</td>\n",
       "      <td>0</td>\n",
       "    </tr>\n",
       "    <tr>\n",
       "      <th>2</th>\n",
       "      <td>2014-02-01</td>\n",
       "      <td>0</td>\n",
       "      <td>1</td>\n",
       "      <td>3.258097</td>\n",
       "      <td>Y</td>\n",
       "      <td>N</td>\n",
       "      <td>1.098612</td>\n",
       "      <td>0</td>\n",
       "      <td>-1.408142</td>\n",
       "      <td>0.693147</td>\n",
       "      <td>...</td>\n",
       "      <td>10.308986</td>\n",
       "      <td>1</td>\n",
       "      <td>4</td>\n",
       "      <td>1</td>\n",
       "      <td>0.0</td>\n",
       "      <td>1</td>\n",
       "      <td>0</td>\n",
       "      <td>31</td>\n",
       "      <td>1</td>\n",
       "      <td>1</td>\n",
       "    </tr>\n",
       "    <tr>\n",
       "      <th>3</th>\n",
       "      <td>2014-01-23</td>\n",
       "      <td>0</td>\n",
       "      <td>0</td>\n",
       "      <td>3.988984</td>\n",
       "      <td>N</td>\n",
       "      <td>N</td>\n",
       "      <td>0.000000</td>\n",
       "      <td>0</td>\n",
       "      <td>-2.057471</td>\n",
       "      <td>1.098612</td>\n",
       "      <td>...</td>\n",
       "      <td>9.210440</td>\n",
       "      <td>1</td>\n",
       "      <td>3</td>\n",
       "      <td>0</td>\n",
       "      <td>0.0</td>\n",
       "      <td>1</td>\n",
       "      <td>0</td>\n",
       "      <td>22</td>\n",
       "      <td>4</td>\n",
       "      <td>0</td>\n",
       "    </tr>\n",
       "    <tr>\n",
       "      <th>4</th>\n",
       "      <td>2014-04-18</td>\n",
       "      <td>1</td>\n",
       "      <td>1</td>\n",
       "      <td>3.891820</td>\n",
       "      <td>N</td>\n",
       "      <td>N</td>\n",
       "      <td>0.000000</td>\n",
       "      <td>1</td>\n",
       "      <td>-1.244723</td>\n",
       "      <td>0.693147</td>\n",
       "      <td>...</td>\n",
       "      <td>10.308986</td>\n",
       "      <td>1</td>\n",
       "      <td>4</td>\n",
       "      <td>1</td>\n",
       "      <td>0.0</td>\n",
       "      <td>1</td>\n",
       "      <td>0</td>\n",
       "      <td>107</td>\n",
       "      <td>3</td>\n",
       "      <td>0</td>\n",
       "    </tr>\n",
       "  </tbody>\n",
       "</table>\n",
       "<p>5 rows × 23 columns</p>\n",
       "</div>"
      ],
      "text/plain": [
       "    app_date  education  sex       age car car_type  decline_app_cnt  \\\n",
       "0 2014-02-01          0    1  4.143135   Y        Y         0.000000   \n",
       "1 2014-03-12          0    0  4.094345   N        N         0.000000   \n",
       "2 2014-02-01          0    1  3.258097   Y        N         1.098612   \n",
       "3 2014-01-23          0    0  3.988984   N        N         0.000000   \n",
       "4 2014-04-18          1    1  3.891820   N        N         0.000000   \n",
       "\n",
       "   good_work  score_bki  bki_request_cnt  ...     income  sna  first_time  \\\n",
       "0          0  -2.008753         0.693147  ...   9.798183    4           1   \n",
       "1          0  -1.532276         1.386294  ...   9.852247    4           1   \n",
       "2          0  -1.408142         0.693147  ...  10.308986    1           4   \n",
       "3          0  -2.057471         1.098612  ...   9.210440    1           3   \n",
       "4          1  -1.244723         0.693147  ...  10.308986    1           4   \n",
       "\n",
       "   foreign_passport  default  sample  education_is_nan  date_diff  \\\n",
       "0                 0      0.0       1                 0         31   \n",
       "1                 0      0.0       1                 0         70   \n",
       "2                 1      0.0       1                 0         31   \n",
       "3                 0      0.0       1                 0         22   \n",
       "4                 1      0.0       1                 0        107   \n",
       "\n",
       "   age_intervals  car_type2  \n",
       "0              4          2  \n",
       "1              4          0  \n",
       "2              1          1  \n",
       "3              4          0  \n",
       "4              3          0  \n",
       "\n",
       "[5 rows x 23 columns]"
      ]
     },
     "execution_count": 91,
     "metadata": {},
     "output_type": "execute_result"
    }
   ],
   "source": [
    "label_encoder = LabelEncoder()\n",
    "\n",
    "for column in bin_cols:\n",
    "    train[column] = label_encoder.fit_transform(train[column])\n",
    "    \n",
    "# убедимся в преобразовании    \n",
    "train.head()"
   ]
  },
  {
   "cell_type": "code",
   "execution_count": 92,
   "metadata": {
    "execution": {
     "iopub.execute_input": "2020-11-09T05:48:27.090797Z",
     "iopub.status.busy": "2020-11-09T05:48:27.090164Z",
     "iopub.status.idle": "2020-11-09T05:48:27.109885Z",
     "shell.execute_reply": "2020-11-09T05:48:27.109314Z"
    },
    "papermill": {
     "duration": 0.163829,
     "end_time": "2020-11-09T05:48:27.110014",
     "exception": false,
     "start_time": "2020-11-09T05:48:26.946185",
     "status": "completed"
    },
    "tags": []
   },
   "outputs": [],
   "source": [
    "\n",
    "train = train.drop(['app_date'], axis=1) #, 'age_intervals'\n",
    "train_df = train[train['sample']==1]"
   ]
  },
  {
   "cell_type": "code",
   "execution_count": 93,
   "metadata": {
    "execution": {
     "iopub.execute_input": "2020-11-09T05:48:27.396833Z",
     "iopub.status.busy": "2020-11-09T05:48:27.396174Z",
     "iopub.status.idle": "2020-11-09T05:48:27.400795Z",
     "shell.execute_reply": "2020-11-09T05:48:27.400240Z"
    },
    "papermill": {
     "duration": 0.151933,
     "end_time": "2020-11-09T05:48:27.400909",
     "exception": false,
     "start_time": "2020-11-09T05:48:27.248976",
     "status": "completed"
    },
    "tags": []
   },
   "outputs": [],
   "source": [
    "# признак type2 вроде покрывает оба этих признака\n",
    "train = train.drop(['car', 'car_type'], axis=1) #, 'age_intervals'\n"
   ]
  },
  {
   "cell_type": "code",
   "execution_count": 94,
   "metadata": {
    "execution": {
     "iopub.execute_input": "2020-11-09T05:48:27.686266Z",
     "iopub.status.busy": "2020-11-09T05:48:27.685586Z",
     "iopub.status.idle": "2020-11-09T05:48:27.815725Z",
     "shell.execute_reply": "2020-11-09T05:48:27.815193Z"
    },
    "papermill": {
     "duration": 0.277075,
     "end_time": "2020-11-09T05:48:27.815876",
     "exception": false,
     "start_time": "2020-11-09T05:48:27.538801",
     "status": "completed"
    },
    "tags": []
   },
   "outputs": [
    {
     "data": {
      "text/plain": [
       "<matplotlib.axes._subplots.AxesSubplot at 0x7f055615afd0>"
      ]
     },
     "execution_count": 94,
     "metadata": {},
     "output_type": "execute_result"
    },
    {
     "data": {
      "image/png": "[encoded data removed]",
      "text/plain": [
       "<Figure size 432x288 with 1 Axes>"
      ]
     },
     "metadata": {
      "needs_background": "light"
     },
     "output_type": "display_data"
    }
   ],
   "source": [
    "# Checking the importance of features.\n",
    "imp_num = Series(f_classif(train_df[num_cols], \n",
    "                           train_df['default'])[0], index = num_cols)\n",
    "imp_num.sort_values(inplace = True)\n",
    "imp_num.plot(kind = 'barh')"
   ]
  },
  {
   "cell_type": "code",
   "execution_count": 95,
   "metadata": {
    "execution": {
     "iopub.execute_input": "2020-11-09T05:48:28.109944Z",
     "iopub.status.busy": "2020-11-09T05:48:28.108955Z",
     "iopub.status.idle": "2020-11-09T05:48:28.125593Z",
     "shell.execute_reply": "2020-11-09T05:48:28.124997Z"
    },
    "papermill": {
     "duration": 0.163077,
     "end_time": "2020-11-09T05:48:28.125706",
     "exception": false,
     "start_time": "2020-11-09T05:48:27.962629",
     "status": "completed"
    },
    "tags": []
   },
   "outputs": [],
   "source": [
    "label_encoder = LabelEncoder()\n",
    "\n",
    "for column in bin_cols:\n",
    "    train[column] = label_encoder.fit_transform(train[column])"
   ]
  },
  {
   "cell_type": "code",
   "execution_count": 96,
   "metadata": {
    "execution": {
     "iopub.execute_input": "2020-11-09T05:48:28.418960Z",
     "iopub.status.busy": "2020-11-09T05:48:28.418296Z",
     "iopub.status.idle": "2020-11-09T05:48:28.746573Z",
     "shell.execute_reply": "2020-11-09T05:48:28.746085Z"
    },
    "papermill": {
     "duration": 0.478746,
     "end_time": "2020-11-09T05:48:28.746687",
     "exception": false,
     "start_time": "2020-11-09T05:48:28.267941",
     "status": "completed"
    },
    "tags": []
   },
   "outputs": [
    {
     "data": {
      "text/plain": [
       "<matplotlib.axes._subplots.AxesSubplot at 0x7f05560d7a90>"
      ]
     },
     "execution_count": 96,
     "metadata": {},
     "output_type": "execute_result"
    },
    {
     "data": {
      "image/png": "[encoded data removed]",
      "text/plain": [
       "<Figure size 432x288 with 1 Axes>"
      ]
     },
     "metadata": {
      "needs_background": "light"
     },
     "output_type": "display_data"
    }
   ],
   "source": [
    "imp_cat = Series(mutual_info_classif(train_df[bin_cols + cat_cols], train_df['default'],\n",
    "                                     discrete_features =True), index = bin_cols + cat_cols)\n",
    "imp_cat.sort_values(inplace = True)\n",
    "imp_cat.plot(kind = 'barh')"
   ]
  },
  {
   "cell_type": "code",
   "execution_count": 97,
   "metadata": {
    "execution": {
     "iopub.execute_input": "2020-11-09T05:48:29.041668Z",
     "iopub.status.busy": "2020-11-09T05:48:29.041055Z",
     "iopub.status.idle": "2020-11-09T05:48:29.068779Z",
     "shell.execute_reply": "2020-11-09T05:48:29.068218Z"
    },
    "papermill": {
     "duration": 0.180477,
     "end_time": "2020-11-09T05:48:29.068914",
     "exception": false,
     "start_time": "2020-11-09T05:48:28.888437",
     "status": "completed"
    },
    "tags": []
   },
   "outputs": [],
   "source": [
    "train = pd.get_dummies(train, prefix=cat_cols, columns=cat_cols)"
   ]
  },
  {
   "cell_type": "code",
   "execution_count": 98,
   "metadata": {
    "execution": {
     "iopub.execute_input": "2020-11-09T05:48:29.358260Z",
     "iopub.status.busy": "2020-11-09T05:48:29.357579Z",
     "iopub.status.idle": "2020-11-09T05:48:29.483907Z",
     "shell.execute_reply": "2020-11-09T05:48:29.483294Z"
    },
    "papermill": {
     "duration": 0.27285,
     "end_time": "2020-11-09T05:48:29.484045",
     "exception": false,
     "start_time": "2020-11-09T05:48:29.211195",
     "status": "completed"
    },
    "tags": []
   },
   "outputs": [],
   "source": [
    "# Стандартизация числовых переменных\n",
    "scaler = StandardScaler() #RobustScaler()\n",
    "\n",
    "train[num_cols] = scaler.fit_transform(train[num_cols].values)"
   ]
  },
  {
   "cell_type": "code",
   "execution_count": 99,
   "metadata": {
    "execution": {
     "iopub.execute_input": "2020-11-09T05:48:29.773277Z",
     "iopub.status.busy": "2020-11-09T05:48:29.772590Z",
     "iopub.status.idle": "2020-11-09T05:48:29.811734Z",
     "shell.execute_reply": "2020-11-09T05:48:29.811053Z"
    },
    "papermill": {
     "duration": 0.186252,
     "end_time": "2020-11-09T05:48:29.811872",
     "exception": false,
     "start_time": "2020-11-09T05:48:29.625620",
     "status": "completed"
    },
    "tags": []
   },
   "outputs": [],
   "source": [
    "#Разбиение на выборки\n",
    "train_data = train[train['sample'] == 1].drop(['sample'], axis=1)\n",
    "test_data = train[train['sample'] == 0].drop(['sample'], axis=1)\n",
    "\n",
    "y = train_data.default.values           \n",
    "X = train_data.drop(['default'], axis=1).values"
   ]
  },
  {
   "cell_type": "code",
   "execution_count": 100,
   "metadata": {
    "execution": {
     "iopub.execute_input": "2020-11-09T05:48:30.110527Z",
     "iopub.status.busy": "2020-11-09T05:48:30.108657Z",
     "iopub.status.idle": "2020-11-09T05:48:30.156814Z",
     "shell.execute_reply": "2020-11-09T05:48:30.156221Z"
    },
    "papermill": {
     "duration": 0.202254,
     "end_time": "2020-11-09T05:48:30.156928",
     "exception": false,
     "start_time": "2020-11-09T05:48:29.954674",
     "status": "completed"
    },
    "tags": []
   },
   "outputs": [
    {
     "data": {
      "text/plain": [
       "((36349, 44), (73799, 44), (73799, 43), (59039, 43), (14760, 43))"
      ]
     },
     "execution_count": 100,
     "metadata": {},
     "output_type": "execute_result"
    }
   ],
   "source": [
    "X_train, X_valid, y_train, y_valid = train_test_split(X, y, test_size=0.2, random_state=42)\n",
    "test_data.shape, train_data.shape, X.shape, X_train.shape, X_valid.shape"
   ]
  },
  {
   "cell_type": "code",
   "execution_count": 101,
   "metadata": {
    "execution": {
     "iopub.execute_input": "2020-11-09T05:48:30.448682Z",
     "iopub.status.busy": "2020-11-09T05:48:30.448038Z",
     "iopub.status.idle": "2020-11-09T05:48:31.779279Z",
     "shell.execute_reply": "2020-11-09T05:48:31.778545Z"
    },
    "papermill": {
     "duration": 1.479982,
     "end_time": "2020-11-09T05:48:31.779436",
     "exception": false,
     "start_time": "2020-11-09T05:48:30.299454",
     "status": "completed"
    },
    "tags": []
   },
   "outputs": [],
   "source": [
    "model = LogisticRegression(random_state=42, max_iter = 1000)\n",
    "\n",
    "model.fit(X_train, y_train)\n",
    "\n",
    "y_pred_prob = model.predict_proba(X_valid)[:,1]\n",
    "y_pred = model.predict(X_valid)"
   ]
  },
  {
   "cell_type": "code",
   "execution_count": 102,
   "metadata": {
    "execution": {
     "iopub.execute_input": "2020-11-09T05:48:32.094055Z",
     "iopub.status.busy": "2020-11-09T05:48:32.093186Z",
     "iopub.status.idle": "2020-11-09T05:48:32.253382Z",
     "shell.execute_reply": "2020-11-09T05:48:32.252883Z"
    },
    "papermill": {
     "duration": 0.325608,
     "end_time": "2020-11-09T05:48:32.253494",
     "exception": false,
     "start_time": "2020-11-09T05:48:31.927886",
     "status": "completed"
    },
    "tags": []
   },
   "outputs": [
    {
     "data": {
      "image/png": "[encoded data removed]",
      "text/plain": [
       "<Figure size 432x288 with 1 Axes>"
      ]
     },
     "metadata": {
      "needs_background": "light"
     },
     "output_type": "display_data"
    }
   ],
   "source": [
    "fpr, tpr, threshold = roc_curve(y_valid, y_pred_prob)\n",
    "roc_auc = roc_auc_score(y_valid, y_pred_prob)\n",
    "\n",
    "plt.figure()\n",
    "plt.plot([0, 1], label='Baseline', linestyle='--')\n",
    "plt.plot(fpr, tpr, label = 'Regression')\n",
    "plt.title('Logistic Regression ROC AUC = %0.3f' % roc_auc)\n",
    "plt.ylabel('True Positive Rate')\n",
    "plt.xlabel('False Positive Rate')\n",
    "plt.legend(loc = 'lower right')\n",
    "plt.show()"
   ]
  },
  {
   "cell_type": "code",
   "execution_count": 103,
   "metadata": {
    "execution": {
     "iopub.execute_input": "2020-11-09T05:48:32.545342Z",
     "iopub.status.busy": "2020-11-09T05:48:32.544642Z",
     "iopub.status.idle": "2020-11-09T05:48:32.569313Z",
     "shell.execute_reply": "2020-11-09T05:48:32.568601Z"
    },
    "papermill": {
     "duration": 0.173423,
     "end_time": "2020-11-09T05:48:32.569441",
     "exception": false,
     "start_time": "2020-11-09T05:48:32.396018",
     "status": "completed"
    },
    "tags": []
   },
   "outputs": [],
   "source": [
    "metrics = ['accuracy', 'precision', 'recall', 'f1_score']\n",
    "value = [accuracy_score(y_valid,y_pred), precision_score(y_valid,y_pred), recall_score(y_valid,y_pred), f1_score(y_valid,y_pred)]\n",
    "first_metrics_df = pd.DataFrame({'Метрика': metrics, 'Значение': value}, columns=['Метрика', 'Значение'])"
   ]
  },
  {
   "cell_type": "code",
   "execution_count": 104,
   "metadata": {
    "execution": {
     "iopub.execute_input": "2020-11-09T05:48:32.861247Z",
     "iopub.status.busy": "2020-11-09T05:48:32.860286Z",
     "iopub.status.idle": "2020-11-09T05:48:32.878329Z",
     "shell.execute_reply": "2020-11-09T05:48:32.877680Z"
    },
    "papermill": {
     "duration": 0.166524,
     "end_time": "2020-11-09T05:48:32.878442",
     "exception": false,
     "start_time": "2020-11-09T05:48:32.711918",
     "status": "completed"
    },
    "tags": []
   },
   "outputs": [
    {
     "name": "stdout",
     "output_type": "stream",
     "text": [
      "44 60\n",
      "1783 12873\n"
     ]
    }
   ],
   "source": [
    "\n",
    "# матрица ошибок\n",
    "tn, fp, fn, tp = confusion_matrix(y_valid, y_pred).ravel()\n",
    "print(tp, fp) \n",
    "print(fn, tn)\n"
   ]
  },
  {
   "cell_type": "markdown",
   "metadata": {
    "papermill": {
     "duration": 0.158913,
     "end_time": "2020-11-09T05:48:33.193245",
     "exception": false,
     "start_time": "2020-11-09T05:48:33.034332",
     "status": "completed"
    },
    "tags": []
   },
   "source": [
    "45 - очень плохой результат для определения дефолтных клиентов. Имеем ошибку второго рода"
   ]
  },
  {
   "cell_type": "code",
   "execution_count": 105,
   "metadata": {
    "execution": {
     "iopub.execute_input": "2020-11-09T05:48:33.501563Z",
     "iopub.status.busy": "2020-11-09T05:48:33.500895Z",
     "iopub.status.idle": "2020-11-09T05:48:33.507565Z",
     "shell.execute_reply": "2020-11-09T05:48:33.507066Z"
    },
    "papermill": {
     "duration": 0.171702,
     "end_time": "2020-11-09T05:48:33.507682",
     "exception": false,
     "start_time": "2020-11-09T05:48:33.335980",
     "status": "completed"
    },
    "tags": []
   },
   "outputs": [],
   "source": [
    "precision, recall, thresholds = precision_recall_curve(y_valid, y_pred_prob)"
   ]
  },
  {
   "cell_type": "code",
   "execution_count": 106,
   "metadata": {
    "execution": {
     "iopub.execute_input": "2020-11-09T05:48:33.844455Z",
     "iopub.status.busy": "2020-11-09T05:48:33.843776Z",
     "iopub.status.idle": "2020-11-09T05:48:33.995297Z",
     "shell.execute_reply": "2020-11-09T05:48:33.994668Z"
    },
    "papermill": {
     "duration": 0.306629,
     "end_time": "2020-11-09T05:48:33.995409",
     "exception": false,
     "start_time": "2020-11-09T05:48:33.688780",
     "status": "completed"
    },
    "tags": []
   },
   "outputs": [
    {
     "data": {
      "image/png": "[encoded data removed]",
      "text/plain": [
       "<Figure size 576x432 with 1 Axes>"
      ]
     },
     "metadata": {
      "needs_background": "light"
     },
     "output_type": "display_data"
    }
   ],
   "source": [
    "plt.figure(figsize=(8, 6))\n",
    "prc_area = auc(recall, precision)\n",
    "plt.plot(recall, precision, lw=3, label='площадь под PR кривой = %0.3f)' % prc_area)\n",
    "    \n",
    "plt.xlim([-.05, 1.0])\n",
    "plt.ylim([-.05, 1.05])\n",
    "plt.xlabel('Recall')\n",
    "plt.ylabel('Precision')\n",
    "plt.title('Precision-Recall Curve')\n",
    "plt.legend(loc=\"upper right\")\n",
    "plt.show()"
   ]
  },
  {
   "cell_type": "code",
   "execution_count": 107,
   "metadata": {
    "execution": {
     "iopub.execute_input": "2020-11-09T05:48:34.297201Z",
     "iopub.status.busy": "2020-11-09T05:48:34.296189Z",
     "iopub.status.idle": "2020-11-09T05:48:34.299500Z",
     "shell.execute_reply": "2020-11-09T05:48:34.298871Z"
    },
    "papermill": {
     "duration": 0.157051,
     "end_time": "2020-11-09T05:48:34.299614",
     "exception": false,
     "start_time": "2020-11-09T05:48:34.142563",
     "status": "completed"
    },
    "tags": []
   },
   "outputs": [],
   "source": [
    "add_metrics = pd.DataFrame({'Метрика': ['ROC_AUC', 'PRC_AUC'], 'Значение': [roc_auc, prc_area]}, columns=['Метрика', 'Значение'])\n",
    "\n",
    "first_metrics_df = first_metrics_df.append(add_metrics, ignore_index=True)"
   ]
  },
  {
   "cell_type": "code",
   "execution_count": 108,
   "metadata": {
    "execution": {
     "iopub.execute_input": "2020-11-09T05:48:34.597064Z",
     "iopub.status.busy": "2020-11-09T05:48:34.596078Z",
     "iopub.status.idle": "2020-11-09T05:48:34.600022Z",
     "shell.execute_reply": "2020-11-09T05:48:34.599417Z"
    },
    "papermill": {
     "duration": 0.156901,
     "end_time": "2020-11-09T05:48:34.600133",
     "exception": false,
     "start_time": "2020-11-09T05:48:34.443232",
     "status": "completed"
    },
    "tags": []
   },
   "outputs": [
    {
     "data": {
      "text/html": [
       "<div>\n",
       "<style scoped>\n",
       "    .dataframe tbody tr th:only-of-type {\n",
       "        vertical-align: middle;\n",
       "    }\n",
       "\n",
       "    .dataframe tbody tr th {\n",
       "        vertical-align: top;\n",
       "    }\n",
       "\n",
       "    .dataframe thead th {\n",
       "        text-align: right;\n",
       "    }\n",
       "</style>\n",
       "<table border=\"1\" class=\"dataframe\">\n",
       "  <thead>\n",
       "    <tr style=\"text-align: right;\">\n",
       "      <th></th>\n",
       "      <th>Метрика</th>\n",
       "      <th>Значение</th>\n",
       "    </tr>\n",
       "  </thead>\n",
       "  <tbody>\n",
       "    <tr>\n",
       "      <th>0</th>\n",
       "      <td>accuracy</td>\n",
       "      <td>0.875136</td>\n",
       "    </tr>\n",
       "    <tr>\n",
       "      <th>1</th>\n",
       "      <td>precision</td>\n",
       "      <td>0.423077</td>\n",
       "    </tr>\n",
       "    <tr>\n",
       "      <th>2</th>\n",
       "      <td>recall</td>\n",
       "      <td>0.024083</td>\n",
       "    </tr>\n",
       "    <tr>\n",
       "      <th>3</th>\n",
       "      <td>f1_score</td>\n",
       "      <td>0.045572</td>\n",
       "    </tr>\n",
       "    <tr>\n",
       "      <th>4</th>\n",
       "      <td>ROC_AUC</td>\n",
       "      <td>0.745581</td>\n",
       "    </tr>\n",
       "    <tr>\n",
       "      <th>5</th>\n",
       "      <td>PRC_AUC</td>\n",
       "      <td>0.286648</td>\n",
       "    </tr>\n",
       "  </tbody>\n",
       "</table>\n",
       "</div>"
      ],
      "text/plain": [
       "     Метрика  Значение\n",
       "0   accuracy  0.875136\n",
       "1  precision  0.423077\n",
       "2     recall  0.024083\n",
       "3   f1_score  0.045572\n",
       "4    ROC_AUC  0.745581\n",
       "5    PRC_AUC  0.286648"
      ]
     },
     "execution_count": 108,
     "metadata": {},
     "output_type": "execute_result"
    }
   ],
   "source": [
    "first_metrics_df"
   ]
  },
  {
   "cell_type": "code",
   "execution_count": 109,
   "metadata": {
    "execution": {
     "iopub.execute_input": "2020-11-09T05:48:34.896016Z",
     "iopub.status.busy": "2020-11-09T05:48:34.895309Z",
     "iopub.status.idle": "2020-11-09T05:48:34.930131Z",
     "shell.execute_reply": "2020-11-09T05:48:34.930806Z"
    },
    "papermill": {
     "duration": 0.187614,
     "end_time": "2020-11-09T05:48:34.930993",
     "exception": false,
     "start_time": "2020-11-09T05:48:34.743379",
     "status": "completed"
    },
    "tags": []
   },
   "outputs": [
    {
     "name": "stdout",
     "output_type": "stream",
     "text": [
      "Accuracy: 0.8751\n",
      "Precision: 0.4231\n",
      "Recall: 0.0241\n",
      "F1: 0.0456\n",
      "ROC_AUC =  0.7456\n",
      "PRC_AUC =  0.2866\n"
     ]
    }
   ],
   "source": [
    "print('Accuracy: %.4f' % accuracy_score(y_valid, y_pred))\n",
    "print('Precision: %.4f' % precision_score(y_valid, y_pred))\n",
    "print('Recall: %.4f' % recall_score(y_valid, y_pred))\n",
    "print('F1: %.4f' % f1_score(y_valid, y_pred))\n",
    "\n",
    "precision, recall, thresholds = precision_recall_curve(y_valid, y_pred_prob)\n",
    "print('ROC_AUC = ', round(roc_auc_score(y_valid, y_pred_prob), 4))\n",
    "print('PRC_AUC = ', round(auc(recall, precision), 4))"
   ]
  },
  {
   "cell_type": "code",
   "execution_count": 110,
   "metadata": {
    "execution": {
     "iopub.execute_input": "2020-11-09T05:48:35.237745Z",
     "iopub.status.busy": "2020-11-09T05:48:35.237107Z",
     "iopub.status.idle": "2020-11-09T05:52:44.555008Z",
     "shell.execute_reply": "2020-11-09T05:52:44.555899Z"
    },
    "papermill": {
     "duration": 249.478966,
     "end_time": "2020-11-09T05:52:44.556133",
     "exception": false,
     "start_time": "2020-11-09T05:48:35.077167",
     "status": "completed"
    },
    "tags": []
   },
   "outputs": [
    {
     "name": "stdout",
     "output_type": "stream",
     "text": [
      "LogisticRegression(class_weight='balanced', max_iter=300, penalty='l1',\n",
      "                   random_state=42, solver='liblinear')\n"
     ]
    }
   ],
   "source": [
    "model = LogisticRegression(random_state=42)\n",
    "\n",
    "iter_max = 300\n",
    "\n",
    "param_grid = [\n",
    "    {'penalty': ['l1'], \n",
    "     'solver': ['liblinear', 'lbfgs'], \n",
    "     'class_weight':['none', 'balanced'], \n",
    "     'multi_class': ['auto','ovr'], \n",
    "     'max_iter':[iter_max]},\n",
    "    {'penalty': ['l2'], \n",
    "     'solver': ['newton-cg', 'lbfgs', 'liblinear', 'sag', 'saga'], \n",
    "     'class_weight':['none', 'balanced'], \n",
    "     'multi_class': ['auto','ovr'], \n",
    "     'max_iter':[iter_max]},\n",
    "    {'penalty': ['none'], \n",
    "     'solver': ['newton-cg', 'lbfgs', 'sag', 'saga'], \n",
    "     'class_weight':['none', 'balanced'], \n",
    "     'multi_class': ['auto','ovr'], \n",
    "     'max_iter':[iter_max]},\n",
    "]\n",
    "\n",
    "gridsearch = GridSearchCV(model, param_grid, scoring='f1', n_jobs=-1)\n",
    "gridsearch.fit(X_train, y_train)\n",
    "model = gridsearch.best_estimator_\n",
    "print(model)"
   ]
  },
  {
   "cell_type": "code",
   "execution_count": 111,
   "metadata": {
    "execution": {
     "iopub.execute_input": "2020-11-09T05:52:44.857043Z",
     "iopub.status.busy": "2020-11-09T05:52:44.855933Z",
     "iopub.status.idle": "2020-11-09T05:53:00.440021Z",
     "shell.execute_reply": "2020-11-09T05:53:00.439478Z"
    },
    "papermill": {
     "duration": 15.738416,
     "end_time": "2020-11-09T05:53:00.440142",
     "exception": false,
     "start_time": "2020-11-09T05:52:44.701726",
     "status": "completed"
    },
    "tags": []
   },
   "outputs": [],
   "source": [
    "# Обучим модель на данных и проверим confusion_matrix\n",
    "\n",
    "model.fit(X_train, y_train)\n",
    "\n",
    "y_pred_prob = model.predict_proba(X_valid)[:,1]\n",
    "y_pred = model.predict(X_valid)\n"
   ]
  },
  {
   "cell_type": "code",
   "execution_count": 112,
   "metadata": {
    "execution": {
     "iopub.execute_input": "2020-11-09T05:53:00.738207Z",
     "iopub.status.busy": "2020-11-09T05:53:00.737520Z",
     "iopub.status.idle": "2020-11-09T05:53:00.755403Z",
     "shell.execute_reply": "2020-11-09T05:53:00.756106Z"
    },
    "papermill": {
     "duration": 0.169774,
     "end_time": "2020-11-09T05:53:00.756254",
     "exception": false,
     "start_time": "2020-11-09T05:53:00.586480",
     "status": "completed"
    },
    "tags": []
   },
   "outputs": [
    {
     "name": "stdout",
     "output_type": "stream",
     "text": [
      "1253 4277\n",
      "574 8656\n"
     ]
    }
   ],
   "source": [
    "# матрица ошибок\n",
    "tn, fp, fn, tp = confusion_matrix(y_valid, y_pred).ravel()\n",
    "print(tp, fp) \n",
    "print(fn, tn)"
   ]
  },
  {
   "cell_type": "code",
   "execution_count": 113,
   "metadata": {
    "execution": {
     "iopub.execute_input": "2020-11-09T05:53:01.057462Z",
     "iopub.status.busy": "2020-11-09T05:53:01.056836Z",
     "iopub.status.idle": "2020-11-09T05:53:01.095119Z",
     "shell.execute_reply": "2020-11-09T05:53:01.094489Z"
    },
    "papermill": {
     "duration": 0.19249,
     "end_time": "2020-11-09T05:53:01.095241",
     "exception": false,
     "start_time": "2020-11-09T05:53:00.902751",
     "status": "completed"
    },
    "tags": []
   },
   "outputs": [
    {
     "name": "stdout",
     "output_type": "stream",
     "text": [
      "Accuracy: 0.6713\n",
      "Precision: 0.2266\n",
      "Recall: 0.6858\n",
      "F1: 0.3406\n",
      "ROC_AUC =  0.7451\n",
      "PRC_AUC =  0.2859\n"
     ]
    }
   ],
   "source": [
    "print('Accuracy: %.4f' % accuracy_score(y_valid, y_pred))\n",
    "print('Precision: %.4f' % precision_score(y_valid, y_pred))\n",
    "print('Recall: %.4f' % recall_score(y_valid, y_pred))\n",
    "print('F1: %.4f' % f1_score(y_valid, y_pred))\n",
    "\n",
    "precision, recall, thresholds = precision_recall_curve(y_valid, y_pred_prob)\n",
    "print('ROC_AUC = ', round(roc_auc_score(y_valid, y_pred_prob), 4))\n",
    "print('PRC_AUC = ', round(auc(recall, precision), 4))"
   ]
  },
  {
   "cell_type": "code",
   "execution_count": 114,
   "metadata": {
    "execution": {
     "iopub.execute_input": "2020-11-09T05:53:01.404851Z",
     "iopub.status.busy": "2020-11-09T05:53:01.404028Z",
     "iopub.status.idle": "2020-11-09T05:53:01.408845Z",
     "shell.execute_reply": "2020-11-09T05:53:01.408212Z"
    },
    "papermill": {
     "duration": 0.165221,
     "end_time": "2020-11-09T05:53:01.408964",
     "exception": false,
     "start_time": "2020-11-09T05:53:01.243743",
     "status": "completed"
    },
    "tags": []
   },
   "outputs": [
    {
     "data": {
      "text/html": [
       "<div>\n",
       "<style scoped>\n",
       "    .dataframe tbody tr th:only-of-type {\n",
       "        vertical-align: middle;\n",
       "    }\n",
       "\n",
       "    .dataframe tbody tr th {\n",
       "        vertical-align: top;\n",
       "    }\n",
       "\n",
       "    .dataframe thead th {\n",
       "        text-align: right;\n",
       "    }\n",
       "</style>\n",
       "<table border=\"1\" class=\"dataframe\">\n",
       "  <thead>\n",
       "    <tr style=\"text-align: right;\">\n",
       "      <th></th>\n",
       "      <th>Метрика</th>\n",
       "      <th>Значение</th>\n",
       "    </tr>\n",
       "  </thead>\n",
       "  <tbody>\n",
       "    <tr>\n",
       "      <th>0</th>\n",
       "      <td>accuracy</td>\n",
       "      <td>0.875136</td>\n",
       "    </tr>\n",
       "    <tr>\n",
       "      <th>1</th>\n",
       "      <td>precision</td>\n",
       "      <td>0.423077</td>\n",
       "    </tr>\n",
       "    <tr>\n",
       "      <th>2</th>\n",
       "      <td>recall</td>\n",
       "      <td>0.024083</td>\n",
       "    </tr>\n",
       "    <tr>\n",
       "      <th>3</th>\n",
       "      <td>f1_score</td>\n",
       "      <td>0.045572</td>\n",
       "    </tr>\n",
       "    <tr>\n",
       "      <th>4</th>\n",
       "      <td>ROC_AUC</td>\n",
       "      <td>0.745581</td>\n",
       "    </tr>\n",
       "    <tr>\n",
       "      <th>5</th>\n",
       "      <td>PRC_AUC</td>\n",
       "      <td>0.286648</td>\n",
       "    </tr>\n",
       "  </tbody>\n",
       "</table>\n",
       "</div>"
      ],
      "text/plain": [
       "     Метрика  Значение\n",
       "0   accuracy  0.875136\n",
       "1  precision  0.423077\n",
       "2     recall  0.024083\n",
       "3   f1_score  0.045572\n",
       "4    ROC_AUC  0.745581\n",
       "5    PRC_AUC  0.286648"
      ]
     },
     "execution_count": 114,
     "metadata": {},
     "output_type": "execute_result"
    }
   ],
   "source": [
    "# Метрики первой модели\n",
    "first_metrics_df"
   ]
  },
  {
   "cell_type": "markdown",
   "metadata": {
    "papermill": {
     "duration": 0.146927,
     "end_time": "2020-11-09T05:53:01.703355",
     "exception": false,
     "start_time": "2020-11-09T05:53:01.556428",
     "status": "completed"
    },
    "tags": []
   },
   "source": [
    "# Submission"
   ]
  },
  {
   "cell_type": "code",
   "execution_count": 115,
   "metadata": {
    "execution": {
     "iopub.execute_input": "2020-11-09T05:53:02.008209Z",
     "iopub.status.busy": "2020-11-09T05:53:02.006711Z",
     "iopub.status.idle": "2020-11-09T05:53:02.030505Z",
     "shell.execute_reply": "2020-11-09T05:53:02.030999Z"
    },
    "papermill": {
     "duration": 0.179609,
     "end_time": "2020-11-09T05:53:02.031167",
     "exception": false,
     "start_time": "2020-11-09T05:53:01.851558",
     "status": "completed"
    },
    "tags": []
   },
   "outputs": [],
   "source": [
    "train_data = train[train['sample'] == 1].drop(['sample'], axis=1)\n",
    "test_data = train[train['sample'] == 0].drop(['sample'], axis=1)"
   ]
  },
  {
   "cell_type": "code",
   "execution_count": 116,
   "metadata": {
    "execution": {
     "iopub.execute_input": "2020-11-09T05:53:02.335128Z",
     "iopub.status.busy": "2020-11-09T05:53:02.334360Z",
     "iopub.status.idle": "2020-11-09T05:53:02.338268Z",
     "shell.execute_reply": "2020-11-09T05:53:02.337599Z"
    },
    "papermill": {
     "duration": 0.158086,
     "end_time": "2020-11-09T05:53:02.338384",
     "exception": false,
     "start_time": "2020-11-09T05:53:02.180298",
     "status": "completed"
    },
    "tags": []
   },
   "outputs": [
    {
     "data": {
      "text/plain": [
       "Index(['sex', 'age', 'decline_app_cnt', 'good_work', 'score_bki',\n",
       "       'bki_request_cnt', 'income', 'foreign_passport', 'default', 'sample',\n",
       "       'education_is_nan', 'date_diff', 'education_0', 'education_1',\n",
       "       'education_2', 'education_3', 'education_4', 'region_rating_20',\n",
       "       'region_rating_30', 'region_rating_40', 'region_rating_50',\n",
       "       'region_rating_60', 'region_rating_70', 'region_rating_80',\n",
       "       'home_address_1', 'home_address_2', 'home_address_3', 'work_address_1',\n",
       "       'work_address_2', 'work_address_3', 'sna_1', 'sna_2', 'sna_3', 'sna_4',\n",
       "       'first_time_1', 'first_time_2', 'first_time_3', 'first_time_4',\n",
       "       'age_intervals_1', 'age_intervals_2', 'age_intervals_3',\n",
       "       'age_intervals_4', 'car_type2_0', 'car_type2_1', 'car_type2_2'],\n",
       "      dtype='object')"
      ]
     },
     "execution_count": 116,
     "metadata": {},
     "output_type": "execute_result"
    }
   ],
   "source": [
    "train.columns"
   ]
  },
  {
   "cell_type": "code",
   "execution_count": 117,
   "metadata": {
    "execution": {
     "iopub.execute_input": "2020-11-09T05:53:02.644737Z",
     "iopub.status.busy": "2020-11-09T05:53:02.644084Z",
     "iopub.status.idle": "2020-11-09T05:53:02.652379Z",
     "shell.execute_reply": "2020-11-09T05:53:02.651723Z"
    },
    "papermill": {
     "duration": 0.164656,
     "end_time": "2020-11-09T05:53:02.652541",
     "exception": false,
     "start_time": "2020-11-09T05:53:02.487885",
     "status": "completed"
    },
    "tags": []
   },
   "outputs": [],
   "source": [
    "X_train=train_data.drop(['default'], axis=1)\n",
    "y_train = train_data.default.values\n",
    "X_test = test_data.drop(['default'], axis=1)"
   ]
  },
  {
   "cell_type": "code",
   "execution_count": 118,
   "metadata": {
    "execution": {
     "iopub.execute_input": "2020-11-09T05:53:02.956376Z",
     "iopub.status.busy": "2020-11-09T05:53:02.955481Z",
     "iopub.status.idle": "2020-11-09T05:53:02.959949Z",
     "shell.execute_reply": "2020-11-09T05:53:02.959332Z"
    },
    "papermill": {
     "duration": 0.159319,
     "end_time": "2020-11-09T05:53:02.960060",
     "exception": false,
     "start_time": "2020-11-09T05:53:02.800741",
     "status": "completed"
    },
    "tags": []
   },
   "outputs": [
    {
     "data": {
      "text/plain": [
       "((36349, 44), (73799, 44), (73799, 43), (73799,), (36349, 43))"
      ]
     },
     "execution_count": 118,
     "metadata": {},
     "output_type": "execute_result"
    }
   ],
   "source": [
    "test_data.shape, train_data.shape, X_train.shape, y_train.shape, X_test.shape"
   ]
  },
  {
   "cell_type": "code",
   "execution_count": 119,
   "metadata": {
    "execution": {
     "iopub.execute_input": "2020-11-09T05:53:03.268655Z",
     "iopub.status.busy": "2020-11-09T05:53:03.268006Z",
     "iopub.status.idle": "2020-11-09T05:59:09.914024Z",
     "shell.execute_reply": "2020-11-09T05:59:09.914552Z"
    },
    "papermill": {
     "duration": 366.805275,
     "end_time": "2020-11-09T05:59:09.914705",
     "exception": false,
     "start_time": "2020-11-09T05:53:03.109430",
     "status": "completed"
    },
    "tags": []
   },
   "outputs": [
    {
     "name": "stdout",
     "output_type": "stream",
     "text": [
      "LogisticRegression(class_weight='balanced', max_iter=1000, penalty='l1',\n",
      "                   random_state=42, solver='liblinear')\n"
     ]
    }
   ],
   "source": [
    "model = LogisticRegression(random_state=42)\n",
    "\n",
    "iter_max = 1000\n",
    "\n",
    "param_grid = [\n",
    "    {'penalty': ['l1'], \n",
    "     'solver': ['liblinear', 'lbfgs'], \n",
    "     'class_weight':['none', 'balanced'], \n",
    "     'multi_class': ['auto','ovr'], \n",
    "     'max_iter':[iter_max]},\n",
    "    {'penalty': ['l2'], \n",
    "     'solver': ['newton-cg', 'lbfgs', 'liblinear', 'sag', 'saga'], \n",
    "     'class_weight':['none', 'balanced'], \n",
    "     'multi_class': ['auto','ovr'], \n",
    "     'max_iter':[iter_max]},\n",
    "    {'penalty': ['none'], \n",
    "     'solver': ['newton-cg', 'lbfgs', 'sag', 'saga'], \n",
    "     'class_weight':['none', 'balanced'], \n",
    "     'multi_class': ['auto','ovr'], \n",
    "     'max_iter':[iter_max]},\n",
    "]\n",
    "\n",
    "gridsearch = GridSearchCV(model, param_grid, scoring='f1', n_jobs=-1)\n",
    "gridsearch.fit(X_train, y_train)\n",
    "model = gridsearch.best_estimator_\n",
    "print(model)"
   ]
  },
  {
   "cell_type": "code",
   "execution_count": 120,
   "metadata": {
    "execution": {
     "iopub.execute_input": "2020-11-09T05:59:10.221941Z",
     "iopub.status.busy": "2020-11-09T05:59:10.220833Z",
     "iopub.status.idle": "2020-11-09T05:59:10.228567Z",
     "shell.execute_reply": "2020-11-09T05:59:10.229047Z"
    },
    "papermill": {
     "duration": 0.164172,
     "end_time": "2020-11-09T05:59:10.229203",
     "exception": false,
     "start_time": "2020-11-09T05:59:10.065031",
     "status": "completed"
    },
    "tags": []
   },
   "outputs": [],
   "source": [
    "y_pred = model.predict_proba(X_test)[:,1]"
   ]
  },
  {
   "cell_type": "code",
   "execution_count": 121,
   "metadata": {
    "execution": {
     "iopub.execute_input": "2020-11-09T05:59:10.533834Z",
     "iopub.status.busy": "2020-11-09T05:59:10.533006Z",
     "iopub.status.idle": "2020-11-09T05:59:10.536700Z",
     "shell.execute_reply": "2020-11-09T05:59:10.537143Z"
    },
    "papermill": {
     "duration": 0.158508,
     "end_time": "2020-11-09T05:59:10.537286",
     "exception": false,
     "start_time": "2020-11-09T05:59:10.378778",
     "status": "completed"
    },
    "tags": []
   },
   "outputs": [
    {
     "data": {
      "text/plain": [
       "Index(['sex', 'age', 'decline_app_cnt', 'good_work', 'score_bki',\n",
       "       'bki_request_cnt', 'income', 'foreign_passport', 'default', 'sample',\n",
       "       'education_is_nan', 'date_diff', 'education_0', 'education_1',\n",
       "       'education_2', 'education_3', 'education_4', 'region_rating_20',\n",
       "       'region_rating_30', 'region_rating_40', 'region_rating_50',\n",
       "       'region_rating_60', 'region_rating_70', 'region_rating_80',\n",
       "       'home_address_1', 'home_address_2', 'home_address_3', 'work_address_1',\n",
       "       'work_address_2', 'work_address_3', 'sna_1', 'sna_2', 'sna_3', 'sna_4',\n",
       "       'first_time_1', 'first_time_2', 'first_time_3', 'first_time_4',\n",
       "       'age_intervals_1', 'age_intervals_2', 'age_intervals_3',\n",
       "       'age_intervals_4', 'car_type2_0', 'car_type2_1', 'car_type2_2'],\n",
       "      dtype='object')"
      ]
     },
     "execution_count": 121,
     "metadata": {},
     "output_type": "execute_result"
    }
   ],
   "source": [
    "train.columns"
   ]
  },
  {
   "cell_type": "code",
   "execution_count": 122,
   "metadata": {
    "execution": {
     "iopub.execute_input": "2020-11-09T05:59:10.848915Z",
     "iopub.status.busy": "2020-11-09T05:59:10.847973Z",
     "iopub.status.idle": "2020-11-09T05:59:11.377690Z",
     "shell.execute_reply": "2020-11-09T05:59:11.377075Z"
    },
    "papermill": {
     "duration": 0.690839,
     "end_time": "2020-11-09T05:59:11.377821",
     "exception": false,
     "start_time": "2020-11-09T05:59:10.686982",
     "status": "completed"
    },
    "tags": []
   },
   "outputs": [
    {
     "data": {
      "text/html": [
       "<div>\n",
       "<style scoped>\n",
       "    .dataframe tbody tr th:only-of-type {\n",
       "        vertical-align: middle;\n",
       "    }\n",
       "\n",
       "    .dataframe tbody tr th {\n",
       "        vertical-align: top;\n",
       "    }\n",
       "\n",
       "    .dataframe thead th {\n",
       "        text-align: right;\n",
       "    }\n",
       "</style>\n",
       "<table border=\"1\" class=\"dataframe\">\n",
       "  <thead>\n",
       "    <tr style=\"text-align: right;\">\n",
       "      <th></th>\n",
       "      <th>client_id</th>\n",
       "      <th>default</th>\n",
       "    </tr>\n",
       "  </thead>\n",
       "  <tbody>\n",
       "    <tr>\n",
       "      <th>0</th>\n",
       "      <td>74835</td>\n",
       "      <td>0.199158</td>\n",
       "    </tr>\n",
       "    <tr>\n",
       "      <th>1</th>\n",
       "      <td>17527</td>\n",
       "      <td>0.816871</td>\n",
       "    </tr>\n",
       "    <tr>\n",
       "      <th>2</th>\n",
       "      <td>75683</td>\n",
       "      <td>0.328210</td>\n",
       "    </tr>\n",
       "    <tr>\n",
       "      <th>3</th>\n",
       "      <td>26883</td>\n",
       "      <td>0.383396</td>\n",
       "    </tr>\n",
       "    <tr>\n",
       "      <th>4</th>\n",
       "      <td>28862</td>\n",
       "      <td>0.148554</td>\n",
       "    </tr>\n",
       "    <tr>\n",
       "      <th>5</th>\n",
       "      <td>99881</td>\n",
       "      <td>0.548908</td>\n",
       "    </tr>\n",
       "    <tr>\n",
       "      <th>6</th>\n",
       "      <td>26630</td>\n",
       "      <td>0.795140</td>\n",
       "    </tr>\n",
       "    <tr>\n",
       "      <th>7</th>\n",
       "      <td>79934</td>\n",
       "      <td>0.181012</td>\n",
       "    </tr>\n",
       "    <tr>\n",
       "      <th>8</th>\n",
       "      <td>16605</td>\n",
       "      <td>0.144230</td>\n",
       "    </tr>\n",
       "    <tr>\n",
       "      <th>9</th>\n",
       "      <td>105449</td>\n",
       "      <td>0.142926</td>\n",
       "    </tr>\n",
       "  </tbody>\n",
       "</table>\n",
       "</div>"
      ],
      "text/plain": [
       "   client_id   default\n",
       "0      74835  0.199158\n",
       "1      17527  0.816871\n",
       "2      75683  0.328210\n",
       "3      26883  0.383396\n",
       "4      28862  0.148554\n",
       "5      99881  0.548908\n",
       "6      26630  0.795140\n",
       "7      79934  0.181012\n",
       "8      16605  0.144230\n",
       "9     105449  0.142926"
      ]
     },
     "metadata": {},
     "output_type": "display_data"
    }
   ],
   "source": [
    "submit = pd.DataFrame(data_test.client_id)\n",
    "submit['default']=y_pred\n",
    "submit.to_csv('submission.csv', index=False)\n",
    "display(submit.head(10))"
   ]
  },
  {
   "cell_type": "code",
   "execution_count": null,
   "metadata": {
    "papermill": {
     "duration": 0.149387,
     "end_time": "2020-11-09T05:59:11.675800",
     "exception": false,
     "start_time": "2020-11-09T05:59:11.526413",
     "status": "completed"
    },
    "tags": []
   },
   "outputs": [],
   "source": []
  }
 ],
 "metadata": {
  "kernelspec": {
   "display_name": "Python 3",
   "language": "python",
   "name": "python3"
  },
  "language_info": {
   "codemirror_mode": {
    "name": "ipython",
    "version": 3
   },
   "file_extension": ".py",
   "mimetype": "text/x-python",
   "name": "python",
   "nbconvert_exporter": "python",
   "pygments_lexer": "ipython3",
   "version": "3.7.6"
  },
  "papermill": {
   "duration": 703.251426,
   "end_time": "2020-11-09T05:59:11.936874",
   "environment_variables": {},
   "exception": null,
   "input_path": "__notebook__.ipynb",
   "output_path": "__notebook__.ipynb",
   "parameters": {},
   "start_time": "2020-11-09T05:47:28.685448",
   "version": "2.1.0"
  }
 },
 "nbformat": 4,
 "nbformat_minor": 4
}
